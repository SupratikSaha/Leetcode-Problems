{
 "cells": [
  {
   "cell_type": "markdown",
   "metadata": {},
   "source": [
    "Problem Statement. <br/>\n",
    "\n",
    "You are given an array prices where prices[i] is the price of a given stock on the ith day, and an integer fee representing a transaction fee.\n",
    "\n",
    "Find the maximum profit you can achieve. You may complete as many transactions as you like, but you need to pay the transaction fee for each transaction.\n",
    "\n",
    "Note:\n",
    "\n",
    "    You may not engage in multiple transactions simultaneously (i.e., you must sell the stock before you buy again).\n",
    "    The transaction fee is only charged once for each stock purchase and sale.\n",
    "\n",
    "\n",
    "Example 1:\n",
    "\n",
    "Input: prices = [1,3,2,8,4,9], fee = 2\n",
    "Output: 8\n",
    "Explanation: The maximum profit can be achieved by:\n",
    "- Buying at prices[0] = 1\n",
    "- Selling at prices[3] = 8\n",
    "- Buying at prices[4] = 4\n",
    "- Selling at prices[5] = 9\n",
    "The total profit is ((8 - 1) - 2) + ((9 - 4) - 2) = 8.\n",
    "\n",
    "Example 2:\n",
    "\n",
    "Input: prices = [1,3,7,5,10,3], fee = 3\n",
    "Output: 6\n",
    "\n",
    "Constraints:\n",
    "\n",
    "    1 <= prices.length <= 5 * 104\n",
    "    1 <= prices[i] < 5 * 104\n",
    "    0 <= fee < 5 * 104"
   ]
  },
  {
   "cell_type": "markdown",
   "metadata": {},
   "source": [
    "# DP -  O(N), O(1) space"
   ]
  },
  {
   "cell_type": "code",
   "execution_count": 3,
   "metadata": {},
   "outputs": [],
   "source": [
    "from typing import List\n",
    "\n",
    "class Solution:\n",
    "    def maxProfit(self, prices: List[int], fee: int) -> int:\n",
    "        n = len(prices)\n",
    "        hold, free = -prices[0], 0\n",
    "\n",
    "        for i in range(1, n):\n",
    "            tmp = hold\n",
    "            hold = max(hold, free - prices[i])\n",
    "            free = max(free, tmp + prices[i] - fee)\n",
    "\n",
    "        return free"
   ]
  },
  {
   "cell_type": "code",
   "execution_count": 5,
   "metadata": {},
   "outputs": [
    {
     "data": {
      "text/plain": [
       "8"
      ]
     },
     "execution_count": 5,
     "metadata": {},
     "output_type": "execute_result"
    }
   ],
   "source": [
    "instance = Solution()\n",
    "instance.maxProfit( [1,3,2,8,4,9], 2)"
   ]
  }
 ],
 "metadata": {
  "kernelspec": {
   "display_name": "Python [conda env:base] *",
   "language": "python",
   "name": "conda-base-py"
  },
  "language_info": {
   "codemirror_mode": {
    "name": "ipython",
    "version": 3
   },
   "file_extension": ".py",
   "mimetype": "text/x-python",
   "name": "python",
   "nbconvert_exporter": "python",
   "pygments_lexer": "ipython3",
   "version": "3.12.7"
  }
 },
 "nbformat": 4,
 "nbformat_minor": 4
}
