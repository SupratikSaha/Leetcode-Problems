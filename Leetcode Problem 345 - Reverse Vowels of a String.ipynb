{
 "cells": [
  {
   "cell_type": "markdown",
   "metadata": {},
   "source": [
    "Problem Statement <br/>\n",
    "\n",
    "Given a string s, reverse only all the vowels in the string and return it.\n",
    "The vowels are 'a', 'e', 'i', 'o', and 'u', and they can appear in both lower and upper cases, more than once.\n",
    "\n",
    "Example 1:\n",
    "Input: s = \"IceCreAm\"\n",
    "Output: \"AceCreIm\"\n",
    "\n",
    "Explanation:\n",
    "The vowels in s are ['I', 'e', 'e', 'A']. On reversing the vowels, s becomes \"AceCreIm\".\n",
    "\n",
    "Example 2:\n",
    "Input: s = \"leetcode\"\n",
    "Output: \"leotcede\"\n",
    "\n",
    "\n",
    "Constraints:\n",
    "\n",
    "    1 <= s.length <= 3 * 105\n",
    "    s consist of printable ASCII characters.\n",
    "\n"
   ]
  },
  {
   "cell_type": "markdown",
   "metadata": {},
   "source": [
    "# Two Pointers - O(N) runtime, O(N) space"
   ]
  },
  {
   "cell_type": "code",
   "execution_count": 5,
   "metadata": {},
   "outputs": [],
   "source": [
    "class Solution:\n",
    "    def reverseVowels(self, s: str) -> str:\n",
    "        word = list(s)\n",
    "        vowels = {'a','e','i','o','u', 'A', 'E', 'I', 'O', 'U'}\n",
    "        i, j = 0, len(s) - 1\n",
    "        \n",
    "        while i < j:\n",
    "            while i < j and word[i] not in vowels:\n",
    "                i += 1\n",
    "            while i < j and word[j] not in vowels:\n",
    "                j -= 1\n",
    "            if i < j:\n",
    "                word[i], word[j] = word[j], word[i]\n",
    "                i += 1\n",
    "                j -= 1\n",
    "\n",
    "        return ''.join(word)"
   ]
  },
  {
   "cell_type": "code",
   "execution_count": 7,
   "metadata": {},
   "outputs": [
    {
     "data": {
      "text/plain": [
       "'AceCreIm'"
      ]
     },
     "execution_count": 7,
     "metadata": {},
     "output_type": "execute_result"
    }
   ],
   "source": [
    "instance = Solution()\n",
    "instance.reverseVowels(\"IceCreAm\")"
   ]
  }
 ],
 "metadata": {
  "kernelspec": {
   "display_name": "Python [conda env:base] *",
   "language": "python",
   "name": "conda-base-py"
  },
  "language_info": {
   "codemirror_mode": {
    "name": "ipython",
    "version": 3
   },
   "file_extension": ".py",
   "mimetype": "text/x-python",
   "name": "python",
   "nbconvert_exporter": "python",
   "pygments_lexer": "ipython3",
   "version": "3.12.7"
  }
 },
 "nbformat": 4,
 "nbformat_minor": 4
}
