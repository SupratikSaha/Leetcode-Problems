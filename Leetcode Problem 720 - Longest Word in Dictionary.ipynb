{
 "cells": [
  {
   "cell_type": "markdown",
   "metadata": {},
   "source": [
    "Problem Statement.\n",
    "\n",
    "Given an array of strings words representing an English Dictionary, return the longest word in words that can be built one character at a time by other words in words.\n",
    "\n",
    "If there is more than one possible answer, return the longest word with the smallest lexicographical order. If there is no answer, return the empty string.\n",
    "\n",
    "Note that the word should be built from left to right with each additional character being added to the end of a previous word. \n",
    "\n",
    " \n",
    "\n",
    "Example 1:\n",
    "\n",
    "Input: words = [\"w\",\"wo\",\"wor\",\"worl\",\"world\"]\n",
    "Output: \"world\"\n",
    "Explanation: The word \"world\" can be built one character at a time by \"w\", \"wo\", \"wor\", and \"worl\".\n",
    "\n",
    "Example 2:\n",
    "\n",
    "Input: words = [\"a\",\"banana\",\"app\",\"appl\",\"ap\",\"apply\",\"apple\"]\n",
    "Output: \"apple\"\n",
    "Explanation: Both \"apply\" and \"apple\" can be built from other words in the dictionary. However, \"apple\" is lexicographically smaller than \"apply\". "
   ]
  },
  {
   "cell_type": "markdown",
   "metadata": {},
   "source": [
    "# Depth-First Search - O(∑Wi) runtime, O(∑Wi) space where Wi is the length of the ith word"
   ]
  },
  {
   "cell_type": "code",
   "execution_count": 3,
   "metadata": {},
   "outputs": [],
   "source": [
    "from typing import List\n",
    "\n",
    "class Solution:\n",
    "    def longestWord(self, words: List[str]) -> str:\n",
    "        trie = {}\n",
    "\n",
    "        for word in words:\n",
    "            cur = trie\n",
    "            for letter in word:\n",
    "                if letter not in cur: cur[letter] = {}\n",
    "                cur = cur[letter]\n",
    "            cur['$'] = True\n",
    "            \n",
    "        res = ''\n",
    "        for word in words:\n",
    "            if len(word) < len(res): continue\n",
    "            cur = trie\n",
    "\n",
    "            for letter in word:\n",
    "                cur = cur[letter]\n",
    "                if '$' not in cur: break\n",
    "\n",
    "            if '$' in cur and (len(word) > len(res) or (len(word) == len(res) and word < res)):\n",
    "                res = word        \n",
    "            \n",
    "        return res"
   ]
  },
  {
   "cell_type": "code",
   "execution_count": 5,
   "metadata": {},
   "outputs": [
    {
     "data": {
      "text/plain": [
       "'apple'"
      ]
     },
     "execution_count": 5,
     "metadata": {},
     "output_type": "execute_result"
    }
   ],
   "source": [
    "instance = Solution()\n",
    "instance.longestWord( [\"a\",\"banana\",\"app\",\"appl\",\"ap\",\"apply\",\"apple\"])"
   ]
  }
 ],
 "metadata": {
  "kernelspec": {
   "display_name": "Python [conda env:base] *",
   "language": "python",
   "name": "conda-base-py"
  },
  "language_info": {
   "codemirror_mode": {
    "name": "ipython",
    "version": 3
   },
   "file_extension": ".py",
   "mimetype": "text/x-python",
   "name": "python",
   "nbconvert_exporter": "python",
   "pygments_lexer": "ipython3",
   "version": "3.12.7"
  }
 },
 "nbformat": 4,
 "nbformat_minor": 4
}
