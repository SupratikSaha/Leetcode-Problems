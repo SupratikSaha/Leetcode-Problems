{
 "cells": [
  {
   "cell_type": "markdown",
   "metadata": {},
   "source": [
    "Table: Logs\n",
    "\n",
    "<br/>+-------------+---------+\n",
    "<br/>| Column Name | Type    |\n",
    "<br/>+-------------+---------+\n",
    "<br/>| id          | int     |\n",
    "<br/>| num         | varchar |\n",
    "<br/>+-------------+---------+\n",
    "<br/>In SQL, id is the primary key for this table.\n",
    "id is an autoincrement column starting from 1.\n",
    "\n",
    " \n",
    "\n",
    "Find all numbers that appear at least three times consecutively.\n",
    "\n",
    "Return the result table in any order.\n",
    "\n",
    "The result format is in the following example.\n",
    "\n",
    " \n",
    "\n",
    "Example 1:\n",
    "\n",
    "Input: \n",
    "Logs table:\n",
    "<br/>+----+-----+\n",
    "<br/>| id | num |\n",
    "<br/>+----+-----+\n",
    "<br/>| 1  | 1   |\n",
    "<br/>| 2  | 1   |\n",
    "<br/>| 3  | 1   |\n",
    "<br/>| 4  | 2   |\n",
    "<br/>| 5  | 1   |\n",
    "<br/>| 6  | 2   |\n",
    "<br/>| 7  | 2   |\n",
    "<br/>+----+-----+\n",
    "<br/>Output: \n",
    "<br/>+-----------------+\n",
    "<br/>| ConsecutiveNums |\n",
    "<br/>+-----------------+\n",
    "<br/>| 1               |\n",
    "<br/>+-----------------+\n",
    "<br/>Explanation: 1 is the only number that appears consecutively for at least three times.\n",
    "\n"
   ]
  },
  {
   "cell_type": "markdown",
   "metadata": {},
   "source": [
    "# Distinct"
   ]
  },
  {
   "cell_type": "code",
   "execution_count": null,
   "metadata": {},
   "outputs": [],
   "source": [
    "SELECT\n",
    "    DISTINCT(a.num) AS ConsecutiveNums\n",
    "FROM Logs a\n",
    "JOIN Logs b\n",
    "ON a.id + 1 = b.id AND a.num = b.num\n",
    "JOIN Logs c\n",
    "ON a.id + 2 = c.id AND a.num = c.num"
   ]
  }
 ],
 "metadata": {
  "kernelspec": {
   "display_name": "Python [conda env:base] *",
   "language": "python",
   "name": "conda-base-py"
  },
  "language_info": {
   "codemirror_mode": {
    "name": "ipython",
    "version": 3
   },
   "file_extension": ".py",
   "mimetype": "text/x-python",
   "name": "python",
   "nbconvert_exporter": "python",
   "pygments_lexer": "ipython3",
   "version": "3.12.7"
  }
 },
 "nbformat": 4,
 "nbformat_minor": 4
}
