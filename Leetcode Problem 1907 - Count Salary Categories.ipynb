{
 "cells": [
  {
   "cell_type": "markdown",
   "metadata": {},
   "source": [
    "    Problem Statement.\n",
    "    \n",
    "    Table: Accounts\n",
    "    \n",
    "    +-------------+------+\n",
    "    | Column Name | Type |\n",
    "    +-------------+------+\n",
    "    | account_id  | int  |\n",
    "    | income      | int  |\n",
    "    +-------------+------+\n",
    "    account_id is the primary key (column with unique values) for this table.\n",
    "    Each row contains information about the monthly income for one bank account.\n",
    "    \n",
    "     \n",
    "    \n",
    "    Write a solution to calculate the number of bank accounts for each salary category. The salary categories are:\n",
    "    \n",
    "        \"Low Salary\": All the salaries strictly less than $20000.\n",
    "        \"Average Salary\": All the salaries in the inclusive range [$20000, $50000].\n",
    "        \"High Salary\": All the salaries strictly greater than $50000.\n",
    "    \n",
    "    The result table must contain all three categories. If there are no accounts in a category, return 0.\n",
    "    \n",
    "    Return the result table in any order.\n",
    "    \n",
    "    The result format is in the following example.\n",
    "    \n",
    "     \n",
    "    \n",
    "    Example 1:\n",
    "    \n",
    "    Input: \n",
    "    Accounts table:\n",
    "    +------------+--------+\n",
    "    | account_id | income |\n",
    "    +------------+--------+\n",
    "    | 3          | 108939 |\n",
    "    | 2          | 12747  |\n",
    "    | 8          | 87709  |\n",
    "    | 6          | 91796  |\n",
    "    +------------+--------+\n",
    "    Output: \n",
    "    +----------------+----------------+\n",
    "    | category       | accounts_count |\n",
    "    +----------------+----------------+\n",
    "    | Low Salary     | 1              |\n",
    "    | Average Salary | 0              |\n",
    "    | High Salary    | 3              |\n",
    "    +----------------+----------------+\n",
    "    Explanation: \n",
    "    Low Salary: Account 2.\n",
    "    Average Salary: No accounts.\n",
    "    High Salary: Accounts 3, 6, and 8.\n",
    "    \n"
   ]
  },
  {
   "cell_type": "markdown",
   "metadata": {},
   "source": [
    "# UNION"
   ]
  },
  {
   "cell_type": "code",
   "execution_count": 1,
   "metadata": {},
   "outputs": [],
   "source": [
    "SELECT \n",
    "    \"Low Salary\" AS category,\n",
    "    SUM(CASE WHEN income < 20000 THEN 1 ELSE 0 END) AS accounts_count\n",
    "FROM \n",
    "    Accounts\n",
    "    \n",
    "UNION\n",
    "SELECT  \n",
    "    \"Average Salary\" category,\n",
    "    SUM(CASE WHEN income >= 20000 AND income <= 50000 THEN 1 ELSE 0 END) \n",
    "    AS accounts_count\n",
    "FROM \n",
    "    Accounts\n",
    "\n",
    "UNION\n",
    "SELECT \n",
    "    \"High Salary\" category,\n",
    "    SUM(CASE WHEN income > 50000 THEN 1 ELSE 0 END) AS accounts_count\n",
    "FROM \n",
    "    Accounts"
   ]
  },
  {
   "cell_type": "markdown",
   "metadata": {},
   "source": [
    "# JOIN"
   ]
  },
  {
   "cell_type": "code",
   "execution_count": 2,
   "metadata": {},
   "outputs": [
    {
     "data": {
      "text/plain": [
       "3"
      ]
     },
     "execution_count": 2,
     "metadata": {},
     "output_type": "execute_result"
    }
   ],
   "source": [
    "WITH data AS (\n",
    "    SELECT\n",
    "        CASE WHEN income < 20000 THEN \"Low Salary\"\n",
    "            WHEN income BETWEEN 20000 AND 50000 THEN \"Average Salary\"\n",
    "            ELSE \"High Salary\"\n",
    "        END AS category,\n",
    "        COUNT(*) AS accounts_count\n",
    "    FROM Accounts\n",
    "    GROUP BY 1\n",
    "),\n",
    "categories AS (\n",
    "    SELECT \"Low Salary\" AS category\n",
    "    UNION\n",
    "    SELECT \"Average Salary\" AS category\n",
    "    UNION\n",
    "    SELECT \"High Salary\" AS category\n",
    ")\n",
    "SELECT\n",
    "    c.category,\n",
    "    COALESCE(d.accounts_count, 0) AS accounts_count\n",
    "FROM categories c\n",
    "LEFT JOIN data d\n",
    "ON c.category = d.category"
   ]
  }
 ],
 "metadata": {
  "kernelspec": {
   "display_name": "Python [conda env:base] *",
   "language": "python",
   "name": "conda-base-py"
  },
  "language_info": {
   "codemirror_mode": {
    "name": "ipython",
    "version": 3
   },
   "file_extension": ".py",
   "mimetype": "text/x-python",
   "name": "python",
   "nbconvert_exporter": "python",
   "pygments_lexer": "ipython3",
   "version": "3.12.7"
  }
 },
 "nbformat": 4,
 "nbformat_minor": 4
}
