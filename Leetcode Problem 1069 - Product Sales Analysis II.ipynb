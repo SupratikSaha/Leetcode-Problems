{
 "cells": [
  {
   "cell_type": "markdown",
   "metadata": {},
   "source": [
    "        Problem Statement.\n",
    "    \n",
    "        Table: Sales\n",
    "    \n",
    "    +-------------+-------+\n",
    "    | Column Name | Type  |\n",
    "    +-------------+-------+\n",
    "    | sale_id     | int   |\n",
    "    | product_id  | int   |\n",
    "    | year        | int   |\n",
    "    | quantity    | int   |\n",
    "    | price       | int   |\n",
    "    +-------------+-------+\n",
    "    (sale_id, year) is the primary key (combination of columns with unique values) of this table.\n",
    "    product_id is a foreign key (reference column) to Product table.\n",
    "    Each row of this table shows a sale on the product product_id in a certain year.\n",
    "    Note that the price is per unit.\n",
    "    \n",
    "     \n",
    "    \n",
    "    Table: Product\n",
    "    \n",
    "    +--------------+---------+\n",
    "    | Column Name  | Type    |\n",
    "    +--------------+---------+\n",
    "    | product_id   | int     |\n",
    "    | product_name | varchar |\n",
    "    +--------------+---------+\n",
    "    product_id is the primary key (column with unique values) of this table.\n",
    "    Each row of this table indicates the product name of each product.\n",
    "    \n",
    "     \n",
    "    \n",
    "    Write a solution that reports the total quantity sold for every product id.\n",
    "    \n",
    "    Return the resulting table in any order.\n",
    "    \n",
    "    The result format is in the following example.\n",
    "    \n",
    "     \n",
    "    \n",
    "    Example 1:\n",
    "    \n",
    "    Input: \n",
    "    Sales table:\n",
    "    +---------+------------+------+----------+-------+\n",
    "    | sale_id | product_id | year | quantity | price |\n",
    "    +---------+------------+------+----------+-------+ \n",
    "    | 1       | 100        | 2008 | 10       | 5000  |\n",
    "    | 2       | 100        | 2009 | 12       | 5000  |\n",
    "    | 7       | 200        | 2011 | 15       | 9000  |\n",
    "    +---------+------------+------+----------+-------+\n",
    "    Product table:\n",
    "    +------------+--------------+\n",
    "    | product_id | product_name |\n",
    "    +------------+--------------+\n",
    "    | 100        | Nokia        |\n",
    "    | 200        | Apple        |\n",
    "    | 300        | Samsung      |\n",
    "    +------------+--------------+\n",
    "    Output: \n",
    "    +--------------+----------------+\n",
    "    | product_id   | total_quantity |\n",
    "    +--------------+----------------+\n",
    "    | 100          | 22             |\n",
    "    | 200          | 15             |\n",
    "    +--------------+----------------+"
   ]
  },
  {
   "cell_type": "markdown",
   "metadata": {},
   "source": [
    "# GROUP BY"
   ]
  },
  {
   "cell_type": "code",
   "execution_count": null,
   "metadata": {},
   "outputs": [],
   "source": [
    "SELECT\n",
    "    product_id,\n",
    "    SUM(quantity) AS total_quantity\n",
    "FROM Sales\n",
    "GROUP BY product_id"
   ]
  }
 ],
 "metadata": {
  "kernelspec": {
   "display_name": "Python [conda env:base] *",
   "language": "python",
   "name": "conda-base-py"
  },
  "language_info": {
   "codemirror_mode": {
    "name": "ipython",
    "version": 3
   },
   "file_extension": ".py",
   "mimetype": "text/x-python",
   "name": "python",
   "nbconvert_exporter": "python",
   "pygments_lexer": "ipython3",
   "version": "3.12.7"
  }
 },
 "nbformat": 4,
 "nbformat_minor": 4
}
