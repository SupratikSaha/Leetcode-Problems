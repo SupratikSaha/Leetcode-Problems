{
 "cells": [
  {
   "cell_type": "markdown",
   "metadata": {},
   "source": [
    "    Problem Statement.\n",
    "    \n",
    "    Table: Players\n",
    "    \n",
    "    +----------------+---------+\n",
    "    | Column Name    | Type    |\n",
    "    +----------------+---------+\n",
    "    | player_id      | int     |\n",
    "    | player_name    | varchar |\n",
    "    +----------------+---------+\n",
    "    player_id is the primary key (column with unique values) for this table.\n",
    "    Each row in this table contains the name and the ID of a tennis player.\n",
    "    \n",
    "     \n",
    "    \n",
    "    Table: Championships\n",
    "    \n",
    "    +---------------+---------+\n",
    "    | Column Name   | Type    |\n",
    "    +---------------+---------+\n",
    "    | year          | int     |\n",
    "    | Wimbledon     | int     |\n",
    "    | Fr_open       | int     |\n",
    "    | US_open       | int     |\n",
    "    | Au_open       | int     |\n",
    "    +---------------+---------+\n",
    "    year is the primary key (column with unique values) for this table.\n",
    "    Each row of this table contains the IDs of the players who won one each tennis tournament of the grand slam.\n",
    "    \n",
    "     \n",
    "    \n",
    "    Write a solution to report the number of grand slam tournaments won by each player. Do not include the players who did not win any tournament.\n",
    "    \n",
    "    Return the result table in any order.\n",
    "    \n",
    "    The result format is in the following example.\n",
    "    \n",
    "     \n",
    "    \n",
    "    Example 1:\n",
    "    \n",
    "    Input: \n",
    "    Players table:\n",
    "    +-----------+-------------+\n",
    "    | player_id | player_name |\n",
    "    +-----------+-------------+\n",
    "    | 1         | Nadal       |\n",
    "    | 2         | Federer     |\n",
    "    | 3         | Novak       |\n",
    "    +-----------+-------------+\n",
    "    Championships table:\n",
    "    +------+-----------+---------+---------+---------+\n",
    "    | year | Wimbledon | Fr_open | US_open | Au_open |\n",
    "    +------+-----------+---------+---------+---------+\n",
    "    | 2018 | 1         | 1       | 1       | 1       |\n",
    "    | 2019 | 1         | 1       | 2       | 2       |\n",
    "    | 2020 | 2         | 1       | 2       | 2       |\n",
    "    +------+-----------+---------+---------+---------+\n",
    "    Output: \n",
    "    +-----------+-------------+-------------------+\n",
    "    | player_id | player_name | grand_slams_count |\n",
    "    +-----------+-------------+-------------------+\n",
    "    | 2         | Federer     | 5                 |\n",
    "    | 1         | Nadal       | 7                 |\n",
    "    +-----------+-------------+-------------------+\n",
    "    Explanation: \n",
    "    Player 1 (Nadal) won 7 titles: Wimbledon (2018, 2019), Fr_open (2018, 2019, 2020), US_open (2018), and Au_open (2018).\n",
    "    Player 2 (Federer) won 5 titles: Wimbledon (2020), US_open (2019, 2020), and Au_open (2019, 2020).\n",
    "    Player 3 (Novak) did not win anything, we did not include them in the result table."
   ]
  },
  {
   "cell_type": "markdown",
   "metadata": {},
   "source": [
    "# SUM"
   ]
  },
  {
   "cell_type": "code",
   "execution_count": 3,
   "metadata": {},
   "outputs": [],
   "source": [
    "SELECT \n",
    "    player_id,\n",
    "    player_name,\n",
    "    SUM(player_id=Wimbledon)+SUM(player_id=Fr_open)+SUM(player_id=US_open)+SUM(player_id=Au_open) AS grand_slams_count\n",
    "FROM Players\n",
    "JOIN Championships\n",
    "ON player_id=Wimbledon OR player_id=Fr_open OR player_id=US_open OR player_id=Au_open\n",
    "GROUP BY player_id"
   ]
  }
 ],
 "metadata": {
  "kernelspec": {
   "display_name": "Python [conda env:base] *",
   "language": "python",
   "name": "conda-base-py"
  },
  "language_info": {
   "codemirror_mode": {
    "name": "ipython",
    "version": 3
   },
   "file_extension": ".py",
   "mimetype": "text/x-python",
   "name": "python",
   "nbconvert_exporter": "python",
   "pygments_lexer": "ipython3",
   "version": "3.12.7"
  }
 },
 "nbformat": 4,
 "nbformat_minor": 4
}
