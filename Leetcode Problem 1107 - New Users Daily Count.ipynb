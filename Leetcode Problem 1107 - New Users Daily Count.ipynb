{
 "cells": [
  {
   "cell_type": "markdown",
   "metadata": {},
   "source": [
    "    Problem Statement.\n",
    "    \n",
    "    Table: Traffic\n",
    "    \n",
    "    +---------------+---------+\n",
    "    | Column Name   | Type    |\n",
    "    +---------------+---------+\n",
    "    | user_id       | int     |\n",
    "    | activity      | enum    |\n",
    "    | activity_date | date    |\n",
    "    +---------------+---------+\n",
    "    This table may have duplicate rows.\n",
    "    The activity column is an ENUM (category) type of ('login', 'logout', 'jobs', 'groups', 'homepage').\n",
    "    \n",
    "     \n",
    "    \n",
    "    Write a solution to reports for every date within at most 90 days from today, the number of users that logged in for the first time on that date. Assume today is 2019-06-30.\n",
    "    \n",
    "    Return the result table in any order.\n",
    "    \n",
    "    The result format is in the following example.\n",
    "    \n",
    "     \n",
    "    \n",
    "    Example 1:\n",
    "    \n",
    "    Input: \n",
    "    Traffic table:\n",
    "    +---------+----------+---------------+\n",
    "    | user_id | activity | activity_date |\n",
    "    +---------+----------+---------------+\n",
    "    | 1       | login    | 2019-05-01    |\n",
    "    | 1       | homepage | 2019-05-01    |\n",
    "    | 1       | logout   | 2019-05-01    |\n",
    "    | 2       | login    | 2019-06-21    |\n",
    "    | 2       | logout   | 2019-06-21    |\n",
    "    | 3       | login    | 2019-01-01    |\n",
    "    | 3       | jobs     | 2019-01-01    |\n",
    "    | 3       | logout   | 2019-01-01    |\n",
    "    | 4       | login    | 2019-06-21    |\n",
    "    | 4       | groups   | 2019-06-21    |\n",
    "    | 4       | logout   | 2019-06-21    |\n",
    "    | 5       | login    | 2019-03-01    |\n",
    "    | 5       | logout   | 2019-03-01    |\n",
    "    | 5       | login    | 2019-06-21    |\n",
    "    | 5       | logout   | 2019-06-21    |\n",
    "    +---------+----------+---------------+\n",
    "    Output: \n",
    "    +------------+-------------+\n",
    "    | login_date | user_count  |\n",
    "    +------------+-------------+\n",
    "    | 2019-05-01 | 1           |\n",
    "    | 2019-06-21 | 2           |\n",
    "    +------------+-------------+\n",
    "    Explanation: \n",
    "    Note that we only care about dates with non zero user count.\n",
    "    The user with id 5 first logged in on 2019-03-01 so he's not counted on 2019-06-21.\n",
    "    \n"
   ]
  },
  {
   "cell_type": "markdown",
   "metadata": {},
   "source": [
    "# HAVING"
   ]
  },
  {
   "cell_type": "markdown",
   "metadata": {},
   "source": [
    "WITH first_login AS(\n",
    "    SELECT \n",
    "        user_id,\n",
    "        MIN(activity_date) AS login_date\n",
    "    FROM Traffic\n",
    "    WHERE activity = 'login'\n",
    "    GROUP BY user_id\n",
    "    HAVING DATEDIFF('2019-06-30', MIN(activity_date)) <= 90\n",
    ")\n",
    "SELECT\n",
    "    login_date,\n",
    "    COUNT(*) AS user_count\n",
    "FROM first_login\n",
    "GROUP BY login_date"
   ]
  },
  {
   "cell_type": "markdown",
   "metadata": {},
   "source": [
    "# WINDOW FUNCTION"
   ]
  },
  {
   "cell_type": "code",
   "execution_count": null,
   "metadata": {},
   "outputs": [],
   "source": [
    "WITH first_login AS( \n",
    "    SELECT \n",
    "      *, \n",
    "      RANK() OVER (PARTITION BY user_id ORDER BY activity_date ASC) AS rnk \n",
    "    FROM Traffic \n",
    "    WHERE activity = 'login'\n",
    ")\n",
    "SELECT\n",
    "    activity_date AS login_date,\n",
    "    COUNT(DISTINCT user_id) AS user_count\n",
    "FROM first_login\n",
    "WHERE rnk = 1 AND DATEDIFF('2019-06-30', activity_date) <= 90\n",
    "GROUP BY activity_date"
   ]
  }
 ],
 "metadata": {
  "kernelspec": {
   "display_name": "Python [conda env:base] *",
   "language": "python",
   "name": "conda-base-py"
  },
  "language_info": {
   "codemirror_mode": {
    "name": "ipython",
    "version": 3
   },
   "file_extension": ".py",
   "mimetype": "text/x-python",
   "name": "python",
   "nbconvert_exporter": "python",
   "pygments_lexer": "ipython3",
   "version": "3.12.7"
  }
 },
 "nbformat": 4,
 "nbformat_minor": 4
}
