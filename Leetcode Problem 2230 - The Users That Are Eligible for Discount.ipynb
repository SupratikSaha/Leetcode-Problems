{
 "cells": [
  {
   "cell_type": "markdown",
   "metadata": {},
   "source": [
    "    Problem Statement.\n",
    "    \n",
    "    Table: Purchases\n",
    "    \n",
    "    +-------------+----------+\n",
    "    | Column Name | Type     |\n",
    "    +-------------+----------+\n",
    "    | user_id     | int      |\n",
    "    | time_stamp  | datetime |\n",
    "    | amount      | int      |\n",
    "    +-------------+----------+\n",
    "    (user_id, time_stamp) is the primary key (combination of columns with unique values) for this table.\n",
    "    Each row contains information about the purchase time and the amount paid for the user with ID user_id.\n",
    "    \n",
    "     \n",
    "    \n",
    "    A user is eligible for a discount if they had a purchase in the inclusive interval of time [startDate, endDate] with at least minAmount amount. To convert the dates to times, both dates should be considered as the start of the day (i.e., endDate = 2022-03-05 should be considered as the time 2022-03-05 00:00:00).\n",
    "    \n",
    "    Write a solution to report the IDs of the users that are eligible for a discount.\n",
    "    \n",
    "    Return the result table ordered by user_id.\n",
    "    \n",
    "    The result format is in the following example.\n",
    "    \n",
    "     \n",
    "    \n",
    "    Example 1:\n",
    "    \n",
    "    Input:\n",
    "    Purchases table:\n",
    "    +---------+---------------------+--------+\n",
    "    | user_id | time_stamp          | amount |\n",
    "    +---------+---------------------+--------+\n",
    "    | 1       | 2022-04-20 09:03:00 | 4416   |\n",
    "    | 2       | 2022-03-19 19:24:02 | 678    |\n",
    "    | 3       | 2022-03-18 12:03:09 | 4523   |\n",
    "    | 3       | 2022-03-30 09:43:42 | 626    |\n",
    "    +---------+---------------------+--------+\n",
    "    startDate = 2022-03-08, endDate = 2022-03-20, minAmount = 1000\n",
    "    Output:\n",
    "    +---------+\n",
    "    | user_id |\n",
    "    +---------+\n",
    "    | 3       |\n",
    "    +---------+\n",
    "    Explanation:\n",
    "    Out of the three users, only User 3 is eligible for a discount.\n",
    "     - User 1 had one purchase with at least minAmount amount, but not within the time interval.\n",
    "     - User 2 had one purchase within the time interval, but with less than minAmount amount.\n",
    "     - User 3 is the only user who had a purchase that satisfies both conditions.\n"
   ]
  },
  {
   "cell_type": "markdown",
   "metadata": {},
   "source": [
    "# BETWEEN"
   ]
  },
  {
   "cell_type": "code",
   "execution_count": 16,
   "metadata": {},
   "outputs": [],
   "source": [
    "CREATE PROCEDURE getUserIDs(startDate DATE, endDate DATE, minAmount INT)\n",
    "BEGIN\n",
    "\t# Write your MySQL query statement below.\n",
    "    SELECT\n",
    "        DISTINCT user_id\n",
    "    FROM Purchases\n",
    "    WHERE time_stamp BETWEEN startDate AND endDate\n",
    "          AND amount >= minAmount\n",
    "    ORDER BY user_id;\n",
    "END"
   ]
  }
 ],
 "metadata": {
  "kernelspec": {
   "display_name": "Python [conda env:base] *",
   "language": "python",
   "name": "conda-base-py"
  },
  "language_info": {
   "codemirror_mode": {
    "name": "ipython",
    "version": 3
   },
   "file_extension": ".py",
   "mimetype": "text/x-python",
   "name": "python",
   "nbconvert_exporter": "python",
   "pygments_lexer": "ipython3",
   "version": "3.12.7"
  }
 },
 "nbformat": 4,
 "nbformat_minor": 4
}
