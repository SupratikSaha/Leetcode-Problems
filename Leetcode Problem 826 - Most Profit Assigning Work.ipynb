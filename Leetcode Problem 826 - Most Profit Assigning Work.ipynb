{
 "cells": [
  {
   "cell_type": "markdown",
   "metadata": {},
   "source": [
    "Problem Statement.\n",
    "\n",
    "You have n jobs and m workers. You are given three arrays: difficulty, profit, and worker where:\n",
    "\n",
    "    difficulty[i] and profit[i] are the difficulty and the profit of the ith job, and\n",
    "    worker[j] is the ability of jth worker (i.e., the jth worker can only complete a job with difficulty at most worker[j]).\n",
    "\n",
    "Every worker can be assigned at most one job, but one job can be completed multiple times.\n",
    "\n",
    "    For example, if three workers attempt the same job that pays $1, then the total profit will be $3. If a worker cannot complete any job, their profit is $0.\n",
    "\n",
    "Return the maximum profit we can achieve after assigning the workers to the jobs.\n",
    "\n",
    " \n",
    "\n",
    "Example 1:\n",
    "\n",
    "Input: difficulty = [2,4,6,8,10], profit = [10,20,30,40,50], worker = [4,5,6,7]\n",
    "Output: 100\n",
    "Explanation: Workers are assigned jobs of difficulty [4,4,6,6] and they get a profit of [20,20,30,30] separately.\n",
    "\n",
    "Example 2:\n",
    "\n",
    "Input: difficulty = [85,47,57], profit = [24,66,99], worker = [40,25,25]\n",
    "Output: 0\n",
    "\n",
    " \n",
    "\n",
    "Constraints:\n",
    "\n",
    "    n == difficulty.length\n",
    "    n == profit.length\n",
    "    m == worker.length\n",
    "    1 <= n, m <= 104\n",
    "    1 <= difficulty[i], profit[i], worker[i] <= 105"
   ]
  },
  {
   "cell_type": "markdown",
   "metadata": {},
   "source": [
    "# Memoization - O(N + M + A) runtime, O(A) space, where N is the number of jobs, M is the number of workers and A is the max ability of the workers"
   ]
  },
  {
   "cell_type": "code",
   "execution_count": 3,
   "metadata": {},
   "outputs": [],
   "source": [
    "from typing import List\n",
    "\n",
    "class Solution:\n",
    "    def maxProfitAssignment(self, difficulty: List[int], profit: List[int], worker: List[int]) -> int:\n",
    "        max_ability = max(worker)\n",
    "        jobs = [0] * (max_ability + 1)\n",
    "\n",
    "        for d, p in zip(difficulty, profit):\n",
    "            if d <= max_ability:\n",
    "                jobs[d] = max(jobs[d], p)\n",
    "\n",
    "        for i in range(1, max_ability + 1):\n",
    "            jobs[i] = max(jobs[i], jobs[i-1])\n",
    "\n",
    "        max_profit = 0\n",
    "        for a in worker:\n",
    "            max_profit += jobs[a]\n",
    "\n",
    "        return max_profit"
   ]
  },
  {
   "cell_type": "code",
   "execution_count": 7,
   "metadata": {},
   "outputs": [
    {
     "data": {
      "text/plain": [
       "100"
      ]
     },
     "execution_count": 7,
     "metadata": {},
     "output_type": "execute_result"
    }
   ],
   "source": [
    "instance = Solution()\n",
    "instance.maxProfitAssignment([2,4,6,8,10], [10,20,30,40,50], [4,5,6,7])"
   ]
  }
 ],
 "metadata": {
  "kernelspec": {
   "display_name": "Python [conda env:base] *",
   "language": "python",
   "name": "conda-base-py"
  },
  "language_info": {
   "codemirror_mode": {
    "name": "ipython",
    "version": 3
   },
   "file_extension": ".py",
   "mimetype": "text/x-python",
   "name": "python",
   "nbconvert_exporter": "python",
   "pygments_lexer": "ipython3",
   "version": "3.12.7"
  }
 },
 "nbformat": 4,
 "nbformat_minor": 4
}
