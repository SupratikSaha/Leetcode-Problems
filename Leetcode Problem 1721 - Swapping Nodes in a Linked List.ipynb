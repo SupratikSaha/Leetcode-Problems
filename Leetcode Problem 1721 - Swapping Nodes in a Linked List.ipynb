{
 "cells": [
  {
   "cell_type": "markdown",
   "metadata": {},
   "source": [
    "Problem Statement.\n",
    "\n",
    "You are given the head of a linked list, and an integer k.\n",
    "\n",
    "Return the head of the linked list after swapping the values of the kth node from the beginning and the kth node from the end (the list is 1-indexed).\n",
    "\n",
    "Example 1:\n",
    "\n",
    "Input: head = [1,2,3,4,5], k = 2\n",
    "Output: [1,4,3,2,5]\n",
    "\n",
    "Example 2:\n",
    "\n",
    "Input: head = [7,9,6,6,7,8,3,0,9,5], k = 5\n",
    "Output: [7,9,6,6,8,7,3,0,9,5]\n",
    "\n",
    " \n",
    "\n",
    "Constraints:\n",
    "\n",
    "    The number of nodes in the list is n.\n",
    "    1 <= k <= n <= 105\n",
    "    0 <= Node.val <= 100"
   ]
  },
  {
   "cell_type": "markdown",
   "metadata": {},
   "source": [
    "# Two Pointers - O(N) runtime, O(1) space"
   ]
  },
  {
   "cell_type": "code",
   "execution_count": null,
   "metadata": {},
   "outputs": [],
   "source": [
    "# Definition for singly-linked list.\n",
    "# class ListNode:\n",
    "#     def __init__(self, val=0, next=None):\n",
    "#         self.val = val\n",
    "#         self.next = next\n",
    "class Solution:\n",
    "    def swapNodes(self, head: Optional[ListNode], k: int) -> Optional[ListNode]:\n",
    "        \n",
    "        # Initial State\n",
    "        slow, fast = head, head\n",
    "\n",
    "        # Phase 1\n",
    "        for _ in range(k - 1):\n",
    "            fast = fast.next\n",
    "        first = fast\n",
    "\n",
    "        # Phase 2\n",
    "        while fast.next:\n",
    "            slow, fast = slow.next, fast.next\n",
    "\n",
    "        # Last\n",
    "        first.val, slow.val = slow.val, first.val\n",
    "\n",
    "        return head"
   ]
  }
 ],
 "metadata": {
  "kernelspec": {
   "display_name": "Python 3",
   "language": "python",
   "name": "python3"
  },
  "language_info": {
   "codemirror_mode": {
    "name": "ipython",
    "version": 3
   },
   "file_extension": ".py",
   "mimetype": "text/x-python",
   "name": "python",
   "nbconvert_exporter": "python",
   "pygments_lexer": "ipython3",
   "version": "3.7.3"
  }
 },
 "nbformat": 4,
 "nbformat_minor": 2
}
