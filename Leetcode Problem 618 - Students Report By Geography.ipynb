{
 "cells": [
  {
   "cell_type": "markdown",
   "metadata": {},
   "source": [
    "    Problem Statement.\n",
    "\n",
    "    Table: Student\n",
    "\n",
    "    +-------------+---------+\n",
    "    | Column Name | Type    |\n",
    "    +-------------+---------+\n",
    "    | name        | varchar |\n",
    "    | continent   | varchar |\n",
    "    +-------------+---------+\n",
    "    This table may contain duplicate rows.\n",
    "    Each row of this table indicates the name of a student and the continent they came from.\n",
    "    \n",
    "     \n",
    "    \n",
    "    A school has students from Asia, Europe, and America.\n",
    "    \n",
    "    Write a solution to pivot the continent column in the Student table so that each name is sorted alphabetically and displayed underneath its corresponding continent. The output headers should be America, Asia, and Europe, respectively.\n",
    "    \n",
    "    The test cases are generated so that the student number from America is not less than either Asia or Europe.\n",
    "    \n",
    "    The result format is in the following example.\n",
    "    \n",
    "     \n",
    "    \n",
    "    Example 1:\n",
    "    \n",
    "    Input: \n",
    "    Student table:\n",
    "    +--------+-----------+\n",
    "    | name   | continent |\n",
    "    +--------+-----------+\n",
    "    | Jane   | America   |\n",
    "    | Pascal | Europe    |\n",
    "    | Xi     | Asia      |\n",
    "    | Jack   | America   |\n",
    "    +--------+-----------+\n",
    "    Output: \n",
    "    +---------+------+--------+\n",
    "    | America | Asia | Europe |\n",
    "    +---------+------+--------+\n",
    "    | Jack    | Xi   | Pascal |\n",
    "    | Jane    | null | null   |\n",
    "    +---------+------+--------+\n",
    "    \n",
    "     \n",
    "    \n",
    "    Follow up: If it is unknown which continent has the most students, could you write a solution to generate the student report?"
   ]
  },
  {
   "cell_type": "markdown",
   "metadata": {},
   "source": [
    "# Window Function"
   ]
  },
  {
   "cell_type": "code",
   "execution_count": 2,
   "metadata": {},
   "outputs": [],
   "source": [
    "WITH america AS (\n",
    "    SELECT \n",
    "        name,\n",
    "        ROW_NUMBER() OVER (ORDER BY name) AS row_id\n",
    "    FROM Student\n",
    "    WHERE continent = 'America'\n",
    "),\n",
    "asia AS (\n",
    "    SELECT \n",
    "        name,\n",
    "        ROW_NUMBER() OVER (ORDER BY name) AS row_id\n",
    "    FROM Student\n",
    "    WHERE continent = 'Asia'\n",
    "),\n",
    "europe AS (\n",
    "    SELECT \n",
    "        name,\n",
    "        ROW_NUMBER() OVER (ORDER BY name) AS row_id\n",
    "    FROM Student\n",
    "    WHERE continent = 'Europe'\n",
    ")\n",
    "SELECT\n",
    "    a.name AS America,\n",
    "    b.name AS Asia,\n",
    "    c.name AS Europe\n",
    "FROM America a\n",
    "LEFT JOIN Asia b\n",
    "ON a.row_id = b.row_id\n",
    "LEFT JOIN Europe c\n",
    "ON a.row_id = c.row_id\n"
   ]
  },
  {
   "cell_type": "markdown",
   "metadata": {},
   "source": [
    "# Session Variable"
   ]
  },
  {
   "cell_type": "code",
   "execution_count": 1,
   "metadata": {},
   "outputs": [],
   "source": [
    "SELECT \n",
    "    America, Asia, Europe\n",
    "FROM\n",
    "    (SELECT @as:=0, @am:=0, @eu:=0) t,\n",
    "    (SELECT \n",
    "        @as:=@as + 1 AS asid, name AS Asia\n",
    "    FROM\n",
    "        student\n",
    "    WHERE\n",
    "        continent = 'Asia'\n",
    "    ORDER BY Asia) AS t1\n",
    "        RIGHT JOIN\n",
    "    (SELECT \n",
    "        @am:=@am + 1 AS amid, name AS America\n",
    "    FROM\n",
    "        student\n",
    "    WHERE\n",
    "        continent = 'America'\n",
    "    ORDER BY America) AS t2 ON asid = amid\n",
    "        LEFT JOIN\n",
    "    (SELECT \n",
    "        @eu:=@eu + 1 AS euid, name AS Europe\n",
    "    FROM\n",
    "        student\n",
    "    WHERE\n",
    "        continent = 'Europe'\n",
    "    ORDER BY Europe) AS t3 ON amid = euid"
   ]
  }
 ],
 "metadata": {
  "kernelspec": {
   "display_name": "Python [conda env:base] *",
   "language": "python",
   "name": "conda-base-py"
  },
  "language_info": {
   "codemirror_mode": {
    "name": "ipython",
    "version": 3
   },
   "file_extension": ".py",
   "mimetype": "text/x-python",
   "name": "python",
   "nbconvert_exporter": "python",
   "pygments_lexer": "ipython3",
   "version": "3.12.7"
  }
 },
 "nbformat": 4,
 "nbformat_minor": 4
}
