{
 "cells": [
  {
   "cell_type": "markdown",
   "metadata": {},
   "source": [
    "Problem Statement. <br/>\n",
    "\n",
    "There are n children standing in a line. Each child is assigned a rating value given in the integer array ratings.\n",
    "\n",
    "You are giving candies to these children subjected to the following requirements:\n",
    "\n",
    "    Each child must have at least one candy.\n",
    "    Children with a higher rating get more candies than their neighbors.\n",
    "\n",
    "Return the minimum number of candies you need to have to distribute the candies to the children.\n",
    "\n",
    " \n",
    "\n",
    "Example 1:\n",
    "\n",
    "Input: ratings = [1,0,2]\n",
    "Output: 5\n",
    "Explanation: You can allocate to the first, second and third child with 2, 1, 2 candies respectively.\n",
    "\n",
    "Example 2:\n",
    "\n",
    "Input: ratings = [1,2,2]\n",
    "Output: 4\n",
    "Explanation: You can allocate to the first, second and third child with 1, 2, 1 candies respectively.\n",
    "The third child gets 1 candy because it satisfies the above two conditions.\n",
    "\n",
    " \n",
    "\n",
    "Constraints:\n",
    "\n",
    "    n == ratings.length\n",
    "    1 <= n <= 2 * 104\n",
    "    0 <= ratings[i] <= 2 * 104"
   ]
  },
  {
   "cell_type": "markdown",
   "metadata": {},
   "source": [
    "# Array - O(N) runtime, O(N) space"
   ]
  },
  {
   "cell_type": "code",
   "execution_count": 3,
   "metadata": {},
   "outputs": [],
   "source": [
    "from typing import List\n",
    "\n",
    "class Solution:\n",
    "    def candy(self, ratings: List[int]) -> int:\n",
    "        n = len(ratings)\n",
    "        candies = [1] * n\n",
    "\n",
    "        for i in range(1, n):\n",
    "            if ratings[i] > ratings[i-1]:\n",
    "                candies[i] = candies[i-1] + 1\n",
    "\n",
    "        total = candies[-1]\n",
    "        for i in range(n-2, -1, -1):\n",
    "            if ratings[i] > ratings[i+1]:\n",
    "                candies[i] = max(candies[i], candies[i+1]+1)\n",
    "            total += candies[i]\n",
    "\n",
    "        return total"
   ]
  },
  {
   "cell_type": "markdown",
   "metadata": {},
   "source": [
    "# One Pass - O(N) runtime, O(1) space"
   ]
  },
  {
   "cell_type": "code",
   "execution_count": 5,
   "metadata": {},
   "outputs": [],
   "source": [
    "from typing import List\n",
    "\n",
    "class Solution:\n",
    "    def count(self, n):\n",
    "        return (n * (n + 1)) // 2\n",
    "\n",
    "    def candy(self, ratings: List[int]) -> int:\n",
    "        if len(ratings) <= 1:\n",
    "            return len(ratings)\n",
    "        candies = 0\n",
    "        up = 0\n",
    "        down = 0\n",
    "        oldSlope = 0\n",
    "        for i in range(1, len(ratings)):\n",
    "            newSlope = (\n",
    "                1\n",
    "                if ratings[i] > ratings[i - 1]\n",
    "                else (-1 if ratings[i] < ratings[i - 1] else 0)\n",
    "            )\n",
    "            if (oldSlope > 0 and newSlope == 0) or (\n",
    "                oldSlope < 0 and newSlope >= 0\n",
    "            ):\n",
    "                candies += self.count(up) + self.count(down) + max(up, down)\n",
    "                up = 0\n",
    "                down = 0\n",
    "            if newSlope > 0:\n",
    "                up += 1\n",
    "            elif newSlope < 0:\n",
    "                down += 1\n",
    "            else:\n",
    "                candies += 1\n",
    "            oldSlope = newSlope\n",
    "        candies += self.count(up) + self.count(down) + max(up, down) + 1\n",
    "        return candies"
   ]
  },
  {
   "cell_type": "code",
   "execution_count": 9,
   "metadata": {},
   "outputs": [
    {
     "data": {
      "text/plain": [
       "13"
      ]
     },
     "execution_count": 9,
     "metadata": {},
     "output_type": "execute_result"
    }
   ],
   "source": [
    "instance = Solution()\n",
    "instance.candy([1,2,87,87,87,2,1])"
   ]
  }
 ],
 "metadata": {
  "kernelspec": {
   "display_name": "Python [conda env:base] *",
   "language": "python",
   "name": "conda-base-py"
  },
  "language_info": {
   "codemirror_mode": {
    "name": "ipython",
    "version": 3
   },
   "file_extension": ".py",
   "mimetype": "text/x-python",
   "name": "python",
   "nbconvert_exporter": "python",
   "pygments_lexer": "ipython3",
   "version": "3.12.7"
  }
 },
 "nbformat": 4,
 "nbformat_minor": 4
}
