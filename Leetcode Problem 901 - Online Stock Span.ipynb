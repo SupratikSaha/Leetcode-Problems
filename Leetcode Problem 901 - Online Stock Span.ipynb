{
 "cells": [
  {
   "cell_type": "markdown",
   "metadata": {},
   "source": [
    "Problem Statement\n",
    "\n",
    "Design an algorithm that collects daily price quotes for some stock and returns the span of that stock's price for the current day.\n",
    "\n",
    "The span of the stock's price in one day is the maximum number of consecutive days (starting from that day and going backward) for which the stock price was less than or equal to the price of that day.\n",
    "\n",
    "For example, if the prices of the stock in the last four days is [7,2,1,2] and the price of the stock today is 2, then the span of today is 4 because starting from today, the price of the stock was less than or equal 2 for 4 consecutive days.\n",
    "\n",
    "Also, if the prices of the stock in the last four days is [7,34,1,2] and the price of the stock today is 8, then the span of today is 3 because starting from today, the price of the stock was less than or equal 8 for 3 consecutive days.\n",
    "\n",
    "Implement the StockSpanner class:\n",
    "\n",
    "    StockSpanner() Initializes the object of the class.\n",
    "    int next(int price) Returns the span of the stock's price given that today's price is price.\n",
    "\n",
    " \n",
    "\n",
    "Example 1:\n",
    "\n",
    "Input\n",
    "[\"StockSpanner\", \"next\", \"next\", \"next\", \"next\", \"next\", \"next\", \"next\"]\n",
    "[[], [100], [80], [60], [70], [60], [75], [85]]\n",
    "Output\n",
    "[null, 1, 1, 1, 2, 1, 4, 6]\n",
    "\n",
    "Explanation\n",
    "StockSpanner stockSpanner = new StockSpanner();<br/>\n",
    "stockSpanner.next(100); // return 1<br/>\n",
    "stockSpanner.next(80);  // return 1<br/>\n",
    "stockSpanner.next(60);  // return 1<br/>\n",
    "stockSpanner.next(70);  // return 2<br/>\n",
    "stockSpanner.next(60);  // return 1<br/>\n",
    "stockSpanner.next(75);  // return 4, because the last 4 prices (including today's price of 75) were less than or equal to today's price.<br/>\n",
    "stockSpanner.next(85);  // return 6<br/>\n",
    "\n",
    "\n",
    "Constraints:\n",
    "\n",
    "    1 <= price <= 105\n",
    "    At most 104 calls will be made to next."
   ]
  },
  {
   "cell_type": "markdown",
   "metadata": {},
   "source": [
    "# Monotonic Stack - O(1) runtime, O(N) space"
   ]
  },
  {
   "cell_type": "code",
   "execution_count": 5,
   "metadata": {},
   "outputs": [],
   "source": [
    "class StockSpanner:\n",
    "\n",
    "    def __init__(self):\n",
    "        self.stack = []\n",
    "        \n",
    "    def next(self, price: int) -> int:\n",
    "        res = 1\n",
    "        while self.stack and price >= self.stack[-1][0]:\n",
    "            res += self.stack.pop()[1]\n",
    "        \n",
    "        self.stack.append([price, res])\n",
    "        return res"
   ]
  },
  {
   "cell_type": "code",
   "execution_count": 7,
   "metadata": {},
   "outputs": [
    {
     "name": "stdout",
     "output_type": "stream",
     "text": [
      "1\n",
      "1\n",
      "1\n",
      "2\n",
      "1\n",
      "4\n",
      "6\n"
     ]
    }
   ],
   "source": [
    "obj = StockSpanner()\n",
    "print(obj.next(100))\n",
    "print(obj.next(80))\n",
    "print(obj.next(60))\n",
    "print(obj.next(70))\n",
    "print(obj.next(60))\n",
    "print(obj.next(75))\n",
    "print(obj.next(85))"
   ]
  }
 ],
 "metadata": {
  "kernelspec": {
   "display_name": "Python [conda env:base] *",
   "language": "python",
   "name": "conda-base-py"
  },
  "language_info": {
   "codemirror_mode": {
    "name": "ipython",
    "version": 3
   },
   "file_extension": ".py",
   "mimetype": "text/x-python",
   "name": "python",
   "nbconvert_exporter": "python",
   "pygments_lexer": "ipython3",
   "version": "3.12.7"
  }
 },
 "nbformat": 4,
 "nbformat_minor": 4
}
