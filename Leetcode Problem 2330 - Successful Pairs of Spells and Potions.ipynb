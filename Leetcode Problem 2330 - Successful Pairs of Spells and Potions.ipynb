{
 "cells": [
  {
   "cell_type": "markdown",
   "metadata": {},
   "source": [
    "Problem Statement.\n",
    "\n",
    "You are given two positive integer arrays spells and potions, of length n and m respectively, where spells[i] represents the strength of the ith spell and potions[j] represents the strength of the jth potion.\n",
    "\n",
    "You are also given an integer success. A spell and potion pair is considered successful if the product of their strengths is at least success.\n",
    "\n",
    "Return an integer array pairs of length n where pairs[i] is the number of potions that will form a successful pair with the ith spell.\n",
    "\n",
    "\n",
    "Example 1:\n",
    "\n",
    "Input: spells = [5,1,3], potions = [1,2,3,4,5], success = 7\n",
    "Output: [4,0,3]\n",
    "Explanation:\n",
    "- 0th spell: 5 * [1,2,3,4,5] = [5,10,15,20,25]. 4 pairs are successful.\n",
    "- 1st spell: 1 * [1,2,3,4,5] = [1,2,3,4,5]. 0 pairs are successful.\n",
    "- 2nd spell: 3 * [1,2,3,4,5] = [3,6,9,12,15]. 3 pairs are successful.\n",
    "Thus, [4,0,3] is returned.\n",
    "\n",
    "Example 2:\n",
    "\n",
    "Input: spells = [3,1,2], potions = [8,5,8], success = 16\n",
    "Output: [2,0,2]\n",
    "Explanation:\n",
    "- 0th spell: 3 * [8,5,8] = [24,15,24]. 2 pairs are successful.\n",
    "- 1st spell: 1 * [8,5,8] = [8,5,8]. 0 pairs are successful. \n",
    "- 2nd spell: 2 * [8,5,8] = [16,10,16]. 2 pairs are successful. \n",
    "Thus, [2,0,2] is returned.\n",
    "\n",
    "\n",
    "Constraints:\n",
    "\n",
    "    n == spells.length\n",
    "    m == potions.length\n",
    "    1 <= n, m <= 105\n",
    "    1 <= spells[i], potions[i] <= 105\n",
    "    1 <= success <= 1010"
   ]
  },
  {
   "cell_type": "markdown",
   "metadata": {},
   "source": [
    "# Sorting + Two Pointers - O(M * Log M + N * Log N) runtime, O(M + N) space, where M is the number of spells and N is the number of potions"
   ]
  },
  {
   "cell_type": "code",
   "execution_count": 16,
   "metadata": {},
   "outputs": [],
   "source": [
    "from typing import List\n",
    "\n",
    "class Solution:\n",
    "    def successfulPairs(self, spells: List[int], potions: List[int], success: int) -> List[int]:\n",
    "        sorted_spells = [(spell, index) for index, spell in enumerate(spells)]\n",
    "        sorted_spells.sort()\n",
    "        \n",
    "        potions.sort(reverse=True)\n",
    "\n",
    "        n = len(potions)\n",
    "        res = [0] * len(spells)\n",
    "        cur_pos = 0\n",
    "\n",
    "        for spell, i in sorted_spells:\n",
    "            while cur_pos < n and spell * potions[cur_pos] >= success:\n",
    "                cur_pos += 1\n",
    "            res[i] = cur_pos\n",
    "\n",
    "        return res"
   ]
  },
  {
   "cell_type": "markdown",
   "metadata": {},
   "source": [
    "# Sorting + Binary Search - O((M+N) * Log N) runtime, O(M + N) space, where M is the number of spells and N is the number of potions"
   ]
  },
  {
   "cell_type": "code",
   "execution_count": 12,
   "metadata": {},
   "outputs": [],
   "source": [
    "from typing import List\n",
    "from bisect import bisect_left\n",
    "from math import ceil\n",
    "\n",
    "class Solution:\n",
    "    def successfulPairs(self, spells: List[int], potions: List[int], success: int) -> List[int]:\n",
    "        potions.sort()\n",
    "        answer = [0] * len(spells)\n",
    "\n",
    "        n = len(potions)\n",
    "        maxPotion = potions[n - 1]\n",
    "\n",
    "        for i, spell in enumerate(spells):\n",
    "            minPotion = ceil(success / spell )\n",
    "            if minPotion > maxPotion:\n",
    "                continue\n",
    "            index = bisect_left(potions, minPotion)\n",
    "            answer[i] = n - index\n",
    "\n",
    "        return answer"
   ]
  },
  {
   "cell_type": "code",
   "execution_count": 18,
   "metadata": {},
   "outputs": [
    {
     "data": {
      "text/plain": [
       "[4, 0, 3]"
      ]
     },
     "execution_count": 18,
     "metadata": {},
     "output_type": "execute_result"
    }
   ],
   "source": [
    "instance = Solution()\n",
    "instance.successfulPairs([5,1,3], [1,2,3,4,5], 7)"
   ]
  }
 ],
 "metadata": {
  "kernelspec": {
   "display_name": "Python [conda env:base] *",
   "language": "python",
   "name": "conda-base-py"
  },
  "language_info": {
   "codemirror_mode": {
    "name": "ipython",
    "version": 3
   },
   "file_extension": ".py",
   "mimetype": "text/x-python",
   "name": "python",
   "nbconvert_exporter": "python",
   "pygments_lexer": "ipython3",
   "version": "3.12.7"
  }
 },
 "nbformat": 4,
 "nbformat_minor": 4
}
