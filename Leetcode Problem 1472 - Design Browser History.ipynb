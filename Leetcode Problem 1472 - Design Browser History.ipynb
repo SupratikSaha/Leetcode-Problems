{
 "cells": [
  {
   "cell_type": "markdown",
   "metadata": {},
   "source": [
    "Problem Statement.\n",
    "\n",
    "You have a browser of one tab where you start on the homepage and you can visit another url, get back in the history number of steps or move forward in the history number of steps.\n",
    "\n",
    "Implement the BrowserHistory class:\n",
    "\n",
    "    BrowserHistory(string homepage) Initializes the object with the homepage of the browser.\n",
    "    void visit(string url) Visits url from the current page. It clears up all the forward history.\n",
    "    string back(int steps) Move steps back in history. If you can only return x steps in the history and steps > x, you will return only x steps. Return the current url after moving back in history at most steps.\n",
    "    string forward(int steps) Move steps forward in history. If you can only forward x steps in the history and steps > x, you will forward only x steps. Return the current url after forwarding in history at most steps.\n",
    "\n",
    " \n",
    "\n",
    "Example:\n",
    "\n",
    "Input:\n",
    "[\"BrowserHistory\",\"visit\",\"visit\",\"visit\",\"back\",\"back\",\"forward\",\"visit\",\"forward\",\"back\",\"back\"]\n",
    "[[\"leetcode.com\"],[\"google.com\"],[\"facebook.com\"],[\"youtube.com\"],[1],[1],[1],[\"linkedin.com\"],[2],[2],[7]]\n",
    "Output:\n",
    "[null,null,null,null,\"facebook.com\",\"google.com\",\"facebook.com\",null,\"linkedin.com\",\"google.com\",\"leetcode.com\"]\n",
    "\n",
    "Explanation:\n",
    "BrowserHistory browserHistory = new BrowserHistory(\"leetcode.com\");\n",
    "browserHistory.visit(\"google.com\");       // You are in \"leetcode.com\". Visit \"google.com\"\n",
    "browserHistory.visit(\"facebook.com\");     // You are in \"google.com\". Visit \"facebook.com\"\n",
    "browserHistory.visit(\"youtube.com\");      // You are in \"facebook.com\". Visit \"youtube.com\"\n",
    "browserHistory.back(1);                   // You are in \"youtube.com\", move back to \"facebook.com\" return \"facebook.com\"\n",
    "browserHistory.back(1);                   // You are in \"facebook.com\", move back to \"google.com\" return \"google.com\"\n",
    "browserHistory.forward(1);                // You are in \"google.com\", move forward to \"facebook.com\" return \"facebook.com\"\n",
    "browserHistory.visit(\"linkedin.com\");     // You are in \"facebook.com\". Visit \"linkedin.com\"\n",
    "browserHistory.forward(2);                // You are in \"linkedin.com\", you cannot move forward any steps.\n",
    "browserHistory.back(2);                   // You are in \"linkedin.com\", move back two steps to \"facebook.com\" then to \"google.com\". return \"google.com\"\n",
    "browserHistory.back(7);                   // You are in \"google.com\", you can move back only one step to \"leetcode.com\". return \"leetcode.com\"\n",
    "\n",
    " \n",
    "\n",
    "Constraints:\n",
    "\n",
    "    1 <= homepage.length <= 20\n",
    "    1 <= url.length <= 20\n",
    "    1 <= steps <= 100\n",
    "    homepage and url consist of  '.' or lower case English letters.\n",
    "    At most 5000 calls will be made to visit, back, and forward."
   ]
  },
  {
   "cell_type": "markdown",
   "metadata": {},
   "source": [
    "# Extra Space - O(1) runtime, O(L * N) space, where L is the maximum length of the url string"
   ]
  },
  {
   "cell_type": "code",
   "execution_count": 3,
   "metadata": {},
   "outputs": [],
   "source": [
    "class BrowserHistory:\n",
    "\n",
    "    def __init__(self, homepage: str):\n",
    "        self.visited_URLs = [homepage]\n",
    "        self.curr_URL, self.last_URL = 0, 0\n",
    "\n",
    "    def visit(self, url: str) -> None:\n",
    "        self.curr_URL += 1\n",
    "        if len(self.visited_URLs) > self.curr_URL:\n",
    "            self.visited_URLs[self.curr_URL] = url\n",
    "        else:\n",
    "            self.visited_URLs.append(url)\n",
    "        self.last_URL = self.curr_URL\n",
    "\n",
    "    def back(self, steps: int) -> str:\n",
    "        self.curr_URL = max(0, self.curr_URL - steps)\n",
    "        return self.visited_URLs[self.curr_URL]\n",
    "\n",
    "    def forward(self, steps: int) -> str:\n",
    "        self.curr_URL = min(self.last_URL, self.curr_URL + steps)\n",
    "        return self.visited_URLs[self.curr_URL]\n"
   ]
  },
  {
   "cell_type": "code",
   "execution_count": 7,
   "metadata": {},
   "outputs": [
    {
     "name": "stdout",
     "output_type": "stream",
     "text": [
      "leetcode.com\n",
      "google.com\n"
     ]
    }
   ],
   "source": [
    "instance = BrowserHistory(\"leetcode.com\")\n",
    "instance.visit(\"google.com\")\n",
    "print(instance.back(2))\n",
    "print(instance.forward(7))"
   ]
  }
 ],
 "metadata": {
  "kernelspec": {
   "display_name": "Python [conda env:base] *",
   "language": "python",
   "name": "conda-base-py"
  },
  "language_info": {
   "codemirror_mode": {
    "name": "ipython",
    "version": 3
   },
   "file_extension": ".py",
   "mimetype": "text/x-python",
   "name": "python",
   "nbconvert_exporter": "python",
   "pygments_lexer": "ipython3",
   "version": "3.12.7"
  }
 },
 "nbformat": 4,
 "nbformat_minor": 4
}
