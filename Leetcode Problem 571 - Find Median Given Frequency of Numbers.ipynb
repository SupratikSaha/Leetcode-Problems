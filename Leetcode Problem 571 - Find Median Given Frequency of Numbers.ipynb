{
 "cells": [
  {
   "cell_type": "markdown",
   "metadata": {},
   "source": [
    "Problem Statement.\n",
    "\n",
    "Table: Numbers\n",
    "\n",
    "<br/>+-------------+------+\n",
    "<br/>| Column Name | Type |\n",
    "<br/>+-------------+------+\n",
    "<br/>| num         | int  |\n",
    "<br/>| frequency   | int  |\n",
    "<br/>+-------------+------+\n",
    "<br/>num is the primary key (column with unique values) for this table.\n",
    "Each row of this table shows the frequency of a number in the database.\n",
    "\n",
    "The median is the value separating the higher half from the lower half of a data sample.\n",
    "Write a solution to report the median of all the numbers in the database after decompressing the Numbers table. Round the median to one decimal point.\n",
    "The result format is in the following example.\n",
    "\n",
    "Example 1:\n",
    "\n",
    "Input: \n",
    "Numbers table:\n",
    "<br/>+-----+-----------+\n",
    "<br/>| num | frequency |\n",
    "<br/>+-----+-----------+\n",
    "<br/>| 0   | 7         |\n",
    "<br/>| 1   | 1         |\n",
    "<br/>| 2   | 3         |\n",
    "<br/>| 3   | 1         |\n",
    "<br/>+-----+-----------+\n",
    "<br/>Output: \n",
    "<br/>+--------+\n",
    "<br/>| median |\n",
    "<br/>+--------+\n",
    "<br/>| 0.0    |\n",
    "<br/>+--------+\n",
    "<br/>Explanation: \n",
    "If we decompress the Numbers table, we will get [0, 0, 0, 0, 0, 0, 0, 1, 2, 2, 2, 3], so the median is (0 + 0) / 2 = 0."
   ]
  },
  {
   "cell_type": "markdown",
   "metadata": {},
   "source": [
    "# WINDOW FUNCTIONS"
   ]
  },
  {
   "cell_type": "code",
   "execution_count": 3,
   "metadata": {},
   "outputs": [],
   "source": [
    "WITH tempset2 AS (\n",
    "SELECT \n",
    "    num, \n",
    "    frequency, \n",
    "    SUM(frequency) OVER(ORDER BY num) AS cumsum_left,\n",
    "    SUM(frequency) OVER(ORDER BY num DESC) AS cumsum_right\n",
    "FROM \n",
    "    Numbers\n",
    ")\n",
    "SELECT \n",
    "    AVG(num) AS median \n",
    "FROM \n",
    "    tempset2\n",
    "WHERE \n",
    "    ABS(cumsum_left - cumsum_right) <= frequency"
   ]
  }
 ],
 "metadata": {
  "kernelspec": {
   "display_name": "Python [conda env:base] *",
   "language": "python",
   "name": "conda-base-py"
  },
  "language_info": {
   "codemirror_mode": {
    "name": "ipython",
    "version": 3
   },
   "file_extension": ".py",
   "mimetype": "text/x-python",
   "name": "python",
   "nbconvert_exporter": "python",
   "pygments_lexer": "ipython3",
   "version": "3.12.7"
  }
 },
 "nbformat": 4,
 "nbformat_minor": 4
}
