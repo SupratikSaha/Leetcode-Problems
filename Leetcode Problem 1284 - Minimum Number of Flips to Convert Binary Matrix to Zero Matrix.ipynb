{
 "cells": [
  {
   "cell_type": "markdown",
   "metadata": {},
   "source": [
    "Problem Statement.\n",
    "\n",
    "Given a m x n binary matrix mat. In one step, you can choose one cell and flip it and all the four neighbors of it if they exist (Flip is changing 1 to 0 and 0 to 1). A pair of cells are called neighbors if they share one edge.\n",
    "\n",
    "Return the minimum number of steps required to convert mat to a zero matrix or -1 if you cannot.\n",
    "\n",
    "A binary matrix is a matrix with all cells equal to 0 or 1 only.\n",
    "\n",
    "A zero matrix is a matrix with all cells equal to 0.\n",
    "\n",
    " \n",
    "\n",
    "Example 1:\n",
    "\n",
    "Input: mat = [[0,0],[0,1]]\n",
    "Output: 3\n",
    "Explanation: One possible solution is to flip (1, 0) then (0, 1) and finally (1, 1) as shown.\n",
    "\n",
    "Example 2:\n",
    "\n",
    "Input: mat = [[0]]\n",
    "Output: 0\n",
    "Explanation: Given matrix is a zero matrix. We do not need to change it.\n",
    "\n",
    "Example 3:\n",
    "\n",
    "Input: mat = [[1,0,0],[1,0,0]]\n",
    "Output: -1\n",
    "Explanation: Given matrix cannot be a zero matrix.\n",
    "\n",
    " \n",
    "\n",
    "Constraints:\n",
    "\n",
    "    m == mat.length\n",
    "    n == mat[i].length\n",
    "    1 <= m, n <= 3\n",
    "    mat[i][j] is either 0 or 1."
   ]
  },
  {
   "cell_type": "markdown",
   "metadata": {},
   "source": [
    "# BFS - O(M * N * 2 ^ (M * N)) runtime, O(2 ^ (M * N)) space"
   ]
  },
  {
   "cell_type": "code",
   "execution_count": 3,
   "metadata": {},
   "outputs": [],
   "source": [
    "from typing import List\n",
    "from collections import deque\n",
    "\n",
    "class Solution:\n",
    "    def minFlips(self, mat: List[List[int]]) -> int:\n",
    "        m, n = len(mat), len(mat[0])\n",
    "        start = sum(cell << (i * n + j) for i, row in enumerate(mat) for j, cell in enumerate(row))\n",
    "        \n",
    "        dq = deque([(start, 0)])\n",
    "        seen = {start}\n",
    "        while dq:\n",
    "            cur, step = dq.popleft()\n",
    "            if not cur: return step\n",
    "            \n",
    "            for i in range(m):\n",
    "                for j in range(n):\n",
    "                    nextVal = cur\n",
    "                    for r, c in (i, j), (i, j + 1), (i, j - 1), (i + 1, j), (i - 1, j):\n",
    "                        if 0 <= r < m and  0 <= c < n:\n",
    "                            nextVal ^= 1 << (r * n + c)\n",
    "                    if nextVal not in seen:\n",
    "                        seen.add(nextVal)\n",
    "                        dq.append((nextVal, step + 1))\n",
    "        return -1"
   ]
  },
  {
   "cell_type": "code",
   "execution_count": 5,
   "metadata": {},
   "outputs": [
    {
     "data": {
      "text/plain": [
       "3"
      ]
     },
     "execution_count": 5,
     "metadata": {},
     "output_type": "execute_result"
    }
   ],
   "source": [
    "instance = Solution()\n",
    "instance.minFlips([[0,0],[0,1]])"
   ]
  }
 ],
 "metadata": {
  "kernelspec": {
   "display_name": "Python 3",
   "language": "python",
   "name": "python3"
  },
  "language_info": {
   "codemirror_mode": {
    "name": "ipython",
    "version": 3
   },
   "file_extension": ".py",
   "mimetype": "text/x-python",
   "name": "python",
   "nbconvert_exporter": "python",
   "pygments_lexer": "ipython3",
   "version": "3.7.3"
  }
 },
 "nbformat": 4,
 "nbformat_minor": 2
}
