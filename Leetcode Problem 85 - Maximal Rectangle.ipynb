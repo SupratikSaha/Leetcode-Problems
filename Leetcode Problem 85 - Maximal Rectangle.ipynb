{
 "cells": [
  {
   "cell_type": "markdown",
   "metadata": {},
   "source": [
    "Problem Statement. <br/>\n",
    "\n",
    "Given a rows x cols binary matrix filled with 0's and 1's, find the largest rectangle containing only 1's and return its area. <br/>\n",
    "\n",
    "Example 1: <br/>\n",
    "Input: matrix = [[\"1\",\"0\",\"1\",\"0\",\"0\"],[\"1\",\"0\",\"1\",\"1\",\"1\"],[\"1\",\"1\",\"1\",\"1\",\"1\"],[\"1\",\"0\",\"0\",\"1\",\"0\"]] <br/>\n",
    "Output: 6 <br/>\n",
    "Explanation: The maximal rectangle is shown in the above picture. <br/>\n",
    "\n",
    "Example 2: <br/>\n",
    "Input: matrix = [] <br/>\n",
    "Output: 0 <br/>\n",
    "\n",
    "Example 3: <br/>\n",
    "Input: matrix = [[\"0\"]] <br/>\n",
    "Output: 0v\n",
    "\n",
    "Example 4: <br/>\n",
    "Input: matrix = [[\"1\"]] <br/>\n",
    "Output: 1 <br/>\n",
    "\n",
    "Example 5: <br/>\n",
    "Input: matrix = [[\"0\",\"0\"]] <br/>\n",
    "Output: 0"
   ]
  },
  {
   "cell_type": "markdown",
   "metadata": {},
   "source": [
    "# Brute Force DP - O(M ^ 2 * N) runtime, O(M * N) space, where M & N are the number of rows and columns in the matrix"
   ]
  },
  {
   "cell_type": "code",
   "execution_count": 1,
   "metadata": {},
   "outputs": [],
   "source": [
    "from typing import List\n",
    "\n",
    "class Solution:\n",
    "    def maximalRectangle(self, matrix: List[List[str]]) -> int:\n",
    "        maxarea = 0\n",
    "\n",
    "        dp = [[0] * len(matrix[0]) for _ in range(len(matrix))]\n",
    "        for i in range(len(matrix)):\n",
    "            for j in range(len(matrix[0])):\n",
    "                if matrix[i][j] == '0': continue\n",
    "\n",
    "                # compute the maximum width and update dp with it\n",
    "                width = dp[i][j] = dp[i][j-1] + 1 if j else 1\n",
    "\n",
    "                # compute the maximum area rectangle with a lower right corner at [i, j]\n",
    "                for k in range(i, -1, -1):\n",
    "                    width = min(width, dp[k][j])\n",
    "                    maxarea = max(maxarea, width * (i-k+1))\n",
    "        return maxarea"
   ]
  },
  {
   "cell_type": "markdown",
   "metadata": {},
   "source": [
    "# Stack and DP - O(M * N) runtime, O(N) space, where M & N are the number of rows and columns in the matrix"
   ]
  },
  {
   "cell_type": "code",
   "execution_count": 2,
   "metadata": {},
   "outputs": [],
   "source": [
    "from typing import List\n",
    "\n",
    "class Solution:\n",
    "\n",
    "    def maximalRectangle(self, matrix: List[List[str]]) -> int:\n",
    "\n",
    "        if not matrix: \n",
    "            return 0\n",
    "\n",
    "        maxarea = 0\n",
    "        dp = [0] * len(matrix[0])\n",
    "        for i in range(len(matrix)):\n",
    "            for j in range(len(matrix[0])):\n",
    "\n",
    "                # update the state of this row's histogram using the last row's histogram\n",
    "                # by keeping track of the number of consecutive ones\n",
    "\n",
    "                dp[j] = dp[j] + 1 if matrix[i][j] == '1' else 0\n",
    "\n",
    "            # update maxarea with the maximum area from this row's histogram\n",
    "            maxarea = max(maxarea, self.largestRectangulaArea(dp))\n",
    "        return maxarea\n",
    "    \n",
    "        # Get the maximum area in a histogram given its heights\n",
    "    def largestRectangulaArea(self, heights):\n",
    "        stack = [-1]\n",
    "\n",
    "        maxarea = 0\n",
    "        for i in range(len(heights)):\n",
    "\n",
    "            while stack[-1] != -1 and heights[stack[-1]] >= heights[i]:\n",
    "                maxarea = max(maxarea, heights[stack.pop()] * (i - stack[-1] - 1))\n",
    "            stack.append(i)\n",
    "\n",
    "        while stack[-1] != -1:\n",
    "            maxarea = max(maxarea, heights[stack.pop()] * (len(heights) - stack[-1] - 1))\n",
    "        return maxarea"
   ]
  },
  {
   "cell_type": "markdown",
   "metadata": {},
   "source": [
    "# DP - Max Height at each point - O(M * N) runtime, O(N) space, where M & N are the number of rows and columns in the matrix"
   ]
  },
  {
   "cell_type": "code",
   "execution_count": 3,
   "metadata": {},
   "outputs": [],
   "source": [
    "from typing import List\n",
    "\n",
    "class Solution:\n",
    "    def maximalRectangle(self, matrix: List[List[str]]) -> int:\n",
    "        if not matrix: return 0\n",
    "\n",
    "        m = len(matrix)\n",
    "        n = len(matrix[0])\n",
    "\n",
    "        left = [0] * n # initialize left as the leftmost boundary possible\n",
    "        right = [n] * n # initialize right as the rightmost boundary possible\n",
    "        height = [0] * n\n",
    "\n",
    "        maxarea = 0\n",
    "\n",
    "        for i in range(m):\n",
    "\n",
    "            cur_left, cur_right = 0, n\n",
    "            # update right\n",
    "            for j in reversed(range(n)):\n",
    "                if matrix[i][j] == '1': right[j] = min(right[j], cur_right)\n",
    "                else:\n",
    "                    right[j] = n\n",
    "                    cur_right = j\n",
    "            \n",
    "            for j in range(n):\n",
    "                # update height\n",
    "                if matrix[i][j] == '1': height[j] += 1\n",
    "                else: height[j] = 0\n",
    "                \n",
    "                # update left\n",
    "                if matrix[i][j] == '1': left[j] = max(left[j], cur_left)\n",
    "                else:\n",
    "                    left[j] = 0\n",
    "                    cur_left = j + 1\n",
    "                \n",
    "                # update the area\n",
    "                maxarea = max(maxarea, height[j] * (right[j] - left[j]))\n",
    "\n",
    "        return maxarea"
   ]
  },
  {
   "cell_type": "code",
   "execution_count": 4,
   "metadata": {},
   "outputs": [
    {
     "data": {
      "text/plain": [
       "6"
      ]
     },
     "execution_count": 4,
     "metadata": {},
     "output_type": "execute_result"
    }
   ],
   "source": [
    "instance = Solution()\n",
    "instance.maximalRectangle([[\"1\",\"0\",\"1\",\"0\",\"0\"],[\"1\",\"0\",\"1\",\"1\",\"1\"],[\"1\",\"1\",\"1\",\"1\",\"1\"],[\"1\",\"0\",\"0\",\"1\",\"0\"]] )"
   ]
  }
 ],
 "metadata": {
  "kernelspec": {
   "display_name": "Python 3",
   "language": "python",
   "name": "python3"
  },
  "language_info": {
   "codemirror_mode": {
    "name": "ipython",
    "version": 3
   },
   "file_extension": ".py",
   "mimetype": "text/x-python",
   "name": "python",
   "nbconvert_exporter": "python",
   "pygments_lexer": "ipython3",
   "version": "3.7.3"
  }
 },
 "nbformat": 4,
 "nbformat_minor": 2
}
