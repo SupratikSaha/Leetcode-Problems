{
 "cells": [
  {
   "cell_type": "markdown",
   "metadata": {},
   "source": [
    "    Problem Statement.\n",
    "        \n",
    "    Table: Sales\n",
    "    \n",
    "    +-------------+-------+\n",
    "    | Column Name | Type  |\n",
    "    +-------------+-------+\n",
    "    | sale_id     | int   |\n",
    "    | product_id  | int   |\n",
    "    | year        | int   |\n",
    "    | quantity    | int   |\n",
    "    | price       | int   |\n",
    "    +-------------+-------+\n",
    "    (sale_id, year) is the primary key (combination of columns with unique values) of this table.\n",
    "    product_id is a foreign key (reference column) to Product table.\n",
    "    Each row records a sale of a product in a given year.\n",
    "    A product may have multiple sales entries in the same year.\n",
    "    Note that the per-unit price.\n",
    "    \n",
    "    Write a solution to find all sales that occurred in the first year each product was sold.\n",
    "    \n",
    "        For each product_id, identify the earliest year it appears in the Sales table.\n",
    "    \n",
    "        Return all sales entries for that product in that year.\n",
    "    \n",
    "    Return a table with the following columns: product_id, first_year, quantity, and price.\n",
    "    Return the result in any order.\n",
    "    \n",
    "     \n",
    "    \n",
    "    Example 1:\n",
    "    \n",
    "    Input: \n",
    "    Sales table:\n",
    "    +---------+------------+------+----------+-------+\n",
    "    | sale_id | product_id | year | quantity | price |\n",
    "    +---------+------------+------+----------+-------+ \n",
    "    | 1       | 100        | 2008 | 10       | 5000  |\n",
    "    | 2       | 100        | 2009 | 12       | 5000  |\n",
    "    | 7       | 200        | 2011 | 15       | 9000  |\n",
    "    +---------+------------+------+----------+-------+\n",
    "    \n",
    "    Output: \n",
    "    +------------+------------+----------+-------+\n",
    "    | product_id | first_year | quantity | price |\n",
    "    +------------+------------+----------+-------+ \n",
    "    | 100        | 2008       | 10       | 5000  |\n",
    "    | 200        | 2011       | 15       | 9000  |\n",
    "    +------------+------------+----------+-------+\n",
    "    \n",
    "    \n",
    "        \n",
    "         \n",
    "        \n",
    "    \n"
   ]
  },
  {
   "cell_type": "markdown",
   "metadata": {},
   "source": [
    "# CTE"
   ]
  },
  {
   "cell_type": "code",
   "execution_count": null,
   "metadata": {},
   "outputs": [],
   "source": [
    "WITH initial_sale_year AS (\n",
    "    SELECT\n",
    "        product_id,\n",
    "        MIN(year) AS first_year\n",
    "    FROM Sales\n",
    "    GROUP BY product_id\n",
    ")\n",
    "SELECT\n",
    "    s.product_id,\n",
    "    first_year,\n",
    "    quantity,\n",
    "    price\n",
    "FROM Sales s\n",
    "JOIN initial_sale_year i\n",
    "ON s.product_id = i.product_id \n",
    "AND s.year = i.first_year "
   ]
  },
  {
   "cell_type": "markdown",
   "metadata": {},
   "source": [
    "# IN"
   ]
  },
  {
   "cell_type": "code",
   "execution_count": null,
   "metadata": {},
   "outputs": [],
   "source": [
    "SELECT \n",
    "  product_id, \n",
    "  year AS first_year, \n",
    "  quantity, \n",
    "  price \n",
    "FROM \n",
    "  Sales \n",
    "WHERE \n",
    "  (product_id, year) IN (\n",
    "    SELECT \n",
    "      product_id, \n",
    "      MIN(year) AS year \n",
    "    FROM \n",
    "      Sales \n",
    "    GROUP BY \n",
    "      product_id\n",
    "  );"
   ]
  }
 ],
 "metadata": {
  "kernelspec": {
   "display_name": "Python [conda env:base] *",
   "language": "python",
   "name": "conda-base-py"
  },
  "language_info": {
   "codemirror_mode": {
    "name": "ipython",
    "version": 3
   },
   "file_extension": ".py",
   "mimetype": "text/x-python",
   "name": "python",
   "nbconvert_exporter": "python",
   "pygments_lexer": "ipython3",
   "version": "3.12.7"
  }
 },
 "nbformat": 4,
 "nbformat_minor": 4
}
