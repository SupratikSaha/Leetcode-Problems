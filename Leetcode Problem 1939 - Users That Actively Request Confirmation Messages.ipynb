{
 "cells": [
  {
   "cell_type": "markdown",
   "metadata": {},
   "source": [
    "    Problem Statement.\n",
    "    \n",
    "    Table: Signups\n",
    "    \n",
    "    +----------------+----------+\n",
    "    | Column Name    | Type     |\n",
    "    +----------------+----------+\n",
    "    | user_id        | int      |\n",
    "    | time_stamp     | datetime |\n",
    "    +----------------+----------+\n",
    "    user_id is the column with unique values for this table.\n",
    "    Each row contains information about the signup time for the user with ID user_id.\n",
    "    \n",
    "     \n",
    "    \n",
    "    Table: Confirmations\n",
    "    \n",
    "    +----------------+----------+\n",
    "    | Column Name    | Type     |\n",
    "    +----------------+----------+\n",
    "    | user_id        | int      |\n",
    "    | time_stamp     | datetime |\n",
    "    | action         | ENUM     |\n",
    "    +----------------+----------+\n",
    "    (user_id, time_stamp) is the primary key (combination of columns with unique values) for this table.\n",
    "    user_id is a foreign key (reference column) to the Signups table.\n",
    "    action is an ENUM (category) of the type ('confirmed', 'timeout')\n",
    "    Each row of this table indicates that the user with ID user_id requested a confirmation message at time_stamp and that confirmation message was either confirmed ('confirmed') or expired without confirming ('timeout').\n",
    "    \n",
    "     \n",
    "    \n",
    "    Write a solution to find the IDs of the users that requested a confirmation message twice within a 24-hour window. Two messages exactly 24 hours apart are considered to be within the window. The action does not affect the answer, only the request time.\n",
    "    \n",
    "    Return the result table in any order.\n",
    "    \n",
    "    The result format is in the following example.\n",
    "    \n",
    "     \n",
    "    \n",
    "    Example 1:\n",
    "    \n",
    "    Input: \n",
    "    Signups table:\n",
    "    +---------+---------------------+\n",
    "    | user_id | time_stamp          |\n",
    "    +---------+---------------------+\n",
    "    | 3       | 2020-03-21 10:16:13 |\n",
    "    | 7       | 2020-01-04 13:57:59 |\n",
    "    | 2       | 2020-07-29 23:09:44 |\n",
    "    | 6       | 2020-12-09 10:39:37 |\n",
    "    +---------+---------------------+\n",
    "    Confirmations table:\n",
    "    +---------+---------------------+-----------+\n",
    "    | user_id | time_stamp          | action    |\n",
    "    +---------+---------------------+-----------+\n",
    "    | 3       | 2021-01-06 03:30:46 | timeout   |\n",
    "    | 3       | 2021-01-06 03:37:45 | timeout   |\n",
    "    | 7       | 2021-06-12 11:57:29 | confirmed |\n",
    "    | 7       | 2021-06-13 11:57:30 | confirmed |\n",
    "    | 2       | 2021-01-22 00:00:00 | confirmed |\n",
    "    | 2       | 2021-01-23 00:00:00 | timeout   |\n",
    "    | 6       | 2021-10-23 14:14:14 | confirmed |\n",
    "    | 6       | 2021-10-24 14:14:13 | timeout   |\n",
    "    +---------+---------------------+-----------+\n",
    "    Output: \n",
    "    +---------+\n",
    "    | user_id |\n",
    "    +---------+\n",
    "    | 2       |\n",
    "    | 3       |\n",
    "    | 6       |\n",
    "    +---------+\n",
    "    Explanation: \n",
    "    User 2 requested two messages within exactly 24 hours of each other, so we include them.\n",
    "    User 3 requested two messages within 6 minutes and 59 seconds of each other, so we include them.\n",
    "    User 6 requested two messages within 23 hours, 59 minutes, and 59 seconds of each other, so we include them.\n",
    "    User 7 requested two messages within 24 hours and 1 second of each other, so we exclude them from the answer.\n",
    "    \n"
   ]
  },
  {
   "cell_type": "markdown",
   "metadata": {},
   "source": [
    "# RANK"
   ]
  },
  {
   "cell_type": "code",
   "execution_count": 2,
   "metadata": {},
   "outputs": [],
   "source": [
    "WITH ordered AS (\n",
    "    SELECT \n",
    "        user_id,\n",
    "        time_stamp,\n",
    "        RANK() OVER(PARTITION BY user_id ORDER BY time_stamp) AS rnk\n",
    "    FROM Confirmations\n",
    ")\n",
    "SELECT\n",
    "    DISTINCT o1.user_id\n",
    "FROM ordered o1\n",
    "JOIN ordered o2\n",
    "ON o1.user_id = o2.user_id\n",
    "AND o1.rnk = o2.rnk - 1\n",
    "WHERE ABS(TIMESTAMPDIFF(SECOND, o1.time_stamp, o2.time_stamp)) <= 86400"
   ]
  },
  {
   "cell_type": "markdown",
   "metadata": {},
   "source": [
    "# JOIN"
   ]
  },
  {
   "cell_type": "code",
   "execution_count": 4,
   "metadata": {},
   "outputs": [],
   "source": [
    "SELECT \n",
    "    DISTINCT a.user_id\n",
    "FROM Confirmations a\n",
    "JOIN Confirmations b \n",
    "ON a.user_id = b.user_id\n",
    "AND a.time_stamp <> b.time_stamp\n",
    "WHERE ABS(TIMESTAMPDIFF(SECOND, a.time_stamp, b.time_stamp)) <= 86400"
   ]
  }
 ],
 "metadata": {
  "kernelspec": {
   "display_name": "Python [conda env:base] *",
   "language": "python",
   "name": "conda-base-py"
  },
  "language_info": {
   "codemirror_mode": {
    "name": "ipython",
    "version": 3
   },
   "file_extension": ".py",
   "mimetype": "text/x-python",
   "name": "python",
   "nbconvert_exporter": "python",
   "pygments_lexer": "ipython3",
   "version": "3.12.7"
  }
 },
 "nbformat": 4,
 "nbformat_minor": 4
}
