{
 "cells": [
  {
   "cell_type": "markdown",
   "metadata": {},
   "source": [
    "Problem Statement.\n",
    "\n",
    "Table: Customers\n",
    "\n",
    "<br/>+-------------+---------+\n",
    "<br/>| Column Name | Type    |\n",
    "<br/>+-------------+---------+\n",
    "<br/>| id          | int     |\n",
    "<br/>| name        | varchar |\n",
    "<br/>+-------------+---------+\n",
    "<br/>id is the primary key (column with unique values) for this table.\n",
    "Each row of this table indicates the ID and name of a customer.\n",
    "\n",
    " \n",
    "\n",
    "Table: Orders\n",
    "\n",
    "<br/>+-------------+------+\n",
    "<br/>| Column Name | Type |\n",
    "<br/>+-------------+------+\n",
    "<br/>| id          | int  |\n",
    "<br/>| customerId  | int  |\n",
    "<br/>+-------------+------+\n",
    "<br/>id is the primary key (column with unique values) for this table.\n",
    "customerId is a foreign key (reference columns) of the ID from the Customers table.\n",
    "Each row of this table indicates the ID of an order and the ID of the customer who ordered it.\n",
    "\n",
    " \n",
    "\n",
    "Write a solution to find all customers who never order anything.\n",
    "\n",
    "Return the result table in any order.\n",
    "\n",
    "The result format is in the following example.\n",
    "\n",
    " \n",
    "\n",
    "Example 1:\n",
    "\n",
    "Input: \n",
    "Customers table:\n",
    "<br/>+----+-------+\n",
    "<br/>| id | name  |\n",
    "<br/>+----+-------+\n",
    "<br/>| 1  | Joe   |\n",
    "<br/>| 2  | Henry |\n",
    "<br/>| 3  | Sam   |\n",
    "<br/>| 4  | Max   |\n",
    "<br/>+----+-------+\n",
    "<br/>Orders table:\n",
    "<br/>+----+------------+\n",
    "<br/>| id | customerId |\n",
    "<br/>+----+------------+\n",
    "<br/>| 1  | 3          |\n",
    "<br/>| 2  | 1          |\n",
    "<br/>+----+------------+\n",
    "<br/>Output: \n",
    "<br/>+-----------+\n",
    "<br/>| Customers |\n",
    "<br/>+-----------+\n",
    "<br/>| Henry     |\n",
    "<br/>| Max       |\n",
    "<br/>+-----------+"
   ]
  },
  {
   "cell_type": "markdown",
   "metadata": {},
   "source": [
    "# LEFT JOIN"
   ]
  },
  {
   "cell_type": "code",
   "execution_count": null,
   "metadata": {},
   "outputs": [],
   "source": [
    "SELECT \n",
    "    name AS Customers\n",
    "FROM\n",
    "    Customers c\n",
    "LEFT JOIN Orders o\n",
    "    ON c.id = o.customerid\n",
    "WHERE o.customerid IS NULL"
   ]
  },
  {
   "cell_type": "markdown",
   "metadata": {},
   "source": [
    "# NOT IN"
   ]
  },
  {
   "cell_type": "code",
   "execution_count": null,
   "metadata": {},
   "outputs": [],
   "source": [
    "SELECT \n",
    "    name AS Customers\n",
    "FROM\n",
    "    Customers\n",
    "WHERE id NOT IN (\n",
    "    SELECT \n",
    "        customerId \n",
    "    FROM\n",
    "        Orders\n",
    ")"
   ]
  }
 ],
 "metadata": {
  "kernelspec": {
   "display_name": "Python [conda env:base] *",
   "language": "python",
   "name": "conda-base-py"
  },
  "language_info": {
   "codemirror_mode": {
    "name": "ipython",
    "version": 3
   },
   "file_extension": ".py",
   "mimetype": "text/x-python",
   "name": "python",
   "nbconvert_exporter": "python",
   "pygments_lexer": "ipython3",
   "version": "3.12.7"
  }
 },
 "nbformat": 4,
 "nbformat_minor": 4
}
