{
 "cells": [
  {
   "cell_type": "markdown",
   "metadata": {},
   "source": [
    "Problem Statement.\n",
    "\n",
    "Table: Scores\n",
    "\n",
    "<br/>+-------------+---------+\n",
    "<br/>| Column Name | Type    |\n",
    "<br/>+-------------+---------+\n",
    "<br/>| id          | int     |\n",
    "<br/>| score       | decimal |\n",
    "<br/>+-------------+---------+\n",
    "<br/>id is the primary key (column with unique values) for this table.\n",
    "Each row of this table contains the score of a game. Score is a floating point value with two decimal places.\n",
    "\n",
    " \n",
    "\n",
    "Write a solution to find the rank of the scores. The ranking should be calculated according to the following rules:\n",
    "\n",
    "    The scores should be ranked from the highest to the lowest.\n",
    "    If there is a tie between two scores, both should have the same ranking.\n",
    "    After a tie, the next ranking number should be the next consecutive integer value. In other words, there should be no holes between ranks.\n",
    "\n",
    "Return the result table ordered by score in descending order.\n",
    "\n",
    "The result format is in the following example.\n",
    "\n",
    " \n",
    "\n",
    "Example 1:\n",
    "\n",
    "Input: \n",
    "Scores table:\n",
    "<br/>+----+-------+\n",
    "<br/>| id | score |\n",
    "<br/>+----+-------+\n",
    "<br/>| 1  | 3.50  |\n",
    "<br/>| 2  | 3.65  |\n",
    "<br/>| 3  | 4.00  |\n",
    "<br/>| 4  | 3.85  |\n",
    "<br/>| 5  | 4.00  |\n",
    "<br/>| 6  | 3.65  |\n",
    "<br/>+----+-------+\n",
    "<br/>Output: \n",
    "<br/>+-------+------+\n",
    "<br/>| score | rank |\n",
    "<br/>+-------+------+\n",
    "<br/>| 4.00  | 1    |\n",
    "<br/>| 4.00  | 1    |\n",
    "<br/>| 3.85  | 2    |\n",
    "<br/>| 3.65  | 3    |\n",
    "<br/>| 3.65  | 3    |\n",
    "<br/>| 3.50  | 4    |\n",
    "<br/>+-------+------+"
   ]
  },
  {
   "cell_type": "markdown",
   "metadata": {},
   "source": [
    "# DENSE_RANK"
   ]
  },
  {
   "cell_type": "code",
   "execution_count": null,
   "metadata": {},
   "outputs": [],
   "source": [
    "SELECT \n",
    "    score, \n",
    "    DENSE_RANK() OVER (ORDER BY score DESC) AS `rank`\n",
    "FROM Scores\n",
    "ORDER BY `rank`"
   ]
  }
 ],
 "metadata": {
  "kernelspec": {
   "display_name": "Python [conda env:base] *",
   "language": "python",
   "name": "conda-base-py"
  },
  "language_info": {
   "codemirror_mode": {
    "name": "ipython",
    "version": 3
   },
   "file_extension": ".py",
   "mimetype": "text/x-python",
   "name": "python",
   "nbconvert_exporter": "python",
   "pygments_lexer": "ipython3",
   "version": "3.12.7"
  }
 },
 "nbformat": 4,
 "nbformat_minor": 4
}
