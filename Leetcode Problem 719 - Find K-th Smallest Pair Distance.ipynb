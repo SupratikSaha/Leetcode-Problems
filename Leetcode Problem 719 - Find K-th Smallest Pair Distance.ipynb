{
 "cells": [
  {
   "cell_type": "markdown",
   "metadata": {},
   "source": [
    "Problem Statement.\n",
    "\n",
    "The distance of a pair of integers a and b is defined as the absolute difference between a and b.\n",
    "\n",
    "Given an integer array nums and an integer k, return the kth smallest distance among all the pairs nums[i] and nums[j] where 0 <= i < j < nums.length.\n",
    "\n",
    " \n",
    "\n",
    "Example 1:\n",
    "\n",
    "Input: nums = [1,3,1], k = 1\n",
    "Output: 0\n",
    "Explanation: Here are all the pairs:\n",
    "(1,3) -> 2\n",
    "(1,1) -> 0\n",
    "(3,1) -> 2\n",
    "Then the 1st smallest distance pair is (1,1), and its distance is 0.\n",
    "\n",
    "Example 2:\n",
    "\n",
    "Input: nums = [1,1,1], k = 2\n",
    "Output: 0\n",
    "\n",
    "Example 3:\n",
    "\n",
    "Input: nums = [1,6,1], k = 3\n",
    "Output: 5\n",
    "\n",
    " \n",
    "\n",
    "Constraints:\n",
    "\n",
    "    n == nums.length\n",
    "    2 <= n <= 104\n",
    "    0 <= nums[i] <= 106\n",
    "    1 <= k <= n * (n - 1) / 2\n",
    "\n"
   ]
  },
  {
   "cell_type": "markdown",
   "metadata": {},
   "source": [
    "# Binary Search and Sliding Window - O(N * LogN + N * LogM ), O(N) space where N is the length of nums and M is the "
   ]
  },
  {
   "cell_type": "code",
   "execution_count": 5,
   "metadata": {},
   "outputs": [],
   "source": [
    "from typing import List\n",
    "\n",
    "class Solution:\n",
    "    def smallestDistancePair(self, nums: List[int], k: int) -> int:\n",
    "\n",
    "        def count_pairs(dist):\n",
    "            left = 0\n",
    "            count = 0\n",
    "            for right in range(n):\n",
    "                while nums[right] - nums[left] > dist:\n",
    "                    left += 1\n",
    "                \n",
    "                count += right - left\n",
    "            \n",
    "            return count\n",
    "\n",
    "        n = len(nums)\n",
    "        nums.sort()\n",
    "        left, right = 0, nums[n-1] - nums[0]\n",
    "\n",
    "        while left < right:\n",
    "            mid = left + (right - left) // 2\n",
    "            count = count_pairs(mid)\n",
    "\n",
    "            if count < k: left = mid + 1\n",
    "            else: right = mid\n",
    "\n",
    "        return left"
   ]
  },
  {
   "cell_type": "code",
   "execution_count": 7,
   "metadata": {},
   "outputs": [
    {
     "data": {
      "text/plain": [
       "5"
      ]
     },
     "execution_count": 7,
     "metadata": {},
     "output_type": "execute_result"
    }
   ],
   "source": [
    "instance = Solution()\n",
    "instance.smallestDistancePair([1,6,1], 3)"
   ]
  }
 ],
 "metadata": {
  "kernelspec": {
   "display_name": "Python [conda env:base] *",
   "language": "python",
   "name": "conda-base-py"
  },
  "language_info": {
   "codemirror_mode": {
    "name": "ipython",
    "version": 3
   },
   "file_extension": ".py",
   "mimetype": "text/x-python",
   "name": "python",
   "nbconvert_exporter": "python",
   "pygments_lexer": "ipython3",
   "version": "3.12.7"
  }
 },
 "nbformat": 4,
 "nbformat_minor": 4
}
