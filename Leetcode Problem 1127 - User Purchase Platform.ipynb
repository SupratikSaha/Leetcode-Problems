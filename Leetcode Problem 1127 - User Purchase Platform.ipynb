{
 "cells": [
  {
   "cell_type": "markdown",
   "metadata": {},
   "source": [
    "    Problem Statement.\n",
    "    \n",
    "    Table: Spending\n",
    "    \n",
    "    +-------------+---------+\n",
    "    | Column Name | Type    |\n",
    "    +-------------+---------+\n",
    "    | user_id     | int     |\n",
    "    | spend_date  | date    |\n",
    "    | platform    | enum    | \n",
    "    | amount      | int     |\n",
    "    +-------------+---------+\n",
    "    The table logs the history of the spending of users that make purchases from an online shopping website that has a desktop and a mobile application.\n",
    "    (user_id, spend_date, platform) is the primary key (combination of columns with unique values) of this table.\n",
    "    The platform column is an ENUM (category) type of ('desktop', 'mobile').\n",
    "    \n",
    "     \n",
    "    \n",
    "    Write a solution to find the total number of users and the total amount spent using the mobile only, the desktop only, and both mobile and desktop together for each date.\n",
    "    \n",
    "    Return the result table in any order.\n",
    "    \n",
    "    The result format is in the following example.\n",
    "    \n",
    "     \n",
    "    \n",
    "    Example 1:\n",
    "    \n",
    "    Input: \n",
    "    Spending table:\n",
    "    +---------+------------+----------+--------+\n",
    "    | user_id | spend_date | platform | amount |\n",
    "    +---------+------------+----------+--------+\n",
    "    | 1       | 2019-07-01 | mobile   | 100    |\n",
    "    | 1       | 2019-07-01 | desktop  | 100    |\n",
    "    | 2       | 2019-07-01 | mobile   | 100    |\n",
    "    | 2       | 2019-07-02 | mobile   | 100    |\n",
    "    | 3       | 2019-07-01 | desktop  | 100    |\n",
    "    | 3       | 2019-07-02 | desktop  | 100    |\n",
    "    +---------+------------+----------+--------+\n",
    "    Output: \n",
    "    +------------+----------+--------------+-------------+\n",
    "    | spend_date | platform | total_amount | total_users |\n",
    "    +------------+----------+--------------+-------------+\n",
    "    | 2019-07-01 | desktop  | 100          | 1           |\n",
    "    | 2019-07-01 | mobile   | 100          | 1           |\n",
    "    | 2019-07-01 | both     | 200          | 1           |\n",
    "    | 2019-07-02 | desktop  | 100          | 1           |\n",
    "    | 2019-07-02 | mobile   | 100          | 1           |\n",
    "    | 2019-07-02 | both     | 0            | 0           |\n",
    "    +------------+----------+--------------+-------------+ \n",
    "    Explanation: \n",
    "    On 2019-07-01, user 1 purchased using both desktop and mobile, user 2 purchased using mobile only and user 3 purchased using desktop only.\n",
    "    On 2019-07-02, user 2 purchased using mobile only, user 3 purchased using desktop only and no one purchased using both platforms."
   ]
  },
  {
   "cell_type": "markdown",
   "metadata": {},
   "source": [
    "# CASE"
   ]
  },
  {
   "cell_type": "code",
   "execution_count": null,
   "metadata": {},
   "outputs": [],
   "source": [
    "SELECT\n",
    "    c.spend_date, \n",
    "    c.platform, \n",
    "    SUM(COALESCE(amount,0)) AS total_amount, \n",
    "    SUM(CASE WHEN amount IS NULL THEN 0 ELSE 1 END) AS total_users \n",
    "FROM\n",
    "    (\n",
    "        SELECT DISTINCT spend_date, 'desktop' platform FROM spending \n",
    "        UNION ALL\n",
    "        SELECT DISTINCT spend_date, 'mobile' platform FROM spending \n",
    "        UNION ALL\n",
    "        SELECT DISTINCT spend_date, 'both' platform FROM spending \n",
    "    ) c\n",
    "LEFT JOIN   \n",
    "    (\n",
    "        SELECT\n",
    "            user_id, \n",
    "            spend_date, \n",
    "            CASE WHEN count(*) = 1 THEN platform ELSE 'both' END AS platform, \n",
    "            SUM(amount) AS amount \n",
    "        FROM Spending \n",
    "        GROUP BY user_id, spend_date\n",
    "    ) v  \n",
    "ON c.spend_date = v.spend_date AND c.platform = v.platform\n",
    "GROUP BY spend_date, platform;"
   ]
  }
 ],
 "metadata": {
  "kernelspec": {
   "display_name": "Python [conda env:base] *",
   "language": "python",
   "name": "conda-base-py"
  },
  "language_info": {
   "codemirror_mode": {
    "name": "ipython",
    "version": 3
   },
   "file_extension": ".py",
   "mimetype": "text/x-python",
   "name": "python",
   "nbconvert_exporter": "python",
   "pygments_lexer": "ipython3",
   "version": "3.12.7"
  }
 },
 "nbformat": 4,
 "nbformat_minor": 4
}
