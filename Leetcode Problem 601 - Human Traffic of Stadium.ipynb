{
 "cells": [
  {
   "cell_type": "markdown",
   "metadata": {},
   "source": [
    "Problem Statement.\n",
    "\n",
    "Table: Cinema\n",
    "\n",
    "<br/>+-------------+------+\n",
    "<br/>| Column Name | Type |\n",
    "<br/>+-------------+------+\n",
    "<br/>| seat_id     | int  |\n",
    "<br/>| free        | bool |\n",
    "<br/>+-------------+------+\n",
    "<br/>seat_id is an auto-increment column for this table.\n",
    "Each row of this table indicates whether the ith seat is free or not. 1 means free while 0 means occupied.\n",
    "\n",
    " \n",
    "\n",
    "Find all the consecutive available seats in the cinema.\n",
    "\n",
    "Return the result table ordered by seat_id in ascending order.\n",
    "\n",
    "The test cases are generated so that more than two seats are consecutively available.\n",
    "\n",
    "The result format is in the following example.\n",
    "\n",
    " \n",
    "\n",
    "Example 1:\n",
    "\n",
    "Input: \n",
    "Cinema table:\n",
    "<br/>+---------+------+\n",
    "<br/>| seat_id | free |\n",
    "<br/>+---------+------+\n",
    "<br/>| 1       | 1    |\n",
    "<br/>| 2       | 0    |\n",
    "<br/>| 3       | 1    |\n",
    "<br/>| 4       | 1    |\n",
    "<br/>| 5       | 1    |\n",
    "<br/>+---------+------+\n",
    "<br/>Output: \n",
    "<br/>+---------+\n",
    "<br/>| seat_id |\n",
    "<br/>+---------+\n",
    "<br/>| 3       |\n",
    "<br/>| 4       |\n",
    "<br/>| 5       |\n",
    "<br/>+---------+"
   ]
  },
  {
   "cell_type": "markdown",
   "metadata": {},
   "source": [
    "# DISTINCT"
   ]
  },
  {
   "cell_type": "code",
   "execution_count": 2,
   "metadata": {},
   "outputs": [],
   "source": [
    "SELECT\n",
    "    DISTINCT c.seat_id\n",
    "FROM\n",
    "    Cinema c\n",
    "JOIN\n",
    "    Cinema o\n",
    "ON\n",
    "    abs(c.seat_id - o.seat_id) = 1 AND c.free = 1 AND o.free = 1\n",
    "ORDER BY\n",
    "    c.seat_id"
   ]
  },
  {
   "cell_type": "markdown",
   "metadata": {},
   "source": [
    "# JOIN"
   ]
  },
  {
   "cell_type": "code",
   "execution_count": null,
   "metadata": {},
   "outputs": [],
   "source": [
    "SELECT\n",
    "    c.seat_id\n",
    "FROM\n",
    "    Cinema c\n",
    "LEFT JOIN\n",
    "    Cinema prev\n",
    "ON\n",
    "    c.seat_id - 1 = prev.seat_id AND c.free = prev.free AND c.free = 1\n",
    "LEFT JOIN\n",
    "    Cinema next\n",
    "ON\n",
    "    c.seat_id + 1 = next.seat_id AND c.free = next.free AND c.free = 1\n",
    "WHERE c.free = 1 AND (c.free = prev.free OR c.free = next.free)"
   ]
  }
 ],
 "metadata": {
  "kernelspec": {
   "display_name": "Python [conda env:base] *",
   "language": "python",
   "name": "conda-base-py"
  },
  "language_info": {
   "codemirror_mode": {
    "name": "ipython",
    "version": 3
   },
   "file_extension": ".py",
   "mimetype": "text/x-python",
   "name": "python",
   "nbconvert_exporter": "python",
   "pygments_lexer": "ipython3",
   "version": "3.12.7"
  }
 },
 "nbformat": 4,
 "nbformat_minor": 4
}
