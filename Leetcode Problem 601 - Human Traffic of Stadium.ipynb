{
 "cells": [
  {
   "cell_type": "markdown",
   "metadata": {},
   "source": [
    "    Problem Statement.\n",
    "    \n",
    "    Table: Stadium\n",
    "    \n",
    "    +---------------+---------+\n",
    "    | Column Name   | Type    |\n",
    "    +---------------+---------+\n",
    "    | id            | int     |\n",
    "    | visit_date    | date    |\n",
    "    | people        | int     |\n",
    "    +---------------+---------+\n",
    "    visit_date is the column with unique values for this table.\n",
    "    Each row of this table contains the visit date and visit id to the stadium with the number of people during the visit.\n",
    "    As the id increases, the date increases as well.\n",
    "    \n",
    "     \n",
    "    \n",
    "    Write a solution to display the records with three or more rows with consecutive id's, and the number of people is greater than or equal to 100 for each.\n",
    "    \n",
    "    Return the result table ordered by visit_date in ascending order.\n",
    "    \n",
    "    The result format is in the following example.\n",
    "    \n",
    "     \n",
    "    \n",
    "    Example 1:\n",
    "    \n",
    "    Input: \n",
    "    Stadium table:\n",
    "    +------+------------+-----------+\n",
    "    | id   | visit_date | people    |\n",
    "    +------+------------+-----------+\n",
    "    | 1    | 2017-01-01 | 10        |\n",
    "    | 2    | 2017-01-02 | 109       |\n",
    "    | 3    | 2017-01-03 | 150       |\n",
    "    | 4    | 2017-01-04 | 99        |\n",
    "    | 5    | 2017-01-05 | 145       |\n",
    "    | 6    | 2017-01-06 | 1455      |\n",
    "    | 7    | 2017-01-07 | 199       |\n",
    "    | 8    | 2017-01-09 | 188       |\n",
    "    +------+------------+-----------+\n",
    "    Output: \n",
    "    +------+------------+-----------+\n",
    "    | id   | visit_date | people    |\n",
    "    +------+------------+-----------+\n",
    "    | 5    | 2017-01-05 | 145       |\n",
    "    | 6    | 2017-01-06 | 1455      |\n",
    "    | 7    | 2017-01-07 | 199       |\n",
    "    | 8    | 2017-01-09 | 188       |\n",
    "    +------+------------+-----------+\n",
    "    Explanation: \n",
    "    The four rows with ids 5, 6, 7, and 8 have consecutive ids and each of them has >= 100 people attended. Note that row 8 was included even though the visit_date was not the next day after row 7.\n",
    "    The rows with ids 2 and 3 are not included because we need at least three consecutive ids.\n",
    "    \n"
   ]
  },
  {
   "cell_type": "markdown",
   "metadata": {},
   "source": [
    "# DISTINCT"
   ]
  },
  {
   "cell_type": "code",
   "execution_count": 2,
   "metadata": {},
   "outputs": [],
   "source": [
    "SELECT \n",
    "    DISTINCT a.*\n",
    "FROM \n",
    "    stadium AS a, stadium AS b, stadium AS c\n",
    "WHERE\n",
    "     a.people >= 100 AND b.people >= 100 AND c.people >= 100\n",
    "AND \n",
    "    (\n",
    "       (a.id - b.id = 1 AND b.id - c.id = 1)\n",
    "    OR (c.id - b.id = 1 AND b.id - a.id = 1)\n",
    "    OR (b.id - a.id = 1 AND a.id - c.id = 1)\n",
    "    )\n",
    "ORDER BY visit_date"
   ]
  }
 ],
 "metadata": {
  "kernelspec": {
   "display_name": "Python [conda env:base] *",
   "language": "python",
   "name": "conda-base-py"
  },
  "language_info": {
   "codemirror_mode": {
    "name": "ipython",
    "version": 3
   },
   "file_extension": ".py",
   "mimetype": "text/x-python",
   "name": "python",
   "nbconvert_exporter": "python",
   "pygments_lexer": "ipython3",
   "version": "3.12.7"
  }
 },
 "nbformat": 4,
 "nbformat_minor": 4
}
