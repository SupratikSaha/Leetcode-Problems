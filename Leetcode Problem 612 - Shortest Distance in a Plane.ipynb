{
 "cells": [
  {
   "cell_type": "markdown",
   "metadata": {},
   "source": [
    "    Problem Statement.\n",
    "    \n",
    "    Table: Point2D\n",
    "    \n",
    "    +-------------+------+\n",
    "    | Column Name | Type |\n",
    "    +-------------+------+\n",
    "    | x           | int  |\n",
    "    | y           | int  |\n",
    "    +-------------+------+\n",
    "    (x, y) is the primary key column (combination of columns with unique values) for this table.\n",
    "    Each row of this table indicates the position of a point on the X-Y plane.\n",
    "    \n",
    "     \n",
    "    \n",
    "    The distance between two points p1(x1, y1) and p2(x2, y2) is sqrt((x2 - x1)2 + (y2 - y1)2).\n",
    "    \n",
    "    Write a solution to report the shortest distance between any two points from the Point2D table. Round the distance to two decimal points.\n",
    "    \n",
    "    The result format is in the following example.\n",
    "    \n",
    "     \n",
    "    \n",
    "    Example 1:\n",
    "    \n",
    "    Input: \n",
    "    Point2D table:\n",
    "    +----+----+\n",
    "    | x  | y  |\n",
    "    +----+----+\n",
    "    | -1 | -1 |\n",
    "    | 0  | 0  |\n",
    "    | -1 | -2 |\n",
    "    +----+----+\n",
    "    Output: \n",
    "    +----------+\n",
    "    | shortest |\n",
    "    +----------+\n",
    "    | 1.00     |\n",
    "    +----------+\n",
    "    Explanation: The shortest distance is 1.00 from point (-1, -1) to (-1, 2).\n",
    "    \n"
   ]
  },
  {
   "cell_type": "markdown",
   "metadata": {},
   "source": [
    "# JOIN"
   ]
  },
  {
   "cell_type": "code",
   "execution_count": 3,
   "metadata": {},
   "outputs": [],
   "source": [
    "SELECT \n",
    "    ROUND(SQRT(MIN((POW(a.x - b.x, 2) + POW(a.y - b.y, 2)))),2) AS shortest\n",
    "FROM Point2D a\n",
    "JOIN Point2D b\n",
    "ON (a.x <= b.x AND a.y > b.y) OR (a.x <= b.x AND a.y < b.y) OR (a.x < b.x AND a.y = b.y)"
   ]
  }
 ],
 "metadata": {
  "kernelspec": {
   "display_name": "Python [conda env:base] *",
   "language": "python",
   "name": "conda-base-py"
  },
  "language_info": {
   "codemirror_mode": {
    "name": "ipython",
    "version": 3
   },
   "file_extension": ".py",
   "mimetype": "text/x-python",
   "name": "python",
   "nbconvert_exporter": "python",
   "pygments_lexer": "ipython3",
   "version": "3.12.7"
  }
 },
 "nbformat": 4,
 "nbformat_minor": 4
}
