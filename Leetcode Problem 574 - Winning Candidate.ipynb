{
 "cells": [
  {
   "cell_type": "markdown",
   "metadata": {},
   "source": [
    "ProblemStatement.\n",
    "\n",
    "Table: Candidate\n",
    "\n",
    "<br/>+-------------+----------+\n",
    "<br/>| Column Name | Type     |\n",
    "<br/>+-------------+----------+\n",
    "<br/>| id          | int      |\n",
    "<br/>| name        | varchar  |\n",
    "<br/>+-------------+----------+\n",
    "<br/>id is the column with unique values for this table.\n",
    "Each row of this table contains information about the id and the name of a candidate.\n",
    "\n",
    " \n",
    "\n",
    "Table: Vote\n",
    "\n",
    "<br/>+-------------+------+\n",
    "<br/>| Column Name | Type |\n",
    "<br/>+-------------+------+\n",
    "<br/>| id          | int  |\n",
    "<br/>| candidateId | int  |\n",
    "<br/>+-------------+------+\n",
    "<br/>id is an auto-increment primary key (column with unique values).\n",
    "candidateId is a foreign key (reference column) to id from the Candidate table.\n",
    "Each row of this table determines the candidate who got the ith vote in the elections.\n",
    "\n",
    " \n",
    "\n",
    "Write a solution to report the name of the winning candidate (i.e., the candidate who got the largest number of votes).\n",
    "\n",
    "The test cases are generated so that exactly one candidate wins the elections.\n",
    "\n",
    "The result format is in the following example.\n",
    "\n",
    " \n",
    "\n",
    "Example 1:\n",
    "\n",
    "Input: \n",
    "Candidate table:\n",
    "<br/>+----+------+\n",
    "<br/>| id | name |\n",
    "<br/>+----+------+\n",
    "<br/>| 1  | A    |\n",
    "<br/>| 2  | B    |\n",
    "<br/>| 3  | C    |\n",
    "<br/>| 4  | D    |\n",
    "<br/>| 5  | E    |\n",
    "<br/>+----+------+\n",
    "<br/>Vote table:\n",
    "<br/>+----+-------------+\n",
    "<br/>| id | candidateId |\n",
    "<br/>+----+-------------+\n",
    "<br/>| 1  | 2           |\n",
    "<br/>| 2  | 4           |\n",
    "<br/>| 3  | 3           |\n",
    "<br/>| 4  | 2           |\n",
    "<br/>| 5  | 5           |\n",
    "<br/>+----+-------------+\n",
    "<br/>Output: \n",
    "<br/>+------+\n",
    "<br/>| name |\n",
    "<br/>+------+\n",
    "<br/>| B    |\n",
    "<br/>+------+\n",
    "<br/>Explanation: \n",
    "Candidate B has 2 votes. Candidates C, D, and E have 1 vote each.\n",
    "The winner is candidate B."
   ]
  },
  {
   "cell_type": "markdown",
   "metadata": {},
   "source": [
    "# SUBQUERY"
   ]
  },
  {
   "cell_type": "code",
   "execution_count": 3,
   "metadata": {},
   "outputs": [],
   "source": [
    "SELECT \n",
    "    name\n",
    "FROM \n",
    "    Candidate c\n",
    "JOIN \n",
    "    (\n",
    "        SELECT \n",
    "            candidateId\n",
    "        FROM \n",
    "            Vote \n",
    "        GROUP BY \n",
    "            candidateId \n",
    "        ORDER BY \n",
    "            COUNT(*) DESC \n",
    "        LIMIT \n",
    "            1\n",
    "  ) AS v \n",
    "ON c.id = v.candidateid"
   ]
  },
  {
   "cell_type": "markdown",
   "metadata": {},
   "source": [
    "# SIMPLE JOIN"
   ]
  },
  {
   "cell_type": "code",
   "execution_count": 1,
   "metadata": {},
   "outputs": [],
   "source": [
    "SELECT \n",
    "    name\n",
    "FROM \n",
    "    Candidate c\n",
    "JOIN \n",
    "    Vote v\n",
    "ON c.id = v.candidateid\n",
    "GROUP BY \n",
    "    candidateid\n",
    "ORDER BY \n",
    "    count(*) DESC\n",
    "LIMIT \n",
    "    1"
   ]
  }
 ],
 "metadata": {
  "kernelspec": {
   "display_name": "Python [conda env:base] *",
   "language": "python",
   "name": "conda-base-py"
  },
  "language_info": {
   "codemirror_mode": {
    "name": "ipython",
    "version": 3
   },
   "file_extension": ".py",
   "mimetype": "text/x-python",
   "name": "python",
   "nbconvert_exporter": "python",
   "pygments_lexer": "ipython3",
   "version": "3.12.7"
  }
 },
 "nbformat": 4,
 "nbformat_minor": 4
}
