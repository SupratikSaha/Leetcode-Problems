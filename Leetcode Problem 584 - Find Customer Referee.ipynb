{
 "cells": [
  {
   "cell_type": "markdown",
   "metadata": {},
   "source": [
    "    Problem Statement.\n",
    "    \n",
    "    Table: Customer\n",
    "    \n",
    "    +-------------+---------+\n",
    "    | Column Name | Type    |\n",
    "    +-------------+---------+\n",
    "    | id          | int     |\n",
    "    | name        | varchar |\n",
    "    | referee_id  | int     |\n",
    "    +-------------+---------+\n",
    "    In SQL, id is the primary key column for this table.\n",
    "    Each row of this table indicates the id of a customer, their name, and the id of the customer who referred them.\n",
    "    \n",
    "     \n",
    "    \n",
    "    Find the names of the customer that are either:\n",
    "    \n",
    "        referred by any customer with id != 2.\n",
    "        not referred by any customer.\n",
    "    \n",
    "    Return the result table in any order.\n",
    "    \n",
    "    The result format is in the following example.\n",
    "    \n",
    "     \n",
    "    \n",
    "    Example 1:\n",
    "    \n",
    "    Input: \n",
    "    Customer table:\n",
    "    +----+------+------------+\n",
    "    | id | name | referee_id |\n",
    "    +----+------+------------+\n",
    "    | 1  | Will | null       |\n",
    "    | 2  | Jane | null       |\n",
    "    | 3  | Alex | 2          |\n",
    "    | 4  | Bill | null       |\n",
    "    | 5  | Zack | 1          |\n",
    "    | 6  | Mark | 2          |\n",
    "    +----+------+------------+\n",
    "    Output: \n",
    "    +------+\n",
    "    | name |\n",
    "    +------+\n",
    "    | Will |\n",
    "    | Jane |\n",
    "    | Bill |\n",
    "    | Zack |\n",
    "    +------+"
   ]
  },
  {
   "cell_type": "markdown",
   "metadata": {},
   "source": [
    "# IN"
   ]
  },
  {
   "cell_type": "code",
   "execution_count": 1,
   "metadata": {},
   "outputs": [],
   "source": [
    "SELECT\n",
    "    name\n",
    "FROM \n",
    "    Customer\n",
    "WHERE\n",
    "    referee_id != 2 OR referee_id IS NULL"
   ]
  }
 ],
 "metadata": {
  "kernelspec": {
   "display_name": "Python [conda env:base] *",
   "language": "python",
   "name": "conda-base-py"
  },
  "language_info": {
   "codemirror_mode": {
    "name": "ipython",
    "version": 3
   },
   "file_extension": ".py",
   "mimetype": "text/x-python",
   "name": "python",
   "nbconvert_exporter": "python",
   "pygments_lexer": "ipython3",
   "version": "3.12.7"
  }
 },
 "nbformat": 4,
 "nbformat_minor": 4
}
