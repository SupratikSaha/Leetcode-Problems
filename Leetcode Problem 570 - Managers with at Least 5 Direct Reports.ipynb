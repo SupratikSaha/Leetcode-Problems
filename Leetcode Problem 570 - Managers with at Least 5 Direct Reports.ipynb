{
 "cells": [
  {
   "cell_type": "markdown",
   "metadata": {},
   "source": [
    "Problem Statement.\n",
    "\n",
    "Table: Employee\n",
    "\n",
    "<br/>+-------------+---------+\n",
    "<br/>| Column Name | Type    |\n",
    "<br/>+-------------+---------+\n",
    "<br/>| id          | int     |\n",
    "<br/>| name        | varchar |\n",
    "<br/>| department  | varchar |\n",
    "<br/>| managerId   | int     |\n",
    "<br/>+-------------+---------+\n",
    "<br/>id is the primary key (column with unique values) for this table.\n",
    "Each row of this table indicates the name of an employee, their department, and the id of their manager.\n",
    "If managerId is null, then the employee does not have a manager.\n",
    "No employee will be the manager of themself.\n",
    "\n",
    " \n",
    "\n",
    "Write a solution to find managers with at least five direct reports.\n",
    "\n",
    "Return the result table in any order.\n",
    "\n",
    "The result format is in the following example.\n",
    "\n",
    " \n",
    "\n",
    "Example 1:\n",
    "\n",
    "Input: \n",
    "Employee table:\n",
    "<br/>+-----+-------+------------+-----------+\n",
    "<br/>| id  | name  | department | managerId |\n",
    "<br/>+-----+-------+------------+-----------+\n",
    "<br/>| 101 | John  | A          | null      |\n",
    "<br/>| 102 | Dan   | A          | 101       |\n",
    "<br/>| 103 | James | A          | 101       |\n",
    "<br/>| 104 | Amy   | A          | 101       |\n",
    "<br/>| 105 | Anne  | A          | 101       |\n",
    "<br/>| 106 | Ron   | B          | 101       |\n",
    "<br/>+-----+-------+------------+-----------+\n",
    "<br/>Output: \n",
    "<br/>+------+\n",
    "<br/>| name |\n",
    "<br/>+------+\n",
    "<br/>| John |\n",
    "<br/>+------+"
   ]
  },
  {
   "cell_type": "markdown",
   "metadata": {},
   "source": [
    "# GROUP BY CTE"
   ]
  },
  {
   "cell_type": "code",
   "execution_count": 3,
   "metadata": {},
   "outputs": [],
   "source": [
    "WITH managers AS (\n",
    "    SELECT \n",
    "        managerId\n",
    "    FROM \n",
    "        Employee\n",
    "    GROUP BY \n",
    "        managerId\n",
    "    HAVING\n",
    "        COUNT(*) >= 5\n",
    ")\n",
    "SELECT\n",
    "    name\n",
    "FROM\n",
    "    Employee e\n",
    "JOIN\n",
    "    managers m\n",
    "ON \n",
    "    e.id = m.managerId"
   ]
  }
 ],
 "metadata": {
  "kernelspec": {
   "display_name": "Python [conda env:base] *",
   "language": "python",
   "name": "conda-base-py"
  },
  "language_info": {
   "codemirror_mode": {
    "name": "ipython",
    "version": 3
   },
   "file_extension": ".py",
   "mimetype": "text/x-python",
   "name": "python",
   "nbconvert_exporter": "python",
   "pygments_lexer": "ipython3",
   "version": "3.12.7"
  }
 },
 "nbformat": 4,
 "nbformat_minor": 4
}
