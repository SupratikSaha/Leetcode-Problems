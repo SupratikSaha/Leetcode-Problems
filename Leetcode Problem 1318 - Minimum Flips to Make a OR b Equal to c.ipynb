{
 "cells": [
  {
   "cell_type": "markdown",
   "metadata": {},
   "source": [
    "    Problem Statement.\n",
    "\n",
    "    Given 3 positives numbers a, b and c. Return the minimum flips required in some bits of a and b to make ( a OR b == c ). (bitwise OR operation).\n",
    "Flip operation consists of change any single bit 1 to 0 or change the bit 0 to 1 in their binary representation.\n",
    "\n",
    "\n",
    "Example 1:\n",
    "\n",
    "Input: a = 2, b = 6, c = 5\n",
    "Output: 3\n",
    "Explanation: After flips a = 1 , b = 4 , c = 5 such that (a OR b == c)\n",
    "\n",
    "Example 2:\n",
    "\n",
    "Input: a = 4, b = 2, c = 7\n",
    "Output: 1\n",
    "\n",
    "Example 3:\n",
    "\n",
    "Input: a = 1, b = 2, c = 3\n",
    "Output: 0\n",
    "\n",
    "\n",
    "Constraints:\n",
    "\n",
    "    1 <= a <= 10^9\n",
    "    1 <= b <= 10^9\n",
    "    1 <= c <= 10^9"
   ]
  },
  {
   "cell_type": "markdown",
   "metadata": {},
   "source": [
    "# Bit Manipulation - O(N) runtime, O(1) space"
   ]
  },
  {
   "cell_type": "code",
   "execution_count": 3,
   "metadata": {},
   "outputs": [],
   "source": [
    "class Solution:\n",
    "    def minFlips(self, a: int, b: int, c: int) -> int:\n",
    "        res = 0\n",
    "\n",
    "        while a or b or c:\n",
    "            if c & 1:\n",
    "                res += 0 if ( (a & 1) or (b & 1)) else 1\n",
    "            else:\n",
    "                res += (a & 1) + (b & 1)\n",
    "\n",
    "            a >>= 1\n",
    "            b >>= 1\n",
    "            c >>= 1\n",
    "\n",
    "        return res"
   ]
  },
  {
   "cell_type": "code",
   "execution_count": 5,
   "metadata": {},
   "outputs": [
    {
     "data": {
      "text/plain": [
       "3"
      ]
     },
     "execution_count": 5,
     "metadata": {},
     "output_type": "execute_result"
    }
   ],
   "source": [
    "instance = Solution()\n",
    "instance.minFlips(2, 6, 5)"
   ]
  }
 ],
 "metadata": {
  "kernelspec": {
   "display_name": "Python [conda env:base] *",
   "language": "python",
   "name": "conda-base-py"
  },
  "language_info": {
   "codemirror_mode": {
    "name": "ipython",
    "version": 3
   },
   "file_extension": ".py",
   "mimetype": "text/x-python",
   "name": "python",
   "nbconvert_exporter": "python",
   "pygments_lexer": "ipython3",
   "version": "3.12.7"
  }
 },
 "nbformat": 4,
 "nbformat_minor": 4
}
