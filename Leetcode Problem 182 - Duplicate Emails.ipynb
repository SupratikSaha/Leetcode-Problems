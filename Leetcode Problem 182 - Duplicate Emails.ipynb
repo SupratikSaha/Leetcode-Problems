{
 "cells": [
  {
   "cell_type": "markdown",
   "metadata": {},
   "source": [
    "Problem Statement.\n",
    "\n",
    "Table: Person\n",
    "\n",
    "<br/>+-------------+---------+\n",
    "<br/>| Column Name | Type    |\n",
    "<br/>+-------------+---------+\n",
    "<br/>| id          | int     |\n",
    "<br/>| email       | varchar |\n",
    "<br/>+-------------+---------+\n",
    "<br/>id is the primary key (column with unique values) for this table.\n",
    "Each row of this table contains an email. The emails will not contain uppercase letters.\n",
    "\n",
    " \n",
    "\n",
    "Write a solution to report all the duplicate emails. Note that it's guaranteed that the email field is not NULL.\n",
    "\n",
    "Return the result table in any order.\n",
    "\n",
    "The result format is in the following example.\n",
    "\n",
    " \n",
    "\n",
    "Example 1:\n",
    "\n",
    "Input: \n",
    "Person table:\n",
    "<br/>+----+---------+\n",
    "<br/>| id | email   |\n",
    "<br/>+----+---------+\n",
    "<br/>| 1  | a@b.com |\n",
    "<br/>| 2  | c@d.com |\n",
    "<br/>| 3  | a@b.com |\n",
    "<br/>+----+---------+\n",
    "<br/>Output: \n",
    "<br/>+---------+\n",
    "<br/>| Email   |\n",
    "<br/>+---------+\n",
    "<br/>| a@b.com |\n",
    "<br/>+---------+\n",
    "<br/>Explanation: a@b.com is repeated two times."
   ]
  },
  {
   "cell_type": "markdown",
   "metadata": {},
   "source": [
    "# GROUP BY, HAVING"
   ]
  },
  {
   "cell_type": "code",
   "execution_count": null,
   "metadata": {},
   "outputs": [],
   "source": [
    "SELECT email as Email\n",
    "FROM Person\n",
    "GROUP BY 1\n",
    "HAVING COUNT(*) > 1"
   ]
  }
 ],
 "metadata": {
  "kernelspec": {
   "display_name": "Python [conda env:base] *",
   "language": "python",
   "name": "conda-base-py"
  },
  "language_info": {
   "codemirror_mode": {
    "name": "ipython",
    "version": 3
   },
   "file_extension": ".py",
   "mimetype": "text/x-python",
   "name": "python",
   "nbconvert_exporter": "python",
   "pygments_lexer": "ipython3",
   "version": "3.12.7"
  }
 },
 "nbformat": 4,
 "nbformat_minor": 4
}
