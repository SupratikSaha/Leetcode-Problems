{
 "cells": [
  {
   "cell_type": "markdown",
   "metadata": {},
   "source": [
    "Problem Statement.\n",
    "\n",
    "You are playing a game that contains multiple characters, and each of the characters has two main properties: attack and defense. You are given a 2D integer array properties where properties[i] = [attacki, defensei] represents the properties of the ith character in the game.\n",
    "\n",
    "A character is said to be weak if any other character has both attack and defense levels strictly greater than this character's attack and defense levels. More formally, a character i is said to be weak if there exists another character j where attackj > attacki and defensej > defensei.\n",
    "\n",
    "Return the number of weak characters.\n",
    "\n",
    " \n",
    "\n",
    "Example 1:\n",
    "\n",
    "Input: properties = [[5,5],[6,3],[3,6]]\n",
    "Output: 0\n",
    "Explanation: No character has strictly greater attack and defense than the other.\n",
    "\n",
    "Example 2:\n",
    "\n",
    "Input: properties = [[2,2],[3,3]]\n",
    "Output: 1\n",
    "Explanation: The first character is weak because the second character has a strictly greater attack and defense.\n",
    "\n",
    "Example 3:\n",
    "\n",
    "Input: properties = [[1,5],[10,4],[4,3]]\n",
    "Output: 1\n",
    "Explanation: The third character is weak because the second character has a strictly greater attack and defense.\n",
    "\n",
    " \n",
    "\n",
    "Constraints:\n",
    "\n",
    "    2 <= properties.length <= 105\n",
    "    properties[i].length == 2\n",
    "    1 <= attacki, defensei <= 105"
   ]
  },
  {
   "cell_type": "markdown",
   "metadata": {},
   "source": [
    "# Greedy - O(N + A) runtime, O(A) space, where A is the maximum attack value"
   ]
  },
  {
   "cell_type": "code",
   "execution_count": 3,
   "metadata": {},
   "outputs": [],
   "source": [
    "from typing import List\n",
    "\n",
    "class Solution:\n",
    "    def numberOfWeakCharacters(self, properties: List[List[int]]) -> int:\n",
    "        max_attack = 0\n",
    "        for a, d in properties:\n",
    "            max_attack = max(max_attack, a)\n",
    "\n",
    "        max_defense = [0] * (max_attack + 2)\n",
    "        for a, d in properties:\n",
    "            max_defense[a] = max(max_defense[a], d)\n",
    "\n",
    "        for a in range(max_attack - 1, -1, -1):\n",
    "            max_defense[a] = max(max_defense[a], max_defense[a+1])\n",
    "\n",
    "        weak_char_count = 0\n",
    "        for a, d in properties:\n",
    "            if d < max_defense[a+1]: weak_char_count += 1\n",
    "\n",
    "        return weak_char_count"
   ]
  },
  {
   "cell_type": "code",
   "execution_count": 7,
   "metadata": {},
   "outputs": [
    {
     "data": {
      "text/plain": [
       "1"
      ]
     },
     "execution_count": 7,
     "metadata": {},
     "output_type": "execute_result"
    }
   ],
   "source": [
    "instance = Solution()\n",
    "instance.numberOfWeakCharacters([[1,5],[10,4],[4,3]])"
   ]
  }
 ],
 "metadata": {
  "kernelspec": {
   "display_name": "Python [conda env:base] *",
   "language": "python",
   "name": "conda-base-py"
  },
  "language_info": {
   "codemirror_mode": {
    "name": "ipython",
    "version": 3
   },
   "file_extension": ".py",
   "mimetype": "text/x-python",
   "name": "python",
   "nbconvert_exporter": "python",
   "pygments_lexer": "ipython3",
   "version": "3.12.7"
  }
 },
 "nbformat": 4,
 "nbformat_minor": 4
}
