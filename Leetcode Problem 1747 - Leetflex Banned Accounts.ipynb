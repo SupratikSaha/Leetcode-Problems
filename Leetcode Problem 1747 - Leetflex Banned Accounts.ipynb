{
 "cells": [
  {
   "cell_type": "markdown",
   "metadata": {},
   "source": [
    "    Problem Statement.\n",
    "    \n",
    "    Table: LogInfo\n",
    "    \n",
    "    +-------------+----------+\n",
    "    | Column Name | Type     |\n",
    "    +-------------+----------+\n",
    "    | account_id  | int      |\n",
    "    | ip_address  | int      |\n",
    "    | login       | datetime |\n",
    "    | logout      | datetime |\n",
    "    +-------------+----------+\n",
    "    This table may contain duplicate rows.\n",
    "    The table contains information about the login and logout dates of Leetflex accounts. It also contains the IP address from which the account was logged in and out.\n",
    "    It is guaranteed that the logout time is after the login time.\n",
    "    \n",
    "     \n",
    "    \n",
    "    Write a solution to find the account_id of the accounts that should be banned from Leetflex. An account should be banned if it was logged in at some moment from two different IP addresses.\n",
    "    \n",
    "    Return the result table in any order.\n",
    "    \n",
    "    The result format is in the following example.\n",
    "    \n",
    "     \n",
    "    \n",
    "    Example 1:\n",
    "    \n",
    "    Input: \n",
    "    LogInfo table:\n",
    "    +------------+------------+---------------------+---------------------+\n",
    "    | account_id | ip_address | login               | logout              |\n",
    "    +------------+------------+---------------------+---------------------+\n",
    "    | 1          | 1          | 2021-02-01 09:00:00 | 2021-02-01 09:30:00 |\n",
    "    | 1          | 2          | 2021-02-01 08:00:00 | 2021-02-01 11:30:00 |\n",
    "    | 2          | 6          | 2021-02-01 20:30:00 | 2021-02-01 22:00:00 |\n",
    "    | 2          | 7          | 2021-02-02 20:30:00 | 2021-02-02 22:00:00 |\n",
    "    | 3          | 9          | 2021-02-01 16:00:00 | 2021-02-01 16:59:59 |\n",
    "    | 3          | 13         | 2021-02-01 17:00:00 | 2021-02-01 17:59:59 |\n",
    "    | 4          | 10         | 2021-02-01 16:00:00 | 2021-02-01 17:00:00 |\n",
    "    | 4          | 11         | 2021-02-01 17:00:00 | 2021-02-01 17:59:59 |\n",
    "    +------------+------------+---------------------+---------------------+\n",
    "    Output: \n",
    "    +------------+\n",
    "    | account_id |\n",
    "    +------------+\n",
    "    | 1          |\n",
    "    | 4          |\n",
    "    +------------+\n",
    "    Explanation: \n",
    "    Account ID 1 --> The account was active from \"2021-02-01 09:00:00\" to \"2021-02-01 09:30:00\" with two different IP addresses (1 and 2). It should be banned.\n",
    "    Account ID 2 --> The account was active from two different addresses (6, 7) but in two different times.\n",
    "    Account ID 3 --> The account was active from two different addresses (9, 13) on the same day but they do not intersect at any moment.\n",
    "    Account ID 4 --> The account was active from \"2021-02-01 17:00:00\" to \"2021-02-01 17:00:00\" with two different IP addresses (10 and 11). It should be banned.\n",
    "    \n"
   ]
  },
  {
   "cell_type": "markdown",
   "metadata": {},
   "source": [
    "# CROSS JOIN"
   ]
  },
  {
   "cell_type": "code",
   "execution_count": 1,
   "metadata": {},
   "outputs": [],
   "source": [
    "SELECT\n",
    "  DISTINCT l1.account_id\n",
    "FROM\n",
    "  LogInfo l1\n",
    "CROSS JOIN\n",
    "  LogInfo l2\n",
    "WHERE\n",
    "  l1.account_id = l2.account_id AND\n",
    "  l1.ip_address != l2.ip_address AND\n",
    "  l1.login <= l2.logout AND l2.login <= l1.logout"
   ]
  }
 ],
 "metadata": {
  "kernelspec": {
   "display_name": "Python [conda env:base] *",
   "language": "python",
   "name": "conda-base-py"
  },
  "language_info": {
   "codemirror_mode": {
    "name": "ipython",
    "version": 3
   },
   "file_extension": ".py",
   "mimetype": "text/x-python",
   "name": "python",
   "nbconvert_exporter": "python",
   "pygments_lexer": "ipython3",
   "version": "3.12.7"
  }
 },
 "nbformat": 4,
 "nbformat_minor": 4
}
