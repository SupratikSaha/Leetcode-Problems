{
 "cells": [
  {
   "cell_type": "markdown",
   "metadata": {},
   "source": [
    "Problem Statement.\n",
    "\n",
    "Given the root of a Binary Search Tree (BST), return the minimum difference between the values of any two different nodes in the tree.\n",
    "\n",
    " \n",
    "\n",
    "Example 1:\n",
    "\n",
    "Input: root = [4,2,6,1,3]\n",
    "Output: 1\n",
    "\n",
    "Example 2:\n",
    "\n",
    "Input: root = [1,0,48,null,null,12,49]\n",
    "Output: 1\n",
    "\n",
    " \n",
    "\n",
    "Constraints:\n",
    "\n",
    "    The number of nodes in the tree is in the range [2, 100].\n",
    "    0 <= Node.val <= 105\n",
    "\n",
    " \n",
    "\n",
    "Note: This question is the same as 530: https://leetcode.com/problems/minimum-absolute-difference-in-bst/"
   ]
  },
  {
   "cell_type": "markdown",
   "metadata": {},
   "source": [
    "# In Order Traversal and List - O(N) runtime, O(N) space"
   ]
  },
  {
   "cell_type": "code",
   "execution_count": 3,
   "metadata": {},
   "outputs": [],
   "source": [
    "from typing import Optional\n",
    "\n",
    "# Definition for a binary tree node.\n",
    "# class TreeNode:\n",
    "#     def __init__(self, val=0, left=None, right=None):\n",
    "#         self.val = val\n",
    "#         self.left = left\n",
    "#         self.right = right\n",
    "\n",
    "class Solution:\n",
    "    def minDiffInBST(self, root: Optional[TreeNode]) -> int:\n",
    "        node_list = []\n",
    "\n",
    "        def in_order(node):\n",
    "            if not node: return\n",
    "\n",
    "            in_order(node.left)\n",
    "            node_list.append(node.val)\n",
    "            in_order(node.right)\n",
    "\n",
    "        in_order(root)\n",
    "        min_diff = inf\n",
    "        for i in range(1, len(node_list)):\n",
    "            min_diff = min(min_diff, node_list[i] - node_list[i-1])\n",
    "\n",
    "        return min_diff"
   ]
  },
  {
   "cell_type": "markdown",
   "metadata": {},
   "source": [
    "# In Order Traversal without List - O(N) runtime, O(N) space"
   ]
  },
  {
   "cell_type": "code",
   "execution_count": 1,
   "metadata": {},
   "outputs": [],
   "source": [
    "from typing import Optional\n",
    "\n",
    "# Definition for a binary tree node.\n",
    "# class TreeNode:\n",
    "#     def __init__(self, val=0, left=None, right=None):\n",
    "#         self.val = val\n",
    "#         self.left = left\n",
    "#         self.right = right\n",
    "\n",
    "class Solution:\n",
    "    def minDiffInBST(self, root: Optional[TreeNode]) -> int:\n",
    "        self.min_diff = inf\n",
    "        self.prev_node = None\n",
    "\n",
    "        def in_order(node):\n",
    "            if not node: return\n",
    "\n",
    "            in_order(node.left)\n",
    "            if self.prev_node is not None:\n",
    "                self.min_diff = min(self.min_diff, node.val - self.prev_node)\n",
    "\n",
    "            self.prev_node = node.val\n",
    "            in_order(node.right)\n",
    "\n",
    "        in_order(root)\n",
    "        return self.min_diff"
   ]
  },
  {
   "cell_type": "code",
   "execution_count": null,
   "metadata": {},
   "outputs": [],
   "source": [
    "instance = Solution()\n",
    "instance.minDiffInBST([4,2,6,1,3])"
   ]
  }
 ],
 "metadata": {
  "kernelspec": {
   "display_name": "Python [conda env:base] *",
   "language": "python",
   "name": "conda-base-py"
  },
  "language_info": {
   "codemirror_mode": {
    "name": "ipython",
    "version": 3
   },
   "file_extension": ".py",
   "mimetype": "text/x-python",
   "name": "python",
   "nbconvert_exporter": "python",
   "pygments_lexer": "ipython3",
   "version": "3.12.7"
  }
 },
 "nbformat": 4,
 "nbformat_minor": 4
}
