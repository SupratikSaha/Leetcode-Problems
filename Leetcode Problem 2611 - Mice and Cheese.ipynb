{
 "cells": [
  {
   "cell_type": "markdown",
   "metadata": {},
   "source": [
    "Problem Statement.\n",
    "\n",
    "There are two mice and n different types of cheese, each type of cheese should be eaten by exactly one mouse.\n",
    "\n",
    "A point of the cheese with index i (0-indexed) is:\n",
    "\n",
    "    reward1[i] if the first mouse eats it.\n",
    "    reward2[i] if the second mouse eats it.\n",
    "\n",
    "You are given a positive integer array reward1, a positive integer array reward2, and a non-negative integer k.\n",
    "\n",
    "Return the maximum points the mice can achieve if the first mouse eats exactly k types of cheese.\n",
    "\n",
    " \n",
    "\n",
    "Example 1:\n",
    "\n",
    "Input: reward1 = [1,1,3,4], reward2 = [4,4,1,1], k = 2\n",
    "Output: 15\n",
    "Explanation: In this example, the first mouse eats the 2nd (0-indexed) and the 3rd types of cheese, and the second mouse eats the 0th and the 1st types of cheese.\n",
    "The total points are 4 + 4 + 3 + 4 = 15.\n",
    "It can be proven that 15 is the maximum total points that the mice can achieve.\n",
    "\n",
    "Example 2:\n",
    "\n",
    "Input: reward1 = [1,1], reward2 = [1,1], k = 2\n",
    "Output: 2\n",
    "Explanation: In this example, the first mouse eats the 0th (0-indexed) and 1st types of cheese, and the second mouse does not eat any cheese.\n",
    "The total points are 1 + 1 = 2.\n",
    "It can be proven that 2 is the maximum total points that the mice can achieve.\n",
    "\n",
    " \n",
    "\n",
    "Constraints:\n",
    "\n",
    "    1 <= n == reward1.length == reward2.length <= 105\n",
    "    1 <= reward1[i], reward2[i] <= 1000\n",
    "    0 <= k <= n"
   ]
  },
  {
   "cell_type": "markdown",
   "metadata": {},
   "source": [
    "# Sort - O(N * Log N + K) runtime, O(N) space, where N is the length of list and K is the length of indexes of reward1"
   ]
  },
  {
   "cell_type": "code",
   "execution_count": 4,
   "metadata": {},
   "outputs": [],
   "source": [
    "from typing import List\n",
    "\n",
    "class Solution:\n",
    "    def miceAndCheese(self, reward1: List[int], reward2: List[int], k: int) -> int:\n",
    "        sum_val = sum(reward2)\n",
    "        diff = [reward1[i] - reward2[i] for i in range(len(reward1))]\n",
    "        diff.sort(reverse=True)\n",
    "\n",
    "        for i in range(k):\n",
    "            sum_val += diff[i]\n",
    "\n",
    "        return sum_val"
   ]
  },
  {
   "cell_type": "code",
   "execution_count": 6,
   "metadata": {},
   "outputs": [
    {
     "data": {
      "text/plain": [
       "15"
      ]
     },
     "execution_count": 6,
     "metadata": {},
     "output_type": "execute_result"
    }
   ],
   "source": [
    "instance = Solution()\n",
    "instance.miceAndCheese([1,1,3,4], [4,4,1,1], 2)"
   ]
  }
 ],
 "metadata": {
  "kernelspec": {
   "display_name": "Python [conda env:base] *",
   "language": "python",
   "name": "conda-base-py"
  },
  "language_info": {
   "codemirror_mode": {
    "name": "ipython",
    "version": 3
   },
   "file_extension": ".py",
   "mimetype": "text/x-python",
   "name": "python",
   "nbconvert_exporter": "python",
   "pygments_lexer": "ipython3",
   "version": "3.12.7"
  }
 },
 "nbformat": 4,
 "nbformat_minor": 4
}
