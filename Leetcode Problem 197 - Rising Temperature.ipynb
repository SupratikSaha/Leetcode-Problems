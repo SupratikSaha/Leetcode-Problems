{
 "cells": [
  {
   "cell_type": "markdown",
   "metadata": {},
   "source": [
    "Problem Statement.\n",
    "\n",
    "Table: Weather\n",
    "\n",
    "<br/>+---------------+---------+\n",
    "<br/>| Column Name   | Type    |\n",
    "<br/>+---------------+---------+\n",
    "<br/>| id            | int     |\n",
    "<br/>| recordDate    | date    |\n",
    "<br/>| temperature   | int     |\n",
    "<br/>+---------------+---------+\n",
    "<br/>id is the column with unique values for this table.\n",
    "There are no different rows with the same recordDate.\n",
    "This table contains information about the temperature on a certain day.\n",
    "\n",
    " \n",
    "\n",
    "Write a solution to find all dates' id with higher temperatures compared to its previous dates (yesterday).\n",
    "\n",
    "Return the result table in any order.\n",
    "\n",
    "The result format is in the following example.\n",
    "\n",
    " \n",
    "\n",
    "Example 1:\n",
    "\n",
    "Input: \n",
    "Weather table:\n",
    "<br/>+----+------------+-------------+\n",
    "<br/>| id | recordDate | temperature |\n",
    "<br/>+----+------------+-------------+\n",
    "<br/>| 1  | 2015-01-01 | 10          |\n",
    "<br/>| 2  | 2015-01-02 | 25          |\n",
    "<br/>| 3  | 2015-01-03 | 20          |\n",
    "<br/>| 4  | 2015-01-04 | 30          |\n",
    "<br/>+----+------------+-------------+\n",
    "<br/>Output: \n",
    "<br/>+----+\n",
    "<br/>| id |\n",
    "<br/>+----+\n",
    "<br/>| 2  |\n",
    "<br/>| 4  |\n",
    "<br/>+----+\n",
    "<br/>Explanation: \n",
    "In 2015-01-02, the temperature was higher than the previous day (10 -> 25).\n",
    "In 2015-01-04, the temperature was higher than the previous day (20 -> 30)."
   ]
  },
  {
   "cell_type": "markdown",
   "metadata": {},
   "source": [
    "# JOIN AND DATEDIFF"
   ]
  },
  {
   "cell_type": "code",
   "execution_count": null,
   "metadata": {},
   "outputs": [],
   "source": [
    "SELECT \n",
    "    today.id\n",
    "FROM Weather today\n",
    "JOIN Weather yesterday\n",
    "ON DATEDIFF(today.recordDate, yesterday.recordDate) = 1\n",
    "WHERE today.temperature > yesterday.temperature"
   ]
  }
 ],
 "metadata": {
  "kernelspec": {
   "display_name": "Python [conda env:base] *",
   "language": "python",
   "name": "conda-base-py"
  },
  "language_info": {
   "codemirror_mode": {
    "name": "ipython",
    "version": 3
   },
   "file_extension": ".py",
   "mimetype": "text/x-python",
   "name": "python",
   "nbconvert_exporter": "python",
   "pygments_lexer": "ipython3",
   "version": "3.12.7"
  }
 },
 "nbformat": 4,
 "nbformat_minor": 4
}
