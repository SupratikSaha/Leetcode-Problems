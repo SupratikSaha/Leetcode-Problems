{
 "cells": [
  {
   "cell_type": "markdown",
   "metadata": {},
   "source": [
    "Problem Statement.\n",
    "\n",
    "You are given an integer array jobs, where jobs[i] is the amount of time it takes to complete the ith job.\n",
    "\n",
    "There are k workers that you can assign jobs to. Each job should be assigned to exactly one worker. The working time of a worker is the sum of the time it takes to complete all jobs assigned to them. Your goal is to devise an optimal assignment such that the maximum working time of any worker is minimized.\n",
    "\n",
    "Return the minimum possible maximum working time of any assignment.\n",
    "\n",
    " \n",
    "\n",
    "Example 1:\n",
    "\n",
    "Input: jobs = [3,2,3], k = 3\n",
    "Output: 3\n",
    "Explanation: By assigning each person one job, the maximum time is 3.\n",
    "\n",
    "Example 2:\n",
    "\n",
    "Input: jobs = [1,2,4,7,8], k = 2\n",
    "Output: 11\n",
    "Explanation: Assign the jobs the following way:\n",
    "Worker 1: 1, 2, 8 (working time = 1 + 2 + 8 = 11)\n",
    "Worker 2: 4, 7 (working time = 4 + 7 = 11)\n",
    "The maximum working time is 11.\n",
    "\n",
    " \n",
    "\n",
    "Constraints:\n",
    "\n",
    "    1 <= k <= jobs.length <= 12\n",
    "    1 <= jobs[i] <= 107"
   ]
  },
  {
   "cell_type": "markdown",
   "metadata": {},
   "source": [
    "# Backtracking + Binary Search - O(N * Log N + N *  K * Log S) runtime, O(N + K) space, where N is the length of jobs, K is the number of workers and S is the total time of all jobs"
   ]
  },
  {
   "cell_type": "code",
   "execution_count": 3,
   "metadata": {},
   "outputs": [],
   "source": [
    "from typing import List\n",
    "\n",
    "class Solution:\n",
    "    def minimumTimeRequired(self, jobs: List[int], k: int) -> int:\n",
    "        def canDistribute(maxWorkload):\n",
    "            workers = [0] * k \n",
    "            \n",
    "            def assignJob(jobIndex):\n",
    "                if jobIndex == len(jobs): return True\n",
    "                if jobs[jobIndex] > maxWorkload: return False\n",
    "                for i in range(k):\n",
    "                    if workers[i] + jobs[jobIndex] <= maxWorkload:\n",
    "                        workers[i] += jobs[jobIndex]\n",
    "                        if assignJob(jobIndex + 1):\n",
    "                            return True\n",
    "                        workers[i] -= jobs[jobIndex]\n",
    "                    \n",
    "                    if workers[i] == 0: break\n",
    "                \n",
    "                return False\n",
    "\n",
    "            return assignJob(0)\n",
    "\n",
    "        jobs.sort(reverse=True)\n",
    "        left, right = max(jobs), sum(jobs)\n",
    "        while left < right:\n",
    "            mid = left + (right - left) // 2\n",
    "            if canDistribute(mid): right = mid\n",
    "            else: left = mid + 1\n",
    "\n",
    "        return left"
   ]
  },
  {
   "cell_type": "code",
   "execution_count": 5,
   "metadata": {},
   "outputs": [
    {
     "data": {
      "text/plain": [
       "11"
      ]
     },
     "execution_count": 5,
     "metadata": {},
     "output_type": "execute_result"
    }
   ],
   "source": [
    "instance = Solution()\n",
    "instance.minimumTimeRequired([1,2,4,7,8], 2)"
   ]
  }
 ],
 "metadata": {
  "kernelspec": {
   "display_name": "Python [conda env:base] *",
   "language": "python",
   "name": "conda-base-py"
  },
  "language_info": {
   "codemirror_mode": {
    "name": "ipython",
    "version": 3
   },
   "file_extension": ".py",
   "mimetype": "text/x-python",
   "name": "python",
   "nbconvert_exporter": "python",
   "pygments_lexer": "ipython3",
   "version": "3.12.7"
  }
 },
 "nbformat": 4,
 "nbformat_minor": 4
}
