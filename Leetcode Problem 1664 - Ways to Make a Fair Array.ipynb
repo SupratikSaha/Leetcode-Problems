{
 "cells": [
  {
   "cell_type": "markdown",
   "metadata": {},
   "source": [
    "Problem Statement.\n",
    "\n",
    "You are given an integer array nums. You can choose exactly one index (0-indexed) and remove the element. Notice that the index of the elements may change after the removal.\n",
    "\n",
    "For example, if nums = [6,1,7,4,1]:\n",
    "\n",
    "    Choosing to remove index 1 results in nums = [6,7,4,1].\n",
    "    Choosing to remove index 2 results in nums = [6,1,4,1].\n",
    "    Choosing to remove index 4 results in nums = [6,1,7,4].\n",
    "\n",
    "An array is fair if the sum of the odd-indexed values equals the sum of the even-indexed values.\n",
    "\n",
    "Return the number of indices that you could choose such that after the removal, nums is fair.\n",
    "\n",
    " \n",
    "\n",
    "Example 1:\n",
    "\n",
    "Input: nums = [2,1,6,4]\n",
    "Output: 1\n",
    "Explanation:\n",
    "Remove index 0: [1,6,4] -> Even sum: 1 + 4 = 5. Odd sum: 6. Not fair.\n",
    "Remove index 1: [2,6,4] -> Even sum: 2 + 4 = 6. Odd sum: 6. Fair.\n",
    "Remove index 2: [2,1,4] -> Even sum: 2 + 4 = 6. Odd sum: 1. Not fair.\n",
    "Remove index 3: [2,1,6] -> Even sum: 2 + 6 = 8. Odd sum: 1. Not fair.\n",
    "There is 1 index that you can remove to make nums fair.\n",
    "\n",
    "Example 2:\n",
    "\n",
    "Input: nums = [1,1,1]\n",
    "Output: 3\n",
    "Explanation: You can remove any index and the remaining array is fair.\n",
    "\n",
    "Example 3:\n",
    "\n",
    "Input: nums = [1,2,3]\n",
    "Output: 0\n",
    "Explanation: You cannot make a fair array after removing any index.\n",
    "\n",
    " \n",
    "\n",
    "Constraints:\n",
    "\n",
    "    1 <= nums.length <= 105\n",
    "    1 <= nums[i] <= 104\n",
    "\n"
   ]
  },
  {
   "cell_type": "markdown",
   "metadata": {},
   "source": [
    "# Linear - O(N) runtime, O(1) space"
   ]
  },
  {
   "cell_type": "code",
   "execution_count": 4,
   "metadata": {},
   "outputs": [],
   "source": [
    "from typing import List\n",
    "\n",
    "class Solution:\n",
    "    def waysToMakeFair(self, nums: List[int]) -> int:\n",
    "        prefix_sums, total_sums = [0, 0], [sum(nums[0::2]), sum(nums[1::2])]\n",
    "        res = 0\n",
    "\n",
    "        for i, a in enumerate(nums):\n",
    "            total_sums[i % 2] -= a\n",
    "            res += prefix_sums[0] + total_sums[1] == prefix_sums[1] + total_sums[0]\n",
    "            prefix_sums[i % 2] += a\n",
    "            \n",
    "        return res"
   ]
  },
  {
   "cell_type": "code",
   "execution_count": 8,
   "metadata": {},
   "outputs": [
    {
     "data": {
      "text/plain": [
       "1"
      ]
     },
     "execution_count": 8,
     "metadata": {},
     "output_type": "execute_result"
    }
   ],
   "source": [
    "instance = Solution()\n",
    "instance.waysToMakeFair([2,1,6,4])"
   ]
  }
 ],
 "metadata": {
  "kernelspec": {
   "display_name": "Python [conda env:base] *",
   "language": "python",
   "name": "conda-base-py"
  },
  "language_info": {
   "codemirror_mode": {
    "name": "ipython",
    "version": 3
   },
   "file_extension": ".py",
   "mimetype": "text/x-python",
   "name": "python",
   "nbconvert_exporter": "python",
   "pygments_lexer": "ipython3",
   "version": "3.12.7"
  }
 },
 "nbformat": 4,
 "nbformat_minor": 4
}
