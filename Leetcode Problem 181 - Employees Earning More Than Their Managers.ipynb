{
 "cells": [
  {
   "cell_type": "markdown",
   "metadata": {},
   "source": [
    "Problem Statement.\n",
    "\n",
    "Table: Employee\n",
    "\n",
    "<br/>+-------------+---------+\n",
    "<br/>| Column Name | Type    |\n",
    "<br/>+-------------+---------+\n",
    "<br/>| id          | int     |\n",
    "<br/>| name        | varchar |\n",
    "<br/>| salary      | int     |\n",
    "<br/>| managerId   | int     |\n",
    "<br/>+-------------+---------+\n",
    "<br/>id is the primary key (column with unique values) for this table.\n",
    "Each row of this table indicates the ID of an employee, their name, salary, and the ID of their manager.\n",
    "\n",
    " \n",
    "\n",
    "Write a solution to find the employees who earn more than their managers.\n",
    "\n",
    "Return the result table in any order.\n",
    "\n",
    "The result format is in the following example.\n",
    "\n",
    " \n",
    "\n",
    "Example 1:\n",
    "\n",
    "Input: \n",
    "Employee table:\n",
    "<br/>+----+-------+--------+-----------+\n",
    "<br/>| id | name  | salary | managerId |\n",
    "<br/>+----+-------+--------+-----------+\n",
    "<br/>| 1  | Joe   | 70000  | 3         |\n",
    "<br/>| 2  | Henry | 80000  | 4         |\n",
    "<br/>| 3  | Sam   | 60000  | Null      |\n",
    "<br/>| 4  | Max   | 90000  | Null      |\n",
    "<br/>+----+-------+--------+-----------+\n",
    "<br/>Output: \n",
    "<br/>+----------+\n",
    "<br/>| Employee |\n",
    "<br/>+----------+\n",
    "<br/>| Joe      |\n",
    "<br/>+----------+\n",
    "<br/>Explanation: Joe is the only employee who earns more than his manager."
   ]
  },
  {
   "cell_type": "markdown",
   "metadata": {},
   "source": [
    "# Join"
   ]
  },
  {
   "cell_type": "code",
   "execution_count": null,
   "metadata": {},
   "outputs": [],
   "source": [
    "SELECT e.name As Employee\n",
    "FROM Employee e\n",
    "JOIN Employee m\n",
    "ON e.managerId = m.id\n",
    "AND e.salary > m.salary"
   ]
  }
 ],
 "metadata": {
  "kernelspec": {
   "display_name": "Python [conda env:base] *",
   "language": "python",
   "name": "conda-base-py"
  },
  "language_info": {
   "codemirror_mode": {
    "name": "ipython",
    "version": 3
   },
   "file_extension": ".py",
   "mimetype": "text/x-python",
   "name": "python",
   "nbconvert_exporter": "python",
   "pygments_lexer": "ipython3",
   "version": "3.12.7"
  }
 },
 "nbformat": 4,
 "nbformat_minor": 4
}
