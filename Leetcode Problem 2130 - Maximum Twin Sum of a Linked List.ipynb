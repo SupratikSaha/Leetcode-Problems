{
 "cells": [
  {
   "cell_type": "markdown",
   "metadata": {},
   "source": [
    "Problem Statement.\n",
    "\n",
    "In a linked list of size n, where n is even, the ith node (0-indexed) of the linked list is known as the twin of the (n-1-i)th node, if 0 <= i <= (n / 2) - 1.\n",
    "\n",
    "For example, if n = 4, then node 0 is the twin of node 3, and node 1 is the twin of node 2. These are the only nodes with twins for n = 4.\n",
    "\n",
    "The twin sum is defined as the sum of a node and its twin.\n",
    "\n",
    "Given the head of a linked list with even length, return the maximum twin sum of the linked list.\n",
    "\n",
    " \n",
    "\n",
    "Example 1:\n",
    "\n",
    "Input: head = [5,4,2,1]\n",
    "Output: 6\n",
    "Explanation:\n",
    "Nodes 0 and 1 are the twins of nodes 3 and 2, respectively. All have twin sum = 6.\n",
    "There are no other nodes with twins in the linked list.\n",
    "Thus, the maximum twin sum of the linked list is 6. \n",
    "\n",
    "Example 2:\n",
    "\n",
    "Input: head = [4,2,2,3]\n",
    "Output: 7\n",
    "Explanation:\n",
    "The nodes with twins present in this linked list are:\n",
    "- Node 0 is the twin of node 3 having a twin sum of 4 + 3 = 7.\n",
    "- Node 1 is the twin of node 2 having a twin sum of 2 + 2 = 4.\n",
    "Thus, the maximum twin sum of the linked list is max(7, 4) = 7. \n",
    "\n",
    "Example 3:\n",
    "\n",
    "Input: head = [1,100000]\n",
    "Output: 100001\n",
    "Explanation:\n",
    "There is only one node with a twin in the linked list having twin sum of 1 + 100000 = 100001.\n",
    "\n",
    " \n",
    "Constraints:\n",
    "\n",
    "    The number of nodes in the list is an even integer in the range [2, 105].\n",
    "    1 <= Node.val <= 105"
   ]
  },
  {
   "cell_type": "markdown",
   "metadata": {},
   "source": [
    "# Reverse List - O(N) runtime, O(1) space"
   ]
  },
  {
   "cell_type": "code",
   "execution_count": 2,
   "metadata": {},
   "outputs": [],
   "source": [
    "# Definition for singly-linked list.\n",
    "class ListNode:\n",
    "    def __init__(self, val=0, next=None):\n",
    "        self.val = val\n",
    "        self.next = next\n",
    "\n",
    "class Solution:\n",
    "    def pairSum(self, head: Optional[ListNode]) -> int:\n",
    "\n",
    "        slow, fast = head, head.next\n",
    "        prev = None\n",
    "\n",
    "        # Reverse first half of linked list\n",
    "        while fast and fast.next:\n",
    "            fast = fast.next.next\n",
    "            next_node = slow.next\n",
    "            slow.next = prev\n",
    "            prev = slow\n",
    "            slow = next_node\n",
    "        \n",
    "        other_head = slow.next\n",
    "        fix_next = slow.next\n",
    "        slow.next = prev\n",
    "        max_sum = 0\n",
    "\n",
    "        # Calculate max sum and fix first half of linked list\n",
    "        while slow and other_head:\n",
    "            max_sum = max(max_sum, slow.val + other_head.val)\n",
    "            next_node = slow.next\n",
    "            slow.next = fix_next\n",
    "            fix_next = slow\n",
    "            slow = next_node\n",
    "            other_head = other_head.next\n",
    "\n",
    "        return max_sum"
   ]
  },
  {
   "cell_type": "code",
   "execution_count": null,
   "metadata": {},
   "outputs": [],
   "source": [
    "instance = Solution()\n",
    "instance.pairSum([4,2,2,3])"
   ]
  }
 ],
 "metadata": {
  "kernelspec": {
   "display_name": "Python [conda env:base] *",
   "language": "python",
   "name": "conda-base-py"
  },
  "language_info": {
   "codemirror_mode": {
    "name": "ipython",
    "version": 3
   },
   "file_extension": ".py",
   "mimetype": "text/x-python",
   "name": "python",
   "nbconvert_exporter": "python",
   "pygments_lexer": "ipython3",
   "version": "3.12.7"
  }
 },
 "nbformat": 4,
 "nbformat_minor": 4
}
