{
 "cells": [
  {
   "cell_type": "markdown",
   "metadata": {},
   "source": [
    "Problem Statement.\n",
    "\n",
    "Given an array of non-negative integers arr, you are initially positioned at start index of the array. When you are at index i, you can jump to i + arr[i] or i - arr[i], check if you can reach any index with value 0.\n",
    "\n",
    "Notice that you can not jump outside of the array at any time.\n",
    "\n",
    " \n",
    "\n",
    "Example 1:\n",
    "\n",
    "Input: arr = [4,2,3,0,3,1,2], start = 5\n",
    "Output: true\n",
    "Explanation: \n",
    "All possible ways to reach at index 3 with value 0 are: \n",
    "index 5 -> index 4 -> index 1 -> index 3 \n",
    "index 5 -> index 6 -> index 4 -> index 1 -> index 3 \n",
    "\n",
    "Example 2:\n",
    "\n",
    "Input: arr = [4,2,3,0,3,1,2], start = 0\n",
    "Output: true \n",
    "Explanation: \n",
    "One possible way to reach at index 3 with value 0 is: \n",
    "index 0 -> index 4 -> index 1 -> index 3\n",
    "\n",
    "Example 3:\n",
    "\n",
    "Input: arr = [3,0,2,1,2], start = 2\n",
    "Output: false\n",
    "Explanation: There is no way to reach at index 1 with value 0.\n",
    "\n",
    " \n",
    "\n",
    "Constraints:\n",
    "\n",
    "    1 <= arr.length <= 5 * 104\n",
    "    0 <= arr[i] < arr.length\n",
    "    0 <= start < arr.length\n",
    "\n"
   ]
  },
  {
   "cell_type": "markdown",
   "metadata": {},
   "source": [
    "# BFS - O(N) runtime, O(N) space"
   ]
  },
  {
   "cell_type": "code",
   "execution_count": 14,
   "metadata": {},
   "outputs": [],
   "source": [
    "from typing import List\n",
    "from collections import deque\n",
    "\n",
    "class Solution:\n",
    "    def canReach(self, arr: List[int], start: int) -> bool:\n",
    "        n = len(arr)\n",
    "        q = deque([start])\n",
    "\n",
    "        while q:\n",
    "            node = q.popleft()\n",
    "            # Check if we reached zero\n",
    "            if arr[node] == 0:\n",
    "                return True\n",
    "            if arr[node] < 0:\n",
    "                continue\n",
    "\n",
    "            # Check available next steps\n",
    "            for i in [node + arr[node], node - arr[node]]:\n",
    "                if 0 <= i < n:\n",
    "                    q.append(i)\n",
    "\n",
    "            # Mark as visited\n",
    "            arr[node] = -arr[node]\n",
    "        return False"
   ]
  },
  {
   "cell_type": "markdown",
   "metadata": {},
   "source": [
    "# DFS - O(N) runtime, O(N) space"
   ]
  },
  {
   "cell_type": "code",
   "execution_count": 3,
   "metadata": {},
   "outputs": [],
   "source": [
    "from typing import List\n",
    "\n",
    "class Solution:\n",
    "    def canReach(self, arr: List[int], start: int) -> bool:\n",
    "        if start < 0 or start >= len(arr) or arr[start] < 0: return False\n",
    "        if arr[start] == 0: return True\n",
    "\n",
    "        arr[start] = -arr[start]\n",
    "        return self.canReach(arr, start+arr[start]) or self.canReach(arr, start - arr[start])"
   ]
  },
  {
   "cell_type": "code",
   "execution_count": 16,
   "metadata": {},
   "outputs": [
    {
     "data": {
      "text/plain": [
       "True"
      ]
     },
     "execution_count": 16,
     "metadata": {},
     "output_type": "execute_result"
    }
   ],
   "source": [
    "instance = Solution()\n",
    "instance.canReach([4,2,3,0,3,1,2], 0)"
   ]
  }
 ],
 "metadata": {
  "kernelspec": {
   "display_name": "Python [conda env:base] *",
   "language": "python",
   "name": "conda-base-py"
  },
  "language_info": {
   "codemirror_mode": {
    "name": "ipython",
    "version": 3
   },
   "file_extension": ".py",
   "mimetype": "text/x-python",
   "name": "python",
   "nbconvert_exporter": "python",
   "pygments_lexer": "ipython3",
   "version": "3.12.7"
  }
 },
 "nbformat": 4,
 "nbformat_minor": 4
}
