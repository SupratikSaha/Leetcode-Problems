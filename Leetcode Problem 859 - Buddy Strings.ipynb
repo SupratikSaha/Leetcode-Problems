{
 "cells": [
  {
   "cell_type": "markdown",
   "metadata": {},
   "source": [
    "Problem Statement.\n",
    "\n",
    "Given two strings s and goal, return true if you can swap two letters in s so the result is equal to goal, otherwise, return false.\n",
    "\n",
    "Swapping letters is defined as taking two indices i and j (0-indexed) such that i != j and swapping the characters at s[i] and s[j].\n",
    "\n",
    "    For example, swapping at indices 0 and 2 in \"abcd\" results in \"cbad\".\n",
    "\n",
    " \n",
    "\n",
    "Example 1:\n",
    "\n",
    "Input: s = \"ab\", goal = \"ba\"\n",
    "Output: true\n",
    "Explanation: You can swap s[0] = 'a' and s[1] = 'b' to get \"ba\", which is equal to goal.\n",
    "\n",
    "Example 2:\n",
    "\n",
    "Input: s = \"ab\", goal = \"ab\"\n",
    "Output: false\n",
    "Explanation: The only letters you can swap are s[0] = 'a' and s[1] = 'b', which results in \"ba\" != goal.\n",
    "\n",
    "Example 3:\n",
    "\n",
    "Input: s = \"aa\", goal = \"aa\"\n",
    "Output: true\n",
    "Explanation: You can swap s[0] = 'a' and s[1] = 'a' to get \"aa\", which is equal to goal.\n",
    "\n",
    " \n",
    "\n",
    "Constraints:\n",
    "\n",
    "    1 <= s.length, goal.length <= 2 * 104\n",
    "    s and goal consist of lowercase letters."
   ]
  },
  {
   "cell_type": "markdown",
   "metadata": {},
   "source": [
    "# Linear - O(N) runtime, O(1) space"
   ]
  },
  {
   "cell_type": "code",
   "execution_count": 2,
   "metadata": {},
   "outputs": [],
   "source": [
    "class Solution:\n",
    "    def buddyStrings(self, s: str, goal: str) -> bool:\n",
    "        m, n = len(s), len(goal)\n",
    "        if m != n: return False\n",
    "        count_diff = 0\n",
    "\n",
    "        for i in range(m):\n",
    "            if s[i] != goal[i]:\n",
    "                if count_diff == 0:\n",
    "                    count_diff += 1\n",
    "                    char_s, char_g = s[i], goal[i]\n",
    "                elif count_diff == 1:\n",
    "                    count_diff += 1\n",
    "                    if not(s[i] == char_g and goal[i] == char_s): return False\n",
    "                else:\n",
    "                    return False\n",
    "\n",
    "        if count_diff == 2: return True\n",
    "        if count_diff == 0:\n",
    "            frequency = [0] * 26\n",
    "            for ch in s:\n",
    "                frequency[ord(ch) - ord('a')] += 1\n",
    "                if frequency[ord(ch) - ord('a')] == 2:\n",
    "                    return True\n",
    "\n",
    "        return False"
   ]
  },
  {
   "cell_type": "code",
   "execution_count": 6,
   "metadata": {},
   "outputs": [
    {
     "data": {
      "text/plain": [
       "True"
      ]
     },
     "execution_count": 6,
     "metadata": {},
     "output_type": "execute_result"
    }
   ],
   "source": [
    "instance = Solution()\n",
    "instance.buddyStrings(\"ab\", \"ba\")"
   ]
  }
 ],
 "metadata": {
  "kernelspec": {
   "display_name": "Python [conda env:base] *",
   "language": "python",
   "name": "conda-base-py"
  },
  "language_info": {
   "codemirror_mode": {
    "name": "ipython",
    "version": 3
   },
   "file_extension": ".py",
   "mimetype": "text/x-python",
   "name": "python",
   "nbconvert_exporter": "python",
   "pygments_lexer": "ipython3",
   "version": "3.12.7"
  }
 },
 "nbformat": 4,
 "nbformat_minor": 4
}
