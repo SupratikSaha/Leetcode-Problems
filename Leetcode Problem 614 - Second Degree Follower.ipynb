{
 "cells": [
  {
   "cell_type": "markdown",
   "metadata": {},
   "source": [
    "    Problem Statement.\n",
    "    \n",
    "    Table: Follow\n",
    "    \n",
    "    +-------------+---------+\n",
    "    | Column Name | Type    |\n",
    "    +-------------+---------+\n",
    "    | followee    | varchar |\n",
    "    | follower    | varchar |\n",
    "    +-------------+---------+\n",
    "    (followee, follower) is the primary key (combination of columns with unique values) for this table.\n",
    "    Each row of this table indicates that the user follower follows the user followee on a social network.\n",
    "    There will not be a user following themself.\n",
    "    \n",
    "     \n",
    "    \n",
    "        A second-degree follower is a user who:\n",
    "        \n",
    "            follows at least one user, and\n",
    "            is followed by at least one user.\n",
    "        \n",
    "        Write a solution to report the second-degree users and the number of their followers.\n",
    "        \n",
    "        Return the result table ordered by follower in alphabetical order.\n",
    "        \n",
    "        The result format is in the following example.\n",
    "        \n",
    "         \n",
    "        \n",
    "        Example 1:\n",
    "        \n",
    "        Input: \n",
    "        Follow table:\n",
    "        +----------+----------+\n",
    "        | followee | follower |\n",
    "        +----------+----------+\n",
    "        | Alice    | Bob      |\n",
    "        | Bob      | Cena     |\n",
    "        | Bob      | Donald   |\n",
    "        | Donald   | Edward   |\n",
    "        +----------+----------+\n",
    "        Output: \n",
    "        +----------+-----+\n",
    "        | follower | num |\n",
    "        +----------+-----+\n",
    "        | Bob      | 2   |\n",
    "        | Donald   | 1   |\n",
    "        +----------+-----+\n",
    "        Explanation: \n",
    "        User Bob has 2 followers. Bob is a second-degree follower because he follows Alice, so we include him in the result table.\n",
    "        User Donald has 1 follower. Donald is a second-degree follower because he follows Bob, so we include him in the result table.\n",
    "        User Alice has 1 follower. Alice is not a second-degree follower because she does not follow anyone, so we don not include her in the result table."
   ]
  },
  {
   "cell_type": "markdown",
   "metadata": {},
   "source": [
    "# CTE"
   ]
  },
  {
   "cell_type": "code",
   "execution_count": null,
   "metadata": {},
   "outputs": [],
   "source": [
    "WITH following AS (\n",
    "    SELECT \n",
    "        follower,\n",
    "        COUNT(*) AS num_followees\n",
    "    FROM Follow\n",
    "    GROUP BY follower\n",
    ")\n",
    "SELECT \n",
    "    followee AS follower,\n",
    "    COUNT(*) AS num\n",
    "FROM Follow a\n",
    "JOIN following b\n",
    "ON a.followee = b.follower\n",
    "GROUP BY followee\n",
    "ORDER BY followee"
   ]
  },
  {
   "cell_type": "markdown",
   "metadata": {},
   "source": [
    "# IN"
   ]
  },
  {
   "cell_type": "code",
   "execution_count": null,
   "metadata": {},
   "outputs": [],
   "source": [
    "SELECT \n",
    "    followee AS follower, \n",
    "    COUNT(follower) AS num\n",
    "FROM follow\n",
    "WHERE followee IN (SELECT follower FROM follow)\n",
    "GROUP BY followee\n",
    "ORDER BY follower"
   ]
  },
  {
   "cell_type": "markdown",
   "metadata": {},
   "source": [
    "# DISTINCT"
   ]
  },
  {
   "cell_type": "code",
   "execution_count": null,
   "metadata": {},
   "outputs": [],
   "source": [
    "SELECT \n",
    "    f1.follower, \n",
    "    COUNT(DISTINCT f2.follower) AS num\n",
    "FROM follow f1\n",
    "JOIN follow f2\n",
    "ON f1.follower = f2.followee\n",
    "GROUP BY f1.follower\n",
    "ORDER BY f1.follower"
   ]
  }
 ],
 "metadata": {
  "kernelspec": {
   "display_name": "Python [conda env:base] *",
   "language": "python",
   "name": "conda-base-py"
  },
  "language_info": {
   "codemirror_mode": {
    "name": "ipython",
    "version": 3
   },
   "file_extension": ".py",
   "mimetype": "text/x-python",
   "name": "python",
   "nbconvert_exporter": "python",
   "pygments_lexer": "ipython3",
   "version": "3.12.7"
  }
 },
 "nbformat": 4,
 "nbformat_minor": 4
}
