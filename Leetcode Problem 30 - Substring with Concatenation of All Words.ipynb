{
 "cells": [
  {
   "cell_type": "markdown",
   "metadata": {},
   "source": [
    "Problem Statement.\n",
    "\n",
    "You are given a string s and an array of strings words. All the strings of words are of the same length.\n",
    "\n",
    "A concatenated string is a string that exactly contains all the strings of any permutation of words concatenated.\n",
    "\n",
    "    For example, if words = [\"ab\",\"cd\",\"ef\"], then \"abcdef\", \"abefcd\", \"cdabef\", \"cdefab\", \"efabcd\", and \"efcdab\" are all concatenated strings. \"acdbef\" is not a concatenated string because it is not the concatenation of any permutation of words.\n",
    "\n",
    "Return an array of the starting indices of all the concatenated substrings in s. You can return the answer in any order.\n",
    "\n",
    " \n",
    "\n",
    "Example 1:\n",
    "\n",
    "Input: s = \"barfoothefoobarman\", words = [\"foo\",\"bar\"]\n",
    "\n",
    "Output: [0,9]\n",
    "\n",
    "Explanation:\n",
    "\n",
    "The substring starting at 0 is \"barfoo\". It is the concatenation of [\"bar\",\"foo\"] which is a permutation of words.\n",
    "The substring starting at 9 is \"foobar\". It is the concatenation of [\"foo\",\"bar\"] which is a permutation of words.\n",
    "\n",
    "Example 2:\n",
    "\n",
    "Input: s = \"wordgoodgoodgoodbestword\", words = [\"word\",\"good\",\"best\",\"word\"]\n",
    "\n",
    "Output: []\n",
    "\n",
    "Explanation:\n",
    "\n",
    "There is no concatenated substring.\n",
    "\n",
    "Example 3:\n",
    "\n",
    "Input: s = \"barfoofoobarthefoobarman\", words = [\"bar\",\"foo\",\"the\"]\n",
    "\n",
    "Output: [6,9,12]\n",
    "\n",
    "Explanation:\n",
    "\n",
    "The substring starting at 6 is \"foobarthe\". It is the concatenation of [\"foo\",\"bar\",\"the\"].\n",
    "The substring starting at 9 is \"barthefoo\". It is the concatenation of [\"bar\",\"the\",\"foo\"].\n",
    "The substring starting at 12 is \"thefoobar\". It is the concatenation of [\"the\",\"foo\",\"bar\"].\n",
    "\n",
    " \n",
    "\n",
    "Constraints:\n",
    "\n",
    "    1 <= s.length <= 104\n",
    "    1 <= words.length <= 5000\n",
    "    1 <= words[i].length <= 30\n",
    "    s and words[i] consist of lowercase English letters."
   ]
  },
  {
   "cell_type": "markdown",
   "metadata": {},
   "source": [
    "# Check All Indices - O((N - S)* S) runtime, O(A + B) space where N is th elength of s, A as the length of words, and B as the length of each word and S = A * B the substring size"
   ]
  },
  {
   "cell_type": "code",
   "execution_count": 7,
   "metadata": {},
   "outputs": [],
   "source": [
    "from typing import List\n",
    "from collections import Counter, defaultdict\n",
    "\n",
    "class Solution:\n",
    "    def findSubstring(self, s: str, words: List[str]) -> List[int]:\n",
    "        n, m = len(words[0]), len(words)\n",
    "        total = m * n\n",
    "        words = Counter(words)\n",
    "        left, right = 0, total\n",
    "        res = []\n",
    "\n",
    "        while right <= len(s):\n",
    "            used_set = defaultdict(int)\n",
    "            count = 0\n",
    "            for i in range(left, right, n):\n",
    "                # print(i)\n",
    "                word = s[i:i+n]\n",
    "                if word not in words or words[word] == used_set[word]:\n",
    "                    break\n",
    "                else:\n",
    "                    used_set[word] += 1\n",
    "                    count += 1\n",
    "            if count == m:  res.append(left)\n",
    "            left += 1\n",
    "            right += 1\n",
    "\n",
    "        return res"
   ]
  },
  {
   "cell_type": "markdown",
   "metadata": {},
   "source": [
    "# Sliding Window - O(A + N * B) runtime, O(A + B) space,where N is th elength of s, A as the length of words, and B as the length of each word"
   ]
  },
  {
   "cell_type": "code",
   "execution_count": 18,
   "metadata": {},
   "outputs": [],
   "source": [
    "from typing import List\n",
    "from collections import Counter, defaultdict\n",
    "\n",
    "class Solution:\n",
    "    def findSubstring(self, s: str, words: List[str]) -> List[int]:\n",
    "        n = len(s)\n",
    "        k = len(words)\n",
    "        word_length = len(words[0])\n",
    "        substring_size = word_length * k\n",
    "        word_count = Counter(words)\n",
    "\n",
    "        def sliding_window(left):\n",
    "            words_found = defaultdict(int)\n",
    "            words_used = 0\n",
    "            excess_word = False\n",
    "\n",
    "            # Do the same iteration pattern as the previous approach - iterate\n",
    "            # word_length at a time, and at each iteration we focus on one word\n",
    "            for right in range(left, n, word_length):\n",
    "                if right + word_length > n:\n",
    "                    break\n",
    "\n",
    "                sub = s[right : right + word_length]\n",
    "                if sub not in word_count:\n",
    "                    # Mismatched word - reset the window\n",
    "                    words_found = defaultdict(int)\n",
    "                    words_used = 0\n",
    "                    excess_word = False\n",
    "                    left = right + word_length  # Retry at the next index\n",
    "                else:\n",
    "                    # If we reached max window size or have an excess word\n",
    "                    while right - left == substring_size or excess_word:\n",
    "                        # Move the left bound over continously\n",
    "                        leftmost_word = s[left : left + word_length]\n",
    "                        left += word_length\n",
    "                        words_found[leftmost_word] -= 1\n",
    "\n",
    "                        if (\n",
    "                            words_found[leftmost_word]\n",
    "                            == word_count[leftmost_word]\n",
    "                        ):\n",
    "                            # This word was the excess word\n",
    "                            excess_word = False\n",
    "                        else:\n",
    "                            # Otherwise we actually needed it\n",
    "                            words_used -= 1\n",
    "\n",
    "                    # Keep track of how many times this word occurs in the window\n",
    "                    words_found[sub] += 1\n",
    "                    if words_found[sub] <= word_count[sub]:\n",
    "                        words_used += 1\n",
    "                    else:\n",
    "                        # Found too many instances already\n",
    "                        excess_word = True\n",
    "\n",
    "                    if words_used == k and not excess_word:\n",
    "                        # Found a valid substring\n",
    "                        answer.append(left)\n",
    "\n",
    "        answer = []\n",
    "        for i in range(word_length):\n",
    "            sliding_window(i)\n",
    "\n",
    "        return answer"
   ]
  },
  {
   "cell_type": "code",
   "execution_count": 20,
   "metadata": {},
   "outputs": [
    {
     "data": {
      "text/plain": [
       "[6, 9, 12]"
      ]
     },
     "execution_count": 20,
     "metadata": {},
     "output_type": "execute_result"
    }
   ],
   "source": [
    "instance = Solution()\n",
    "instance.findSubstring(\"barfoofoobarthefoobarman\", [\"bar\",\"foo\",\"the\"])"
   ]
  }
 ],
 "metadata": {
  "kernelspec": {
   "display_name": "Python [conda env:base] *",
   "language": "python",
   "name": "conda-base-py"
  },
  "language_info": {
   "codemirror_mode": {
    "name": "ipython",
    "version": 3
   },
   "file_extension": ".py",
   "mimetype": "text/x-python",
   "name": "python",
   "nbconvert_exporter": "python",
   "pygments_lexer": "ipython3",
   "version": "3.12.7"
  }
 },
 "nbformat": 4,
 "nbformat_minor": 4
}
