{
 "cells": [
  {
   "cell_type": "markdown",
   "metadata": {},
   "source": [
    "Problem Statement.\n",
    "\n",
    "Given a 0-indexed n x n integer matrix grid, return the number of pairs (ri, cj) such that row ri and column cj are equal.\n",
    "\n",
    "A row and column pair is considered equal if they contain the same elements in the same order (i.e., an equal array).\n",
    "\n",
    "\n",
    "Example 1:\n",
    "\n",
    "Input: grid = <br/>\n",
    "[[3,2,1],<br/> \n",
    "[1,7,6],<br/>\n",
    "[2,7,7]]<br/>\n",
    "Output: 1\n",
    "Explanation: There is 1 equal row and column pair:\n",
    "- (Row 2, Column 1): [2,7,7]\n",
    "\n",
    "Example 2:\n",
    "\n",
    "Input: grid = <br/>\n",
    "[[3,1,2,2],<br/>\n",
    "[1,4,4,5],<br/>\n",
    "[2,4,2,2],<br/>\n",
    "[2,4,2,2]]<br/>\n",
    "\n",
    "Output: 3\n",
    "Explanation: There are 3 equal row and column pairs:\n",
    "- (Row 0, Column 0): [3,1,2,2]\n",
    "- (Row 2, Column 2): [2,4,2,2]\n",
    "- (Row 3, Column 2): [2,4,2,2]\n",
    "\n",
    " \n",
    "\n",
    "Constraints:\n",
    "\n",
    "    n == grid.length == grid[i].length\n",
    "    1 <= n <= 200\n",
    "    1 <= grid[i][j] <= 105\n",
    "\n"
   ]
  },
  {
   "cell_type": "markdown",
   "metadata": {},
   "source": [
    "# Hash Map - O(N ^ 2) runtime, O(N ^ 2) space, where N is the number of rows in grid"
   ]
  },
  {
   "cell_type": "code",
   "execution_count": 10,
   "metadata": {},
   "outputs": [],
   "source": [
    "from typing import List\n",
    "from collections import Counter\n",
    "\n",
    "class Solution:\n",
    "    def equalPairs(self, grid: List[List[int]]) -> int:\n",
    "        count = 0\n",
    "        n = len(grid)\n",
    "        \n",
    "        row_counter = Counter(tuple(row) for row in grid)\n",
    "\n",
    "        for c in range(n):\n",
    "            col = tuple([grid[i][c] for i in range(n)])\n",
    "            count += row_counter[col]\n",
    "\n",
    "        return count"
   ]
  },
  {
   "cell_type": "code",
   "execution_count": 7,
   "metadata": {},
   "outputs": [
    {
     "data": {
      "text/plain": [
       "1"
      ]
     },
     "execution_count": 7,
     "metadata": {},
     "output_type": "execute_result"
    }
   ],
   "source": [
    "instance = Solution()\n",
    "instance.equalPairs([[3,2,1],[1,7,6],[2,7,7]])"
   ]
  }
 ],
 "metadata": {
  "kernelspec": {
   "display_name": "Python [conda env:base] *",
   "language": "python",
   "name": "conda-base-py"
  },
  "language_info": {
   "codemirror_mode": {
    "name": "ipython",
    "version": 3
   },
   "file_extension": ".py",
   "mimetype": "text/x-python",
   "name": "python",
   "nbconvert_exporter": "python",
   "pygments_lexer": "ipython3",
   "version": "3.12.7"
  }
 },
 "nbformat": 4,
 "nbformat_minor": 4
}
