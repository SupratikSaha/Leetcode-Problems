{
 "cells": [
  {
   "cell_type": "markdown",
   "metadata": {},
   "source": [
    "Problem Statement.\n",
    "\n",
    "Table: Activity\n",
    "\n",
    "<br/>+--------------+---------+\n",
    "<br/>| Column Name  | Type    |\n",
    "<br/>+--------------+---------+\n",
    "<br/>| player_id    | int     |\n",
    "<br/>| device_id    | int     |\n",
    "<br/>| event_date   | date    |\n",
    "<br/>| games_played | int     |\n",
    "<br/>+--------------+---------+\n",
    "<br/>(player_id, event_date) is the primary key (combination of columns with unique values) of this table.\n",
    "This table shows the activity of players of some games.\n",
    "Each row is a record of a player who logged in and played a number of games (possibly 0) before logging out on someday using some device.\n",
    "\n",
    " \n",
    "\n",
    "Write a solution to report the device that is first logged in for each player.\n",
    "\n",
    "Return the result table in any order.\n",
    "\n",
    "The result format is in the following example.\n",
    "\n",
    " \n",
    "\n",
    "Example 1:\n",
    "\n",
    "Input: \n",
    "Activity table:\n",
    "<br/>+-----------+-----------+------------+--------------+\n",
    "<br/>| player_id | device_id | event_date | games_played |\n",
    "<br/>+-----------+-----------+------------+--------------+\n",
    "<br/>| 1         | 2         | 2016-03-01 | 5            |\n",
    "<br/>| 1         | 2         | 2016-05-02 | 6            |\n",
    "<br/>| 2         | 3         | 2017-06-25 | 1            |\n",
    "<br/>| 3         | 1         | 2016-03-02 | 0            |\n",
    "<br/>| 3         | 4         | 2018-07-03 | 5            |\n",
    "<br/>+-----------+-----------+------------+--------------+\n",
    "<br/>Output: \n",
    "<br/>+-----------+-----------+\n",
    "<br/>| player_id | device_id |\n",
    "<br/>+-----------+-----------+\n",
    "<br/>| 1         | 2         |\n",
    "<br/>| 2         | 3         |\n",
    "<br/>| 3         | 1         |\n",
    "<br/>+-----------+-----------+"
   ]
  },
  {
   "cell_type": "markdown",
   "metadata": {},
   "source": [
    "# GROUP BY AND JOIN"
   ]
  },
  {
   "cell_type": "code",
   "execution_count": 1,
   "metadata": {},
   "outputs": [],
   "source": [
    "WITH first_login AS (\n",
    "    SELECT \n",
    "        player_id,\n",
    "        min(event_date) as first_login_date\n",
    "    FROM Activity\n",
    "    GROUP BY\n",
    "        player_id\n",
    ")\n",
    "SELECT\n",
    "    a.player_id,\n",
    "    a.device_id\n",
    "FROm Activity a\n",
    "JOIN first_login f\n",
    "ON a.player_id = f.player_id and a.event_date = f.first_login_date"
   ]
  },
  {
   "cell_type": "markdown",
   "metadata": {},
   "source": [
    "# WINDOW FUNCTION"
   ]
  },
  {
   "cell_type": "code",
   "execution_count": null,
   "metadata": {},
   "outputs": [],
   "source": [
    "WITH ranked_login AS (\n",
    "    SELECT \n",
    "        player_id,\n",
    "        device_id,\n",
    "        RANK() OVER (PARTITION BY player_id ORDER BY event_date) AS rnk\n",
    "    FROM\n",
    "    Activity\n",
    ")\n",
    "SELECT\n",
    "    player_id,\n",
    "    device_id\n",
    "FROM ranked_login\n",
    "WHERE rnk = 1"
   ]
  }
 ],
 "metadata": {
  "kernelspec": {
   "display_name": "Python [conda env:base] *",
   "language": "python",
   "name": "conda-base-py"
  },
  "language_info": {
   "codemirror_mode": {
    "name": "ipython",
    "version": 3
   },
   "file_extension": ".py",
   "mimetype": "text/x-python",
   "name": "python",
   "nbconvert_exporter": "python",
   "pygments_lexer": "ipython3",
   "version": "3.12.7"
  }
 },
 "nbformat": 4,
 "nbformat_minor": 4
}
