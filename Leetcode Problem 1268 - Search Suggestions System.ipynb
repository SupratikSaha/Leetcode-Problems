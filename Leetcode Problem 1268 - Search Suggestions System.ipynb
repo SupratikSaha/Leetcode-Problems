{
 "cells": [
  {
   "cell_type": "markdown",
   "metadata": {},
   "source": [
    "Problem Statement.\n",
    "\n",
    "Given an array of strings products and a string searchWord. We want to design a system that suggests at most three product names from products after each character of searchWord is typed. Suggested products should have common prefix with the searchWord. If there are more than three products with a common prefix return the three lexicographically minimums products.\n",
    "\n",
    "Return list of lists of the suggested products after each character of searchWord is typed. \n",
    "\n",
    " \n",
    "\n",
    "Example 1:\n",
    "\n",
    "Input: products = [\"mobile\",\"mouse\",\"moneypot\",\"monitor\",\"mousepad\"], searchWord = \"mouse\"\n",
    "Output: [\n",
    "[\"mobile\",\"moneypot\",\"monitor\"],\n",
    "[\"mobile\",\"moneypot\",\"monitor\"],\n",
    "[\"mouse\",\"mousepad\"],\n",
    "[\"mouse\",\"mousepad\"],\n",
    "[\"mouse\",\"mousepad\"]\n",
    "]\n",
    "Explanation: products sorted lexicographically = [\"mobile\",\"moneypot\",\"monitor\",\"mouse\",\"mousepad\"]\n",
    "After typing m and mo all products match and we show user [\"mobile\",\"moneypot\",\"monitor\"]\n",
    "After typing mou, mous and mouse the system suggests [\"mouse\",\"mousepad\"]\n",
    "\n",
    "Example 2:\n",
    "\n",
    "Input: products = [\"havana\"], searchWord = \"havana\"\n",
    "Output: [[\"havana\"],[\"havana\"],[\"havana\"],[\"havana\"],[\"havana\"],[\"havana\"]]\n",
    "\n",
    "Example 3:\n",
    "\n",
    "Input: products = [\"bags\",\"baggage\",\"banner\",\"box\",\"cloths\"], searchWord = \"bags\"\n",
    "Output: [[\"baggage\",\"bags\",\"banner\"],[\"baggage\",\"bags\",\"banner\"],[\"baggage\",\"bags\"],[\"bags\"]]\n",
    "\n",
    "Example 4:\n",
    "\n",
    "Input: products = [\"havana\"], searchWord = \"tatiana\"\n",
    "Output: [[],[],[],[],[],[],[]]\n",
    "\n",
    " \n",
    "\n",
    "Constraints:\n",
    "\n",
    "    1 <= products.length <= 1000\n",
    "    There are no repeated elements in products.\n",
    "    1 <= Σ products[i].length <= 2 * 10^4\n",
    "    All characters of products[i] are lower-case English letters.\n",
    "    1 <= searchWord.length <= 1000\n",
    "    All characters of searchWord are lower-case English letters."
   ]
  },
  {
   "cell_type": "markdown",
   "metadata": {},
   "source": [
    "# Heap - O(P * N ^ 2 + S ^ 2) runtime, O(P * N) space, where P is no. of products, N is the max length of each product and S is the length of the searchword "
   ]
  },
  {
   "cell_type": "code",
   "execution_count": 1,
   "metadata": {},
   "outputs": [],
   "source": [
    "from typing import List\n",
    "from collections import defaultdict\n",
    "from heapq import heappush, heappop\n",
    "\n",
    "class Solution:\n",
    "    def suggestedProducts(self, products: List[str], searchWord: str) -> List[List[str]]:\n",
    "        wordDict = defaultdict(list)\n",
    "        \n",
    "        for product in products:\n",
    "            prefix = ''\n",
    "            for c in product:\n",
    "                prefix += c\n",
    "                heappush(wordDict[prefix], product)\n",
    "        \n",
    "        result = []\n",
    "        prefix = ''\n",
    "        for c in searchWord:\n",
    "            prefix += c\n",
    "            if prefix not in wordDict: result.append([])\n",
    "            else:\n",
    "                newList = []\n",
    "                j = 0\n",
    "                while wordDict[prefix] and j < 3:\n",
    "                    newList.append(heappop(wordDict[prefix]))\n",
    "                    j += 1\n",
    "                result.append(newList)\n",
    "        \n",
    "        return result"
   ]
  },
  {
   "cell_type": "markdown",
   "metadata": {},
   "source": [
    "# Trie with Heap - O(N + S) runtime, O(P*N + S) space"
   ]
  },
  {
   "cell_type": "code",
   "execution_count": 2,
   "metadata": {},
   "outputs": [],
   "source": [
    "from typing import List\n",
    "from collections import defaultdict\n",
    "from heapq import heappush, heappushpop\n",
    "\n",
    "class Solution:\n",
    "    def suggestedProducts(self, products: List[str], searchWord: str) -> List[List[str]]:\n",
    "        class TrieNode:\n",
    "            def __init__(self):\n",
    "                self.children = defaultdict(TrieNode)\n",
    "                self.h = []\n",
    "            \n",
    "            def add_sugesstion(self, product):\n",
    "                if len(self.h) < 3:\n",
    "                    heappush(self.h, MaxHeapStr(product))\n",
    "                else:\n",
    "                    heappushpop(self.h, MaxHeapStr(product))\n",
    "            \n",
    "            def get_suggestion(self):\n",
    "                return sorted(self.h, reverse = True)\n",
    "        \n",
    "        class MaxHeapStr(str):\n",
    "            def __init__(self, string): self.string = string\n",
    "            def __lt__(self,other): return self.string > other.string\n",
    "            def __eq__(self,other): return self.string == other.string\n",
    "        \n",
    "        root = TrieNode()\n",
    "        for p in products:\n",
    "            node = root\n",
    "            for char in p:\n",
    "                node = node.children[char]\n",
    "                node.add_sugesstion(p)\n",
    "        \n",
    "        result, node = [], root\n",
    "        for char in searchWord:\n",
    "            node = node.children[char]\n",
    "            result.append(node.get_suggestion())\n",
    "        return result"
   ]
  },
  {
   "cell_type": "markdown",
   "metadata": {},
   "source": [
    "# Sort and Two Pointer - O(P Log P + W * P) runtime, O(P) space"
   ]
  },
  {
   "cell_type": "code",
   "execution_count": 1,
   "metadata": {},
   "outputs": [],
   "source": [
    "from typing import List\n",
    "\n",
    "class Solution:\n",
    "    def suggestedProducts(self, products: List[str], searchWord: str) -> List[List[str]]:\n",
    "        n = len(products)\n",
    "        products.sort()  # Sort by increasing lexicographically order of products\n",
    "        ans = []\n",
    "        startIdx, endIdx = 0, n - 1\n",
    "        for i, c in enumerate(searchWord):\n",
    "            while startIdx <= endIdx and (i >= len(products[startIdx]) or products[startIdx][i] < c):\n",
    "                startIdx += 1\n",
    "            while startIdx <= endIdx and (i >= len(products[endIdx]) or products[endIdx][i] > c):\n",
    "                endIdx -= 1\n",
    "\n",
    "            if startIdx <= endIdx:\n",
    "                ans.append(products[startIdx:min(startIdx+3, endIdx+1)])\n",
    "            else:\n",
    "                ans.append([])\n",
    "        return ans"
   ]
  },
  {
   "cell_type": "markdown",
   "metadata": {},
   "source": [
    "# Binary Search - O(P Log P) + O(S Log P) runtime, O(P + S) space"
   ]
  },
  {
   "cell_type": "code",
   "execution_count": 9,
   "metadata": {},
   "outputs": [],
   "source": [
    "from typing import List\n",
    "from bisect import bisect_left\n",
    "\n",
    "class Solution:\n",
    "    def suggestedProducts(self, products: List[str], searchWord: str) -> List[List[str]]:\n",
    "        products.sort()\n",
    "        res, prefix, i = [], '', 0\n",
    "        for c in searchWord:\n",
    "            prefix += c\n",
    "            i = bisect_left(products, prefix, i)\n",
    "            res.append([w for w in products[i:i + 3] if w.startswith(prefix)])\n",
    "        return res"
   ]
  },
  {
   "cell_type": "markdown",
   "metadata": {},
   "source": [
    "# Trie - O(M) to build the trie where M is total number of characters in products runtime, O(26 * N) where N is the number of nodes in the trie"
   ]
  },
  {
   "cell_type": "code",
   "execution_count": 7,
   "metadata": {},
   "outputs": [],
   "source": [
    "from typing import List\n",
    "\n",
    "class Solution:\n",
    "    def suggestedProducts(self, products: List[str], searchWord: str) -> List[List[str]]:\n",
    "        trie= {}\n",
    "\n",
    "        for p in products:\n",
    "            cur = trie\n",
    "            for c in p:\n",
    "                if c not in cur: cur[c] = {}\n",
    "                cur = cur[c]\n",
    "            if '#' not in cur: cur['#'] = True\n",
    "\n",
    "        def search_word(cur, cur_list, cur_word):\n",
    "            if len(cur_list) == 3: return\n",
    "            if '#' in cur:\n",
    "                cur_list.append(''.join(cur_word))\n",
    "            for char in 'abcdefghijklmnopqrstuvwxyz':\n",
    "                if char in cur:\n",
    "                    search_word(cur[char], cur_list, cur_word + [char])\n",
    "        \n",
    "        result = []\n",
    "        cur = trie\n",
    "        n = len(searchWord)\n",
    "        word_so_far = []\n",
    "        for i, s in enumerate(searchWord):\n",
    "            if s not in cur:\n",
    "                for _ in range(i, n):\n",
    "                    result.append([])\n",
    "                break\n",
    "            word_so_far.append(s) \n",
    "            cur = cur[s]\n",
    "            cur_list = list()\n",
    "            search_word(cur, cur_list, list(word_so_far))\n",
    "            result.append(cur_list)\n",
    "\n",
    "        return result"
   ]
  },
  {
   "cell_type": "code",
   "execution_count": 11,
   "metadata": {},
   "outputs": [
    {
     "data": {
      "text/plain": [
       "[['mobile', 'moneypot', 'monitor'],\n",
       " ['mobile', 'moneypot', 'monitor'],\n",
       " ['mouse', 'mousepad'],\n",
       " ['mouse', 'mousepad'],\n",
       " ['mouse', 'mousepad']]"
      ]
     },
     "execution_count": 11,
     "metadata": {},
     "output_type": "execute_result"
    }
   ],
   "source": [
    "instance = Solution()\n",
    "instance.suggestedProducts([\"mobile\",\"mouse\",\"moneypot\",\"monitor\",\"mousepad\"], \"mouse\")"
   ]
  }
 ],
 "metadata": {
  "kernelspec": {
   "display_name": "Python [conda env:base] *",
   "language": "python",
   "name": "conda-base-py"
  },
  "language_info": {
   "codemirror_mode": {
    "name": "ipython",
    "version": 3
   },
   "file_extension": ".py",
   "mimetype": "text/x-python",
   "name": "python",
   "nbconvert_exporter": "python",
   "pygments_lexer": "ipython3",
   "version": "3.12.7"
  }
 },
 "nbformat": 4,
 "nbformat_minor": 4
}
