{
 "cells": [
  {
   "cell_type": "markdown",
   "metadata": {},
   "source": [
    "Problem Statement.\n",
    "\n",
    "You have a set which contains all positive integers [1, 2, 3, 4, 5, ...].\n",
    "\n",
    "Implement the SmallestInfiniteSet class:\n",
    "\n",
    "    SmallestInfiniteSet() Initializes the SmallestInfiniteSet object to contain all positive integers.\n",
    "    int popSmallest() Removes and returns the smallest integer contained in the infinite set.\n",
    "    void addBack(int num) Adds a positive integer num back into the infinite set, if it is not already in the infinite set.\n",
    "\n",
    " \n",
    "\n",
    "Example 1:\n",
    "\n",
    "Input\n",
    "[\"SmallestInfiniteSet\", \"addBack\", \"popSmallest\", \"popSmallest\", \"popSmallest\", \"addBack\", \"popSmallest\", \"popSmallest\", \"popSmallest\"]\n",
    "[[], [2], [], [], [], [1], [], [], []]\n",
    "Output\n",
    "[null, null, 1, 2, 3, null, 1, 4, 5]\n",
    "\n",
    "Explanation\n",
    "SmallestInfiniteSet smallestInfiniteSet = new SmallestInfiniteSet();<br/>\n",
    "smallestInfiniteSet.addBack(2);    // 2 is already in the set, so no change is made.<br/>\n",
    "smallestInfiniteSet.popSmallest(); // return 1, since 1 is the smallest number, and remove it from the set.<br/>\n",
    "smallestInfiniteSet.popSmallest(); // return 2, and remove it from the set.<br/>\n",
    "smallestInfiniteSet.popSmallest(); // return 3, and remove it from the set.<br/>\n",
    "smallestInfiniteSet.addBack(1);    // 1 is added back to the set.<br/>\n",
    "smallestInfiniteSet.popSmallest(); // return 1, since 1 was added back to the set and<br/>\n",
    "                                   // is the smallest number, and remove it from the set.<br/>\n",
    "smallestInfiniteSet.popSmallest(); // return 4, and remove it from the set.<br/>\n",
    "smallestInfiniteSet.popSmallest(); // return 5, and remove it from the set.<br/>\n",
    "\n",
    " \n",
    "\n",
    "Constraints:\n",
    "\n",
    "    1 <= num <= 1000\n",
    "    At most 1000 calls will be made in total to popSmallest and addBack."
   ]
  },
  {
   "cell_type": "markdown",
   "metadata": {},
   "source": [
    "# Heap and Set - O((M+N) * Log N) runtime, O(N) space, where N is the number of calls to addback() and M is the number of calls to popSmallest()"
   ]
  },
  {
   "cell_type": "code",
   "execution_count": 4,
   "metadata": {},
   "outputs": [],
   "source": [
    "from heapq import heappush, heappop\n",
    "\n",
    "class SmallestInfiniteSet:\n",
    "\n",
    "    def __init__(self):\n",
    "        self.in_order = 1\n",
    "        self.minheap = []\n",
    "        self.add_back_set = set()\n",
    "\n",
    "    def popSmallest(self) -> int:\n",
    "        if self.minheap:\n",
    "            num = heappop(self.minheap)\n",
    "            self.add_back_set.remove(num)\n",
    "        else:\n",
    "            num = self.in_order\n",
    "            self.in_order += 1\n",
    "            \n",
    "        return num\n",
    "\n",
    "    def addBack(self, num: int) -> None:\n",
    "        if num < self.in_order and num not in self.add_back_set:\n",
    "            self.add_back_set.add(num)\n",
    "            heappush(self.minheap, num)"
   ]
  },
  {
   "cell_type": "markdown",
   "metadata": {},
   "source": [
    "# SortedSet - O((M+N) * Log N) runtime, O(N) space, where N is the number of calls to addback() and M is the number of calls to popSmallest()"
   ]
  },
  {
   "cell_type": "code",
   "execution_count": 7,
   "metadata": {},
   "outputs": [],
   "source": [
    "from sortedcontainers import SortedSet\n",
    "\n",
    "class SmallestInfiniteSet:\n",
    "\n",
    "    def __init__(self):\n",
    "        self.added_integers = SortedSet()\n",
    "        self.current_integer = 1\n",
    "\n",
    "    def popSmallest(self) -> int:\n",
    "        if self.added_integers:\n",
    "            answer = self.added_integers[0]\n",
    "            self.added_integers.discard(answer)\n",
    "        else:\n",
    "            answer = self.current_integer\n",
    "            self.current_integer += 1\n",
    "        return answer\n",
    "\n",
    "    def addBack(self, num: int) -> None:\n",
    "        if num < self.current_integer and num not in self.added_integers:\n",
    "        \tself.added_integers.add(num)\n"
   ]
  },
  {
   "cell_type": "code",
   "execution_count": 14,
   "metadata": {},
   "outputs": [
    {
     "name": "stdout",
     "output_type": "stream",
     "text": [
      "1\n",
      "2\n",
      "3\n",
      "1\n",
      "4\n",
      "5\n"
     ]
    }
   ],
   "source": [
    "instance = SmallestInfiniteSet()\n",
    "instance.addBack(2)\n",
    "print(instance.popSmallest())\n",
    "print(instance.popSmallest())\n",
    "print(instance.popSmallest())\n",
    "instance.addBack(1)\n",
    "print(instance.popSmallest())\n",
    "print(instance.popSmallest())\n",
    "print(instance.popSmallest())"
   ]
  }
 ],
 "metadata": {
  "kernelspec": {
   "display_name": "Python [conda env:base] *",
   "language": "python",
   "name": "conda-base-py"
  },
  "language_info": {
   "codemirror_mode": {
    "name": "ipython",
    "version": 3
   },
   "file_extension": ".py",
   "mimetype": "text/x-python",
   "name": "python",
   "nbconvert_exporter": "python",
   "pygments_lexer": "ipython3",
   "version": "3.12.7"
  }
 },
 "nbformat": 4,
 "nbformat_minor": 4
}
