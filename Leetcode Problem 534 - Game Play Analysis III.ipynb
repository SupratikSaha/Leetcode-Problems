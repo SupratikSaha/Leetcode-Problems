{
 "cells": [
  {
   "cell_type": "markdown",
   "metadata": {},
   "source": [
    "Problem Statement.\n",
    "\n",
    "Table: Activity\n",
    "\n",
    "<br/>+--------------+---------+\n",
    "<br/>| Column Name  | Type    |\n",
    "<br/>+--------------+---------+\n",
    "<br/>| player_id    | int     |\n",
    "<br/>| device_id    | int     |\n",
    "<br/>| event_date   | date    |\n",
    "<br/>| games_played | int     |\n",
    "<br/>+--------------+---------+\n",
    "<br/>(player_id, event_date) is the primary key (column with unique values) of this table.\n",
    "This table shows the activity of players of some games.\n",
    "Each row is a record of a player who logged in and played a number of games (possibly 0) before logging out on someday using some device.\n",
    "\n",
    " \n",
    "\n",
    "Write a solution to report for each player and date, how many games played so far by the player. That is, the total number of games played by the player until that date. Check the example for clarity.\n",
    "\n",
    "Return the result table in any order.\n",
    "\n",
    "The result format is in the following example.\n",
    "\n",
    " \n",
    "\n",
    "Example 1:\n",
    "\n",
    "Input: \n",
    "Activity table:\n",
    "<br/>+-----------+-----------+------------+--------------+\n",
    "<br/>| player_id | device_id | event_date | games_played |\n",
    "<br/>+-----------+-----------+------------+--------------+\n",
    "<br/>| 1         | 2         | 2016-03-01 | 5            |\n",
    "<br/>| 1         | 2         | 2016-05-02 | 6            |\n",
    "<br/>| 1         | 3         | 2017-06-25 | 1            |\n",
    "<br/>| 3         | 1         | 2016-03-02 | 0            |\n",
    "<br/>| 3         | 4         | 2018-07-03 | 5            |\n",
    "<br/>+-----------+-----------+------------+--------------+\n",
    "<br/>Output: \n",
    "<br/>+-----------+------------+---------------------+\n",
    "<br/>| player_id | event_date | games_played_so_far |\n",
    "<br/>+-----------+------------+---------------------+\n",
    "<br/>| 1         | 2016-03-01 | 5                   |\n",
    "<br/>| 1         | 2016-05-02 | 11                  |\n",
    "<br/>| 1         | 2017-06-25 | 12                  |\n",
    "<br/>| 3         | 2016-03-02 | 0                   |\n",
    "<br/>| 3         | 2018-07-03 | 5                   |\n",
    "<br/>+-----------+------------+---------------------+\n",
    "<br/>Explanation: \n",
    "For the player with id 1, 5 + 6 = 11 games played by 2016-05-02, and 5 + 6 + 1 = 12 games played by 2017-06-25.\n",
    "For the player with id 3, 0 + 5 = 5 games played by 2018-07-03.\n",
    "Note that for each player we only care about the days when the player logged in."
   ]
  },
  {
   "cell_type": "markdown",
   "metadata": {},
   "source": [
    "# JOIN"
   ]
  },
  {
   "cell_type": "code",
   "execution_count": null,
   "metadata": {},
   "outputs": [],
   "source": [
    "SELECT\n",
    "    a.player_id,\n",
    "    a.event_date,\n",
    "    SUM(b.games_played) AS games_played_so_far\n",
    "FROM Activity a\n",
    "JOIN Activity b\n",
    "ON a.player_id = b.player_id\n",
    "   AND a.event_date >= b.event_date\n",
    "GROUP BY 1, 2"
   ]
  },
  {
   "cell_type": "markdown",
   "metadata": {},
   "source": [
    "# WINDOW FUNCTION"
   ]
  },
  {
   "cell_type": "code",
   "execution_count": 4,
   "metadata": {},
   "outputs": [],
   "source": [
    "SELECT\n",
    "    player_id,\n",
    "    event_date,\n",
    "    SUM(games_played) OVER (PARTITION BY player_id ORDER BY event_date) AS games_played_so_far\n",
    "FROM Activity a"
   ]
  },
  {
   "cell_type": "code",
   "execution_count": 5,
   "metadata": {},
   "outputs": [
    {
     "data": {
      "text/plain": [
       "2"
      ]
     },
     "execution_count": 5,
     "metadata": {},
     "output_type": "execute_result"
    }
   ],
   "source": [
    "instance = Solution()\n",
    "instance.findPairs([1,2,4,4,3,3,0,9,2,3], 3)"
   ]
  }
 ],
 "metadata": {
  "kernelspec": {
   "display_name": "Python [conda env:base] *",
   "language": "python",
   "name": "conda-base-py"
  },
  "language_info": {
   "codemirror_mode": {
    "name": "ipython",
    "version": 3
   },
   "file_extension": ".py",
   "mimetype": "text/x-python",
   "name": "python",
   "nbconvert_exporter": "python",
   "pygments_lexer": "ipython3",
   "version": "3.12.7"
  }
 },
 "nbformat": 4,
 "nbformat_minor": 4
}
