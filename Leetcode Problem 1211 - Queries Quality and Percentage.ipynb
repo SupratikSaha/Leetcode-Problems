{
 "cells": [
  {
   "cell_type": "markdown",
   "metadata": {},
   "source": [
    "    Problem Statement.\n",
    "\n",
    "    Table: Queries\n",
    "\n",
    "    +-------------+---------+\n",
    "    | Column Name | Type    |\n",
    "    +-------------+---------+\n",
    "    | query_name  | varchar |\n",
    "    | result      | varchar |\n",
    "    | position    | int     |\n",
    "    | rating      | int     |\n",
    "    +-------------+---------+\n",
    "    This table may have duplicate rows.\n",
    "    This table contains information collected from some queries on a database.\n",
    "    The position column has a value from 1 to 500.\n",
    "    The rating column has a value from 1 to 5. Query with rating less than 3 is a poor query.\n",
    "    \n",
    "     \n",
    "    \n",
    "    We define query quality as:\n",
    "    \n",
    "        The average of the ratio between query rating and its position.\n",
    "    \n",
    "    We also define poor query percentage as:\n",
    "    \n",
    "        The percentage of all queries with rating less than 3.\n",
    "    \n",
    "    Write a solution to find each query_name, the quality and poor_query_percentage.\n",
    "    \n",
    "    Both quality and poor_query_percentage should be rounded to 2 decimal places.\n",
    "    \n",
    "    Return the result table in any order.\n",
    "    \n",
    "    The result format is in the following example.\n",
    "    \n",
    "     \n",
    "    \n",
    "    Example 1:\n",
    "    \n",
    "    Input: \n",
    "    Queries table:\n",
    "    +------------+-------------------+----------+--------+\n",
    "    | query_name | result            | position | rating |\n",
    "    +------------+-------------------+----------+--------+\n",
    "    | Dog        | Golden Retriever  | 1        | 5      |\n",
    "    | Dog        | German Shepherd   | 2        | 5      |\n",
    "    | Dog        | Mule              | 200      | 1      |\n",
    "    | Cat        | Shirazi           | 5        | 2      |\n",
    "    | Cat        | Siamese           | 3        | 3      |\n",
    "    | Cat        | Sphynx            | 7        | 4      |\n",
    "    +------------+-------------------+----------+--------+\n",
    "    Output: \n",
    "    +------------+---------+-----------------------+\n",
    "    | query_name | quality | poor_query_percentage |\n",
    "    +------------+---------+-----------------------+\n",
    "    | Dog        | 2.50    | 33.33                 |\n",
    "    | Cat        | 0.66    | 33.33                 |\n",
    "    +------------+---------+-----------------------+\n",
    "    Explanation: \n",
    "    Dog queries quality is ((5 / 1) + (5 / 2) + (1 / 200)) / 3 = 2.50\n",
    "    Dog queries poor_ query_percentage is (1 / 3) * 100 = 33.33\n",
    "    \n",
    "    Cat queries quality equals ((2 / 5) + (3 / 3) + (4 / 7)) / 3 = 0.66\n",
    "    Cat queries poor_ query_percentage is (1 / 3) * 100 = 33.33"
   ]
  },
  {
   "cell_type": "markdown",
   "metadata": {},
   "source": [
    "# CASE "
   ]
  },
  {
   "cell_type": "code",
   "execution_count": null,
   "metadata": {},
   "outputs": [],
   "source": [
    "SELECT\n",
    "    query_name,\n",
    "    ROUND(AVG(rating/position), 2) AS quality,\n",
    "    ROUND(SUM(CASE WHEN rating < 3 THEN 1 ELSE 0 END) / COUNT(*) * 100, 2) AS poor_query_percentage\n",
    "FROM Queries\n",
    "GROUP BY 1"
   ]
  },
  {
   "cell_type": "markdown",
   "metadata": {},
   "source": [
    "# IF"
   ]
  },
  {
   "cell_type": "code",
   "execution_count": null,
   "metadata": {},
   "outputs": [],
   "source": [
    "SELECT\n",
    "    query_name,\n",
    "    ROUND(AVG(rating/position), 2) AS quality,\n",
    "    ROUND(AVG(IF(rating < 3,1,0))*100, 2) AS poor_query_percentage\n",
    "FROM Queries\n",
    "GROUP BY 1"
   ]
  }
 ],
 "metadata": {
  "kernelspec": {
   "display_name": "Python [conda env:base] *",
   "language": "python",
   "name": "conda-base-py"
  },
  "language_info": {
   "codemirror_mode": {
    "name": "ipython",
    "version": 3
   },
   "file_extension": ".py",
   "mimetype": "text/x-python",
   "name": "python",
   "nbconvert_exporter": "python",
   "pygments_lexer": "ipython3",
   "version": "3.12.7"
  }
 },
 "nbformat": 4,
 "nbformat_minor": 4
}
