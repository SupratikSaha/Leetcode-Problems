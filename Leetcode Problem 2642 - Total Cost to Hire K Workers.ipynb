{
 "cells": [
  {
   "cell_type": "markdown",
   "metadata": {},
   "source": [
    "Problem Statement.\n",
    "\n",
    "You are given two 0-indexed integer arrays nums1 and nums2 of equal length n and a positive integer k. You must choose a subsequence of indices from nums1 of length k.\n",
    "\n",
    "For chosen indices i0, i1, ..., ik - 1, your score is defined as:\n",
    "\n",
    "    The sum of the selected elements from nums1 multiplied with the minimum of the selected elements from nums2.\n",
    "    It can defined simply as: (nums1[i0] + nums1[i1] +...+ nums1[ik - 1]) * min(nums2[i0] , nums2[i1], ... ,nums2[ik - 1]).\n",
    "\n",
    "Return the maximum possible score.\n",
    "\n",
    "A subsequence of indices of an array is a set that can be derived from the set {0, 1, ..., n-1} by deleting some or no elements.\n",
    "\n",
    " \n",
    "\n",
    "Example 1:\n",
    "\n",
    "Input: nums1 = [1,3,3,2], nums2 = [2,1,3,4], k = 3\n",
    "Output: 12\n",
    "Explanation: \n",
    "The four possible subsequence scores are:\n",
    "- We choose the indices 0, 1, and 2 with score = (1+3+3) * min(2,1,3) = 7.\n",
    "- We choose the indices 0, 1, and 3 with score = (1+3+2) * min(2,1,4) = 6. \n",
    "- We choose the indices 0, 2, and 3 with score = (1+3+2) * min(2,3,4) = 12. \n",
    "- We choose the indices 1, 2, and 3 with score = (3+3+2) * min(1,3,4) = 8.\n",
    "Therefore, we return the max score, which is 12.\n",
    "\n",
    "Example 2:\n",
    "\n",
    "Input: nums1 = [4,2,3,1,1], nums2 = [7,5,10,9,6], k = 1\n",
    "Output: 30\n",
    "Explanation: \n",
    "Choosing index 2 is optimal: nums1[2] * nums2[2] = 3 * 10 = 30 is the maximum possible score.\n",
    "\n",
    " \n",
    "Constraints:\n",
    "\n",
    "    n == nums1.length == nums2.length\n",
    "    1 <= n <= 105\n",
    "    0 <= nums1[i], nums2[j] <= 105\n",
    "    1 <= k <= n"
   ]
  },
  {
   "cell_type": "markdown",
   "metadata": {},
   "source": [
    "# Heap and Sort - O(N * (Log N + Log K)) runtime, O(N) space, where N is the length of list and k is the length of indexes"
   ]
  },
  {
   "cell_type": "code",
   "execution_count": 7,
   "metadata": {},
   "outputs": [],
   "source": [
    "from typing import List\n",
    "from heapq import heappush, heappop\n",
    "from operator import itemgetter\n",
    "\n",
    "class Solution:\n",
    "    def maxScore(self, nums1: List[int], nums2: List[int], k: int) -> int:\n",
    "        res, prefixSum, minHeap = 0, 0, []\n",
    "\n",
    "        for a, b in sorted(list(zip(nums1, nums2)), key=itemgetter(1), reverse=True):\n",
    "            prefixSum += a\n",
    "            heappush(minHeap, a)\n",
    "            if len(minHeap) == k:\n",
    "                res = max(res, prefixSum * b)\n",
    "                prefixSum -= heappop(minHeap)   \n",
    "                        \n",
    "        return res"
   ]
  },
  {
   "cell_type": "code",
   "execution_count": 9,
   "metadata": {},
   "outputs": [
    {
     "data": {
      "text/plain": [
       "12"
      ]
     },
     "execution_count": 9,
     "metadata": {},
     "output_type": "execute_result"
    }
   ],
   "source": [
    "instance = Solution()\n",
    "instance.maxScore([1,3,3,2], [2,1,3,4], 3)"
   ]
  }
 ],
 "metadata": {
  "kernelspec": {
   "display_name": "Python [conda env:base] *",
   "language": "python",
   "name": "conda-base-py"
  },
  "language_info": {
   "codemirror_mode": {
    "name": "ipython",
    "version": 3
   },
   "file_extension": ".py",
   "mimetype": "text/x-python",
   "name": "python",
   "nbconvert_exporter": "python",
   "pygments_lexer": "ipython3",
   "version": "3.12.7"
  }
 },
 "nbformat": 4,
 "nbformat_minor": 4
}
