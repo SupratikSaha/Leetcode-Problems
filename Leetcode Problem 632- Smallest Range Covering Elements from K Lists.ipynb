{
 "cells": [
  {
   "cell_type": "markdown",
   "metadata": {},
   "source": [
    "Problem Statement.\n",
    "\n",
    "You have k lists of sorted integers in non-decreasing order. Find the smallest range that includes at least one number from each of the k lists.\n",
    "\n",
    "We define the range [a, b] is smaller than range [c, d] if b - a < d - c or a < c if b - a == d - c.\n",
    "\n",
    " \n",
    "\n",
    "Example 1:\n",
    "\n",
    "Input: nums = [[4,10,15,24,26],[0,9,12,20],[5,18,22,30]]\n",
    "Output: [20,24]\n",
    "Explanation: \n",
    "List 1: [4, 10, 15, 24,26], 24 is in range [20,24].\n",
    "List 2: [0, 9, 12, 20], 20 is in range [20,24].\n",
    "List 3: [5, 18, 22, 30], 22 is in range [20,24].\n",
    "\n",
    "Example 2:\n",
    "\n",
    "Input: nums = [[1,2,3],[1,2,3],[1,2,3]]\n",
    "Output: [1,1]\n",
    "\n",
    " \n",
    "\n",
    "Constraints:\n",
    "\n",
    "    nums.length == k\n",
    "    1 <= k <= 3500\n",
    "    1 <= nums[i].length <= 50\n",
    "    -105 <= nums[i][j] <= 105\n",
    "    nums[i] is sorted in non-decreasing order."
   ]
  },
  {
   "cell_type": "markdown",
   "metadata": {},
   "source": [
    "# Min Heap - - O(N * Log K) runtime, O(K) space, where N is the total number of numbers across all lists and K is the number of lists"
   ]
  },
  {
   "cell_type": "code",
   "execution_count": 11,
   "metadata": {},
   "outputs": [],
   "source": [
    "from typing import List\n",
    "from heapq import heappush, heappop\n",
    "\n",
    "class Solution:\n",
    "    def smallestRange(self, nums: List[List[int]]) -> List[int]:\n",
    "        n = len(nums)\n",
    "        minheap = []\n",
    "        max_val = float('-inf')\n",
    "        for i in range(n):\n",
    "            heappush(minheap, (nums[i][0], i, 0))\n",
    "            max_val = max(max_val, nums[i][0])\n",
    "\n",
    "        start, end = 0, float('inf')\n",
    "\n",
    "        while len(minheap) == n:\n",
    "            min_val, row, col = heappop(minheap)\n",
    "            if max_val - min_val < end - start:\n",
    "                start, end = min_val, max_val\n",
    "\n",
    "            if col + 1 < len(nums[row]):\n",
    "                heappush(minheap, (nums[row][col+1], row, col+1))\n",
    "                max_val = max(max_val, nums[row][col+1])\n",
    "\n",
    "        return [start, end]"
   ]
  },
  {
   "cell_type": "code",
   "execution_count": 13,
   "metadata": {},
   "outputs": [
    {
     "data": {
      "text/plain": [
       "[20, 24]"
      ]
     },
     "execution_count": 13,
     "metadata": {},
     "output_type": "execute_result"
    }
   ],
   "source": [
    "instance = Solution()\n",
    "instance.smallestRange([[4,10,15,24,26],[0,9,12,20],[5,18,22,30]])"
   ]
  }
 ],
 "metadata": {
  "kernelspec": {
   "display_name": "Python [conda env:base] *",
   "language": "python",
   "name": "conda-base-py"
  },
  "language_info": {
   "codemirror_mode": {
    "name": "ipython",
    "version": 3
   },
   "file_extension": ".py",
   "mimetype": "text/x-python",
   "name": "python",
   "nbconvert_exporter": "python",
   "pygments_lexer": "ipython3",
   "version": "3.12.7"
  }
 },
 "nbformat": 4,
 "nbformat_minor": 4
}
