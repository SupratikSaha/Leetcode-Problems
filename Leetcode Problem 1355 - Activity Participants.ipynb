{
 "cells": [
  {
   "cell_type": "markdown",
   "metadata": {},
   "source": [
    "    Problem Statement.\n",
    "    \n",
    "    Table: Friends\n",
    "    \n",
    "    +---------------+---------+\n",
    "    | Column Name   | Type    |\n",
    "    +---------------+---------+\n",
    "    | id            | int     |\n",
    "    | name          | varchar |\n",
    "    | activity      | varchar |\n",
    "    +---------------+---------+\n",
    "    id is the id of the friend and the primary key for this table in SQL.\n",
    "    name is the name of the friend.\n",
    "    activity is the name of the activity which the friend takes part in.\n",
    "    \n",
    "     \n",
    "    \n",
    "    Table: Activities\n",
    "    \n",
    "    +---------------+---------+\n",
    "    | Column Name   | Type    |\n",
    "    +---------------+---------+\n",
    "    | id            | int     |\n",
    "    | name          | varchar |\n",
    "    +---------------+---------+\n",
    "    In SQL, id is the primary key for this table.\n",
    "    name is the name of the activity.\n",
    "    \n",
    "     \n",
    "    \n",
    "    Find the names of all the activities with neither the maximum nor the minimum number of participants.\n",
    "    \n",
    "    Each activity in the Activities table is performed by any person in the table Friends.\n",
    "    \n",
    "    Return the result table in any order.\n",
    "    \n",
    "    The result format is in the following example.\n",
    "    \n",
    "     \n",
    "    \n",
    "    Example 1:\n",
    "    \n",
    "    Input: \n",
    "    Friends table:\n",
    "    +------+--------------+---------------+\n",
    "    | id   | name         | activity      |\n",
    "    +------+--------------+---------------+\n",
    "    | 1    | Jonathan D.  | Eating        |\n",
    "    | 2    | Jade W.      | Singing       |\n",
    "    | 3    | Victor J.    | Singing       |\n",
    "    | 4    | Elvis Q.     | Eating        |\n",
    "    | 5    | Daniel A.    | Eating        |\n",
    "    | 6    | Bob B.       | Horse Riding  |\n",
    "    +------+--------------+---------------+\n",
    "    Activities table:\n",
    "    +------+--------------+\n",
    "    | id   | name         |\n",
    "    +------+--------------+\n",
    "    | 1    | Eating       |\n",
    "    | 2    | Singing      |\n",
    "    | 3    | Horse Riding |\n",
    "    +------+--------------+\n",
    "    Output: \n",
    "    +--------------+\n",
    "    | activity     |\n",
    "    +--------------+\n",
    "    | Singing      |\n",
    "    +--------------+\n",
    "    Explanation: \n",
    "    Eating activity is performed by 3 friends, maximum number of participants, (Jonathan D. , Elvis Q. and Daniel A.)\n",
    "    Horse Riding activity is performed by 1 friend, minimum number of participants, (Bob B.)\n",
    "    Singing is performed by 2 friends (Victor J. and Jade W.)"
   ]
  },
  {
   "cell_type": "markdown",
   "metadata": {},
   "source": [
    "# JOIN"
   ]
  },
  {
   "cell_type": "code",
   "execution_count": 1,
   "metadata": {},
   "outputs": [],
   "source": [
    "WITH user_by_activity AS \n",
    "    (\n",
    "    SELECT activity, COUNT(DISTINCT id) AS user_cnts\n",
    "    FROM Friends\n",
    "    GROUP BY activity\n",
    "    )\n",
    "SELECT activity\n",
    "FROM user_by_activity u\n",
    "LEFT JOIN \n",
    "    (SELECT MAX(user_cnts) AS user_cnts \n",
    "    FROM user_by_activity\n",
    "    UNION\n",
    "    SELECT MIN(user_cnts) AS user_cnts \n",
    "    FROM user_by_activity\n",
    "    )m\n",
    "ON u.user_cnts = m.user_cnts\n",
    "WHERE m.user_cnts IS NULL"
   ]
  },
  {
   "cell_type": "markdown",
   "metadata": {},
   "source": [
    "# RANK"
   ]
  },
  {
   "cell_type": "code",
   "execution_count": 3,
   "metadata": {},
   "outputs": [],
   "source": [
    "SELECT \n",
    "    activity\n",
    "FROM (\n",
    "        SELECT\n",
    "            activity,\n",
    "            RANK() OVER (ORDER BY COUNT(id)) AS asc_rank,\n",
    "            RANK() OVER (ORDER BY COUNT(id) DESC) AS desc_rank\n",
    "        FROM Friends\n",
    "        GROUP BY activity\n",
    ") tab\n",
    "WHERE asc_rank != 1 AND desc_rank != 1"
   ]
  }
 ],
 "metadata": {
  "kernelspec": {
   "display_name": "Python [conda env:base] *",
   "language": "python",
   "name": "conda-base-py"
  },
  "language_info": {
   "codemirror_mode": {
    "name": "ipython",
    "version": 3
   },
   "file_extension": ".py",
   "mimetype": "text/x-python",
   "name": "python",
   "nbconvert_exporter": "python",
   "pygments_lexer": "ipython3",
   "version": "3.12.7"
  }
 },
 "nbformat": 4,
 "nbformat_minor": 4
}
