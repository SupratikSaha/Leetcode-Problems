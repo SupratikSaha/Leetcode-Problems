{
 "cells": [
  {
   "cell_type": "markdown",
   "metadata": {},
   "source": [
    "Problem Statement. <br/>\n",
    "\n",
    "Given the head of a linked list and a value x, partition it such that all nodes less than x come before nodes greater than or equal to x.\n",
    "\n",
    "You should preserve the original relative order of the nodes in each of the two partitions.\n",
    "\n",
    " \n",
    "\n",
    "Example 1:\n",
    "\n",
    "Input: head = [1,4,3,2,5,2], x = 3\n",
    "Output: [1,2,2,4,3,5]\n",
    "\n",
    "Example 2:\n",
    "\n",
    "Input: head = [2,1], x = 2\n",
    "Output: [1,2]\n",
    "\n",
    " \n",
    "\n",
    "Constraints:\n",
    "\n",
    "    The number of nodes in the list is in the range [0, 200].\n",
    "    -100 <= Node.val <= 100\n",
    "    -200 <= x <= 200"
   ]
  },
  {
   "cell_type": "markdown",
   "metadata": {},
   "source": [
    "# Tow Pointers - O(N) runtime, O(1) space"
   ]
  },
  {
   "cell_type": "code",
   "execution_count": 1,
   "metadata": {},
   "outputs": [],
   "source": [
    "from typing import Optional\n",
    "\n",
    "# Definition for singly-linked list.\n",
    "# class ListNode:\n",
    "#     def __init__(self, val=0, next=None):\n",
    "#         self.val = val\n",
    "#         self.next = next\n",
    "\n",
    "class Solution:\n",
    "    def partition(self, head: Optional[ListNode], x: int) -> Optional[ListNode]:\n",
    "        if not head: return None\n",
    "        smaller, greater_eqauls = ListNode(), ListNode()\n",
    "        s, ge = smaller, greater_eqauls\n",
    "\n",
    "        while head:\n",
    "            if head.val < x:\n",
    "                s.next = head\n",
    "                s = s.next\n",
    "            else:\n",
    "                ge.next = head\n",
    "                ge = ge.next\n",
    "            head = head.next\n",
    "            \n",
    "        ge.next = None\n",
    "        s.next = greater_eqauls.next\n",
    "\n",
    "        return smaller.next"
   ]
  },
  {
   "cell_type": "code",
   "execution_count": null,
   "metadata": {},
   "outputs": [],
   "source": [
    "instance = Solution()\n",
    "instance.partition( [1,4,3,2,5,2], 3)"
   ]
  }
 ],
 "metadata": {
  "kernelspec": {
   "display_name": "Python [conda env:base] *",
   "language": "python",
   "name": "conda-base-py"
  },
  "language_info": {
   "codemirror_mode": {
    "name": "ipython",
    "version": 3
   },
   "file_extension": ".py",
   "mimetype": "text/x-python",
   "name": "python",
   "nbconvert_exporter": "python",
   "pygments_lexer": "ipython3",
   "version": "3.12.7"
  }
 },
 "nbformat": 4,
 "nbformat_minor": 4
}
