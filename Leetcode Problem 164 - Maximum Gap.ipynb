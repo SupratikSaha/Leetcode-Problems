{
 "cells": [
  {
   "cell_type": "markdown",
   "metadata": {},
   "source": [
    "Problem Statement.\n",
    "\n",
    "Given an integer array nums, return the maximum difference between two successive elements in its sorted form. If the array contains less than two elements, return 0.\n",
    "\n",
    "You must write an algorithm that runs in linear time and uses linear extra space.\n",
    "\n",
    " \n",
    "\n",
    "Example 1:\n",
    "\n",
    "Input: nums = [3,6,9,1]\n",
    "Output: 3\n",
    "Explanation: The sorted form of the array is [1,3,6,9], either (3,6) or (6,9) has the maximum difference 3.\n",
    "\n",
    "Example 2:\n",
    "\n",
    "Input: nums = [10]\n",
    "Output: 0\n",
    "Explanation: The array contains less than 2 elements, therefore return 0.\n",
    "\n",
    " \n",
    "\n",
    "Constraints:\n",
    "\n",
    "    1 <= nums.length <= 105\n",
    "    0 <= nums[i] <= 109"
   ]
  },
  {
   "cell_type": "markdown",
   "metadata": {},
   "source": [
    "# Buckets - O(N) runtime, O(K) space, where k is the number of buckets"
   ]
  },
  {
   "cell_type": "code",
   "execution_count": 14,
   "metadata": {},
   "outputs": [],
   "source": [
    "from typing import List\n",
    "\n",
    "class Solution:\n",
    "    def maximumGap(self, nums: List[int]) -> int:\n",
    "        n = len(nums)\n",
    "        if n < 2: return 0\n",
    "\n",
    "        maxi, mini = max(nums), min(nums)\n",
    "        bucket_size = max(1, (maxi - mini) // (n-1))\n",
    "        num_buckets = (maxi - mini) // bucket_size + 1\n",
    "\n",
    "        buckets = [[0, float('inf'), float('-inf')] for _ in range(num_buckets)]\n",
    "\n",
    "        for num in nums:\n",
    "            idx = (num - mini) // bucket_size\n",
    "            buckets[idx][0] = 1\n",
    "            buckets[idx][1] = min(buckets[idx][1], num)\n",
    "            buckets[idx][2] = max(buckets[idx][2], num)\n",
    "\n",
    "        max_diff = 0\n",
    "        prev_max = mini\n",
    "        for idx in range(num_buckets):\n",
    "            if buckets[idx][0] == 0: continue\n",
    "            max_diff = max(max_diff, buckets[idx][1] - prev_max)\n",
    "            prev_max = buckets[idx][2]\n",
    "\n",
    "        return max_diff"
   ]
  },
  {
   "cell_type": "code",
   "execution_count": 16,
   "metadata": {},
   "outputs": [
    {
     "data": {
      "text/plain": [
       "3"
      ]
     },
     "execution_count": 16,
     "metadata": {},
     "output_type": "execute_result"
    }
   ],
   "source": [
    "Instance = Solution()\n",
    "Instance.maximumGap([3,6,9,1])"
   ]
  }
 ],
 "metadata": {
  "kernelspec": {
   "display_name": "Python [conda env:base] *",
   "language": "python",
   "name": "conda-base-py"
  },
  "language_info": {
   "codemirror_mode": {
    "name": "ipython",
    "version": 3
   },
   "file_extension": ".py",
   "mimetype": "text/x-python",
   "name": "python",
   "nbconvert_exporter": "python",
   "pygments_lexer": "ipython3",
   "version": "3.12.7"
  }
 },
 "nbformat": 4,
 "nbformat_minor": 4
}
