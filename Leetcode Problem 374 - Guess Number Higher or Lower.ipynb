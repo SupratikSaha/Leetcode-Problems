{
 "cells": [
  {
   "cell_type": "markdown",
   "metadata": {},
   "source": [
    "Problem Statement.\n",
    "\n",
    "We are playing the Guess Game. The game is as follows:\n",
    "I pick a number from 1 to n. You have to guess which number I picked.\n",
    "Every time you guess wrong, I will tell you whether the number I picked is higher or lower than your guess.\n",
    "You call a pre-defined API int guess(int num), which returns three possible results:\n",
    "\n",
    "    -1: Your guess is higher than the number I picked (i.e. num > pick).\n",
    "    1: Your guess is lower than the number I picked (i.e. num < pick).\n",
    "    0: your guess is equal to the number I picked (i.e. num == pick).\n",
    "\n",
    "Return the number that I picked.\n",
    "\n",
    " \n",
    "\n",
    "Example 1:\n",
    "\n",
    "Input: n = 10, pick = 6\n",
    "Output: 6\n",
    "\n",
    "Example 2:\n",
    "\n",
    "Input: n = 1, pick = 1\n",
    "Output: 1\n",
    "\n",
    "Example 3:\n",
    "\n",
    "Input: n = 2, pick = 1\n",
    "Output: 1\n",
    "\n",
    "\n",
    "Constraints:\n",
    "\n",
    "    1 <= n <= 231 - 1\n",
    "    1 <= pick <= n"
   ]
  },
  {
   "cell_type": "markdown",
   "metadata": {},
   "source": [
    "# Brute Force - O(N) runtime, O(1) space"
   ]
  },
  {
   "cell_type": "code",
   "execution_count": 10,
   "metadata": {},
   "outputs": [],
   "source": [
    "# The guess API is already defined for you.\n",
    "# @param num, your guess\n",
    "# @return -1 if num is higher than the picked number\n",
    "#          1 if num is lower than the picked number\n",
    "#          otherwise return 0\n",
    "# def guess(num: int) -> int:\n",
    "\n",
    "class Solution:\n",
    "    def guessNumber(self, n: int) -> int:\n",
    "        \n",
    "        for i in range(n):\n",
    "            if (guess(i) == 0):\n",
    "                return i\n",
    "            \n",
    "        return -1"
   ]
  },
  {
   "cell_type": "markdown",
   "metadata": {},
   "source": [
    "# Binary Search - O(Log N) runtime, O(1) space"
   ]
  },
  {
   "cell_type": "code",
   "execution_count": 3,
   "metadata": {},
   "outputs": [],
   "source": [
    "# The guess API is already defined for you.\n",
    "# @param num, your guess\n",
    "# @return -1 if num is higher than the picked number\n",
    "#          1 if num is lower than the picked number\n",
    "#          otherwise return 0\n",
    "# def guess(num: int) -> int:\n",
    "\n",
    "class Solution:\n",
    "    def guessNumber(self, n: int) -> int:\n",
    "        low, high = 1, n\n",
    "        \n",
    "        while low <= high:\n",
    "            mid1 = low + (high - low) // 3\n",
    "            mid2 = high - (high - low) // 3\n",
    "            res1 = guess(mid1)\n",
    "            res2 = guess(mid2)\n",
    "\n",
    "            if res1 == 0:\n",
    "                return mid1\n",
    "            elif res2 == 0:\n",
    "                return mid2\n",
    "            elif res1 == -1:\n",
    "                high = mid1 - 1\n",
    "            elif res2 == 1:\n",
    "                low = mid2 + 1\n",
    "            else:\n",
    "                low = mid1 + 1\n",
    "                high = mid2 - 1\n",
    "            \n",
    "        return -1"
   ]
  },
  {
   "cell_type": "code",
   "execution_count": null,
   "metadata": {},
   "outputs": [],
   "source": [
    "instance = Solution()\n",
    "instance.getMoneyAmount(10)"
   ]
  }
 ],
 "metadata": {
  "kernelspec": {
   "display_name": "Python [conda env:base] *",
   "language": "python",
   "name": "conda-base-py"
  },
  "language_info": {
   "codemirror_mode": {
    "name": "ipython",
    "version": 3
   },
   "file_extension": ".py",
   "mimetype": "text/x-python",
   "name": "python",
   "nbconvert_exporter": "python",
   "pygments_lexer": "ipython3",
   "version": "3.12.7"
  }
 },
 "nbformat": 4,
 "nbformat_minor": 4
}
