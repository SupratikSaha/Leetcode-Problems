{
 "cells": [
  {
   "cell_type": "markdown",
   "metadata": {},
   "source": [
    "Problem Statement.\n",
    "\n",
    "There is a binary tree rooted at 0 consisting of n nodes. The nodes are labeled from 0 to n - 1. You are given a 0-indexed integer array parents representing the tree, where parents[i] is the parent of node i. Since node 0 is the root, parents[0] == -1.\n",
    "\n",
    "Each node has a score. To find the score of a node, consider if the node and the edges connected to it were removed. The tree would become one or more non-empty subtrees. The size of a subtree is the number of the nodes in it. The score of the node is the product of the sizes of all those subtrees.\n",
    "\n",
    "Return the number of nodes that have the highest score.\n",
    "\n",
    " \n",
    "\n",
    "Example 1:\n",
    "example-1\n",
    "\n",
    "Input: parents = [-1,2,0,2,0]\n",
    "Output: 3\n",
    "Explanation:\n",
    "- The score of node 0 is: 3 * 1 = 3\n",
    "- The score of node 1 is: 4 = 4\n",
    "- The score of node 2 is: 1 * 1 * 2 = 2\n",
    "- The score of node 3 is: 4 = 4\n",
    "- The score of node 4 is: 4 = 4\n",
    "The highest score is 4, and three nodes (node 1, node 3, and node 4) have the highest score.\n",
    "\n",
    "Example 2:\n",
    "example-2\n",
    "\n",
    "Input: parents = [-1,2,0]\n",
    "Output: 2\n",
    "Explanation:\n",
    "- The score of node 0 is: 2 = 2\n",
    "- The score of node 1 is: 2 = 2\n",
    "- The score of node 2 is: 1 * 1 = 1\n",
    "The highest score is 2, and two nodes (node 0 and node 1) have the highest score.\n",
    "\n",
    " \n",
    "\n",
    "Constraints:\n",
    "\n",
    "    n == parents.length\n",
    "    2 <= n <= 105\n",
    "    parents[0] == -1\n",
    "    0 <= parents[i] <= n - 1 for i != 0\n",
    "    parents represents a valid binary tree."
   ]
  },
  {
   "cell_type": "markdown",
   "metadata": {},
   "source": [
    "# DFS - O(N) runtime, O(N) space"
   ]
  },
  {
   "cell_type": "code",
   "execution_count": 10,
   "metadata": {},
   "outputs": [],
   "source": [
    "from typing import List\n",
    "from collections import defaultdict\n",
    "\n",
    "class Solution:\n",
    "    def countHighestScoreNodes(self, parents: List[int]) -> int:\n",
    "        graph = defaultdict(list)\n",
    "\n",
    "        for node, parent in enumerate(parents):\n",
    "            graph[parent].append(node)\n",
    "\n",
    "        def count_nodes(node):\n",
    "            product, sum_val = 1, 0\n",
    "            for child in graph[node]:\n",
    "                num_descendants = count_nodes(child)\n",
    "                product *= num_descendants\n",
    "                sum_val += num_descendants\n",
    "\n",
    "            all_other_nodes = n - 1 - sum_val\n",
    "            product *= max(1, all_other_nodes)\n",
    "            score_dict[product] += 1\n",
    "\n",
    "            return sum_val + 1\n",
    "\n",
    "        n = len(parents)\n",
    "        score_dict = defaultdict(int)\n",
    "        count_nodes(0)\n",
    "\n",
    "        return score_dict[max(score_dict.keys())]"
   ]
  },
  {
   "cell_type": "code",
   "execution_count": 12,
   "metadata": {},
   "outputs": [
    {
     "data": {
      "text/plain": [
       "3"
      ]
     },
     "execution_count": 12,
     "metadata": {},
     "output_type": "execute_result"
    }
   ],
   "source": [
    "instance = Solution()\n",
    "instance.countHighestScoreNodes([-1,2,0,2,0])"
   ]
  }
 ],
 "metadata": {
  "kernelspec": {
   "display_name": "Python [conda env:base] *",
   "language": "python",
   "name": "conda-base-py"
  },
  "language_info": {
   "codemirror_mode": {
    "name": "ipython",
    "version": 3
   },
   "file_extension": ".py",
   "mimetype": "text/x-python",
   "name": "python",
   "nbconvert_exporter": "python",
   "pygments_lexer": "ipython3",
   "version": "3.12.7"
  }
 },
 "nbformat": 4,
 "nbformat_minor": 4
}
