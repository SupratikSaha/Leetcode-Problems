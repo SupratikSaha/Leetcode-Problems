{
 "cells": [
  {
   "cell_type": "markdown",
   "metadata": {},
   "source": [
    "Equations are given in the format A / B = k, where A and B are variables represented as strings, and k is a real number (floating point number). Given some queries, return the answers. If the answer does not exist, return -1.0.\n",
    "\n",
    "Example:\n",
    "Given a / b = 2.0, b / c = 3.0.\n",
    "queries are: a / c = ?, b / a = ?, a / e = ?, a / a = ?, x / x = ? .\n",
    "return [6.0, 0.5, -1.0, 1.0, -1.0 ].\n",
    "\n",
    "The input is: vector<pair<string, string>> equations, vector<double>& values, vector<pair<string, string>> queries , where equations.size() == values.size(), and the values are positive. This represents the equations. Return vector<double>.\n",
    "\n",
    "According to the example above:\n",
    "\n",
    "equations = [ [\"a\", \"b\"], [\"b\", \"c\"] ],\n",
    "values = [2.0, 3.0],\n",
    "queries = [ [\"a\", \"c\"], [\"b\", \"a\"], [\"a\", \"e\"], [\"a\", \"a\"], [\"x\", \"x\"] ]. \n",
    "\n",
    " \n",
    "\n",
    "The input is always valid. You may assume that evaluating the queries will result in no division by zero and there is no contradiction.\n"
   ]
  },
  {
   "cell_type": "markdown",
   "metadata": {},
   "source": [
    "# BFS without caching: O(m(q+n)) ~ O(m * n^2) runtime, O(q) space if there are m queries, q equations and n distinct variables"
   ]
  },
  {
   "cell_type": "code",
   "execution_count": 8,
   "metadata": {},
   "outputs": [],
   "source": [
    "import collections\n",
    "\n",
    "from typing import List\n",
    "from collections import deque\n",
    "\n",
    "class Solution:\n",
    "    def calcEquation(self, equations: List[List[str]], values: List[float], queries: List[List[str]]) -> List[float]:\n",
    "        graph = {}\n",
    "        \n",
    "        def build_graph(equations, values):\n",
    "            def add_edge(f, t, value):\n",
    "                if f in graph:\n",
    "                    graph[f].append((t, value))\n",
    "                else:\n",
    "                    graph[f] = [(t, value)]\n",
    "            \n",
    "            for vertices, value in zip(equations, values):\n",
    "                f, t = vertices\n",
    "                add_edge(f, t, value)\n",
    "                add_edge(t, f, 1/value)\n",
    "        \n",
    "        def find_path(query):\n",
    "            b, e = query\n",
    "            \n",
    "            if b not in graph or e not in graph:\n",
    "                return -1.0\n",
    "                \n",
    "            q = deque([(b, 1.0)])\n",
    "            visited = set()\n",
    "            \n",
    "            while q:\n",
    "                front, cur_product = q.popleft()\n",
    "                if front == e:\n",
    "                    return cur_product\n",
    "                visited.add(front)\n",
    "                for neighbor, value in graph[front]:\n",
    "                    if neighbor not in visited:\n",
    "                        q.append((neighbor, cur_product*value))\n",
    "            \n",
    "            return -1.0\n",
    "        \n",
    "        build_graph(equations, values)\n",
    "        return [find_path(q) for q in queries]"
   ]
  },
  {
   "cell_type": "markdown",
   "metadata": {},
   "source": [
    "# BFS with caching - O(q+n) ~ O(n^2) runtime for all the m queries, O(q) space"
   ]
  },
  {
   "cell_type": "code",
   "execution_count": 10,
   "metadata": {},
   "outputs": [],
   "source": [
    "import collections\n",
    "\n",
    "from typing import List\n",
    "from collections import defaultdict, deque\n",
    "\n",
    "class Solution:\n",
    "    def calcEquation(self, equations: List[List[str]], values: List[float], queries: List[List[str]]) -> List[float]:\n",
    "        graph = defaultdict(dict)\n",
    "        for ([x,y],value) in zip(equations, values):\n",
    "            graph[x][y] = value\n",
    "            graph[y][x] = 1/value\n",
    "        \n",
    "        def find_prod(s,e):\n",
    "            if s not in graph or e not in graph:\n",
    "                return -1.0\n",
    "            if s==e: return 1.0\n",
    "            q = deque([(s, 1.0)])\n",
    "            visited = {s}\n",
    "            while q:\n",
    "                n, curr = q.popleft()\n",
    "                for child,value in graph[n].items():\n",
    "                    if child in visited:\n",
    "                        continue\n",
    "                    nc = curr*value\n",
    "                    if child == e:\n",
    "                        return nc\n",
    "                    graph[s][child] = nc\n",
    "                    graph[child][s] = 1/nc\n",
    "                    visited.add(child)\n",
    "                    q.append((child, nc))\n",
    "            return -1.0\n",
    "        \n",
    "        return [find_prod(s,e) for [s,e] in queries]"
   ]
  },
  {
   "cell_type": "markdown",
   "metadata": {},
   "source": [
    "# DFS - O(M * N) runtime, O(N) space, where M is the number of queries and N is the number of equations"
   ]
  },
  {
   "cell_type": "code",
   "execution_count": 1,
   "metadata": {},
   "outputs": [],
   "source": [
    "from typing import List\n",
    "from collections import defaultdict\n",
    "\n",
    "class Solution:\n",
    "    def calcEquation(self, equations: List[List[str]], values: List[float], queries: List[List[str]]) -> List[float]:\n",
    "\n",
    "        graph = defaultdict(defaultdict)\n",
    "\n",
    "        def backtrack_evaluate(curr_node, target_node, acc_product, visited):\n",
    "            visited.add(curr_node)\n",
    "            ret = -1.0\n",
    "            neighbors = graph[curr_node]\n",
    "            if target_node in neighbors:\n",
    "                ret = acc_product * neighbors[target_node]\n",
    "            else:\n",
    "                for neighbor, value in neighbors.items():\n",
    "                    if neighbor in visited:\n",
    "                        continue\n",
    "                    ret = backtrack_evaluate(\n",
    "                        neighbor, target_node, acc_product * value, visited)\n",
    "                    if ret != -1.0:\n",
    "                        break\n",
    "            visited.remove(curr_node)\n",
    "            return ret\n",
    "\n",
    "        # Step 1). build the graph from the equations\n",
    "        for (dividend, divisor), value in zip(equations, values):\n",
    "            # add nodes and two edges into the graph\n",
    "            graph[dividend][divisor] = value\n",
    "            graph[divisor][dividend] = 1 / value\n",
    "\n",
    "        # Step 2). Evaluate each query via backtracking (DFS)\n",
    "        #  by verifying if there exists a path from dividend to divisor\n",
    "        results = []\n",
    "        for dividend, divisor in queries:\n",
    "            if dividend not in graph or divisor not in graph:\n",
    "                # case 1): either node does not exist\n",
    "                ret = -1.0\n",
    "            elif dividend == divisor:\n",
    "                # case 2): origin and destination are the same node\n",
    "                ret = 1.0\n",
    "            else:\n",
    "                visited = set()\n",
    "                ret = backtrack_evaluate(dividend, divisor, 1, visited)\n",
    "            results.append(ret)\n",
    "\n",
    "        return results"
   ]
  },
  {
   "cell_type": "markdown",
   "metadata": {},
   "source": [
    "# Union Find - O( (M + N) * Log N) runtime, O(N) space, where M is the number of queries and N is the number of equations"
   ]
  },
  {
   "cell_type": "code",
   "execution_count": 6,
   "metadata": {},
   "outputs": [],
   "source": [
    "from typing import List\n",
    "\n",
    "class Solution:\n",
    "    def calcEquation(self, equations: List[List[str]], values: List[float], queries: List[List[str]]) -> List[float]:\n",
    "        gid_weight = {}\n",
    "\n",
    "        def find(node_id):\n",
    "            if node_id not in gid_weight:\n",
    "                gid_weight[node_id] = (node_id, 1)\n",
    "            group_id, node_weight = gid_weight[node_id]\n",
    "            if group_id != node_id:\n",
    "                new_group_id, group_weight = find(group_id)\n",
    "                gid_weight[node_id] = (new_group_id, group_weight * node_weight)\n",
    "            return gid_weight[node_id]\n",
    "\n",
    "        def union(dividend, divisor, value):\n",
    "            dividend_gid, dividend_weight = find(dividend)\n",
    "            divisor_gid, divisor_weight = find(divisor)\n",
    "\n",
    "            if dividend_gid != divisor_gid:\n",
    "                gid_weight[dividend_gid] = (divisor_gid, divisor_weight * value / dividend_weight)\n",
    "\n",
    "        for (dividend, divisor), value in zip(equations, values):\n",
    "            union(dividend, divisor, value)\n",
    "\n",
    "        res = []\n",
    "        for dividend, divisor in queries:\n",
    "            if dividend not in gid_weight or divisor not in gid_weight:\n",
    "                res.append(-1.0)\n",
    "            else:\n",
    "                dividend_group, dividend_weight = find(dividend)\n",
    "                divisor_group, divisor_weight = find(divisor)\n",
    "\n",
    "                if dividend_group != divisor_group:\n",
    "                    res.append(-1.0)\n",
    "                else:\n",
    "                    res.append(dividend_weight / divisor_weight)\n",
    "\n",
    "        return res  "
   ]
  },
  {
   "cell_type": "code",
   "execution_count": 8,
   "metadata": {},
   "outputs": [
    {
     "data": {
      "text/plain": [
       "[6.0, 0.5, -1.0, 1.0, -1.0]"
      ]
     },
     "execution_count": 8,
     "metadata": {},
     "output_type": "execute_result"
    }
   ],
   "source": [
    "instance = Solution()\n",
    "instance.calcEquation([[\"a\",\"b\"],[\"b\",\"c\"]],\n",
    "[2.0,3.0],\n",
    "[[\"a\",\"c\"],[\"b\",\"a\"],[\"a\",\"e\"],[\"a\",\"a\"],[\"x\",\"x\"]])"
   ]
  }
 ],
 "metadata": {
  "kernelspec": {
   "display_name": "Python [conda env:base] *",
   "language": "python",
   "name": "conda-base-py"
  },
  "language_info": {
   "codemirror_mode": {
    "name": "ipython",
    "version": 3
   },
   "file_extension": ".py",
   "mimetype": "text/x-python",
   "name": "python",
   "nbconvert_exporter": "python",
   "pygments_lexer": "ipython3",
   "version": "3.12.7"
  }
 },
 "nbformat": 4,
 "nbformat_minor": 4
}
