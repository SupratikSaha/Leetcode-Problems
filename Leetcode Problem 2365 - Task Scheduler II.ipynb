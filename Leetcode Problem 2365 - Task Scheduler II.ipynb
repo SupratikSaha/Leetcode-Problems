{
 "cells": [
  {
   "cell_type": "markdown",
   "metadata": {},
   "source": [
    "Problem Statement.\n",
    "\n",
    "You are given a 0-indexed array of positive integers tasks, representing tasks that need to be completed in order, where tasks[i] represents the type of the ith task.\n",
    "\n",
    "You are also given a positive integer space, which represents the minimum number of days that must pass after the completion of a task before another task of the same type can be performed.\n",
    "\n",
    "Each day, until all tasks have been completed, you must either:\n",
    "\n",
    "    Complete the next task from tasks, or\n",
    "    Take a break.\n",
    "\n",
    "Return the minimum number of days needed to complete all tasks.\n",
    "\n",
    " \n",
    "\n",
    "Example 1:\n",
    "\n",
    "Input: tasks = [1,2,1,2,3,1], space = 3\n",
    "Output: 9\n",
    "Explanation:\n",
    "One way to complete all tasks in 9 days is as follows:\n",
    "Day 1: Complete the 0th task.\n",
    "Day 2: Complete the 1st task.\n",
    "Day 3: Take a break.\n",
    "Day 4: Take a break.\n",
    "Day 5: Complete the 2nd task.\n",
    "Day 6: Complete the 3rd task.\n",
    "Day 7: Take a break.\n",
    "Day 8: Complete the 4th task.\n",
    "Day 9: Complete the 5th task.\n",
    "It can be shown that the tasks cannot be completed in less than 9 days.\n",
    "\n",
    "Example 2:\n",
    "\n",
    "Input: tasks = [5,8,8,5], space = 2\n",
    "Output: 6\n",
    "Explanation:\n",
    "One way to complete all tasks in 6 days is as follows:\n",
    "Day 1: Complete the 0th task.\n",
    "Day 2: Complete the 1st task.\n",
    "Day 3: Take a break.\n",
    "Day 4: Take a break.\n",
    "Day 5: Complete the 2nd task.\n",
    "Day 6: Complete the 3rd task.\n",
    "It can be shown that the tasks cannot be completed in less than 6 days.\n",
    "\n",
    " \n",
    "\n",
    "Constraints:\n",
    "\n",
    "    1 <= tasks.length <= 105\n",
    "    1 <= tasks[i] <= 109\n",
    "    1 <= space <= tasks.length"
   ]
  },
  {
   "cell_type": "markdown",
   "metadata": {},
   "source": [
    "# Hash Map - O(N) runtime, O(N) space"
   ]
  },
  {
   "cell_type": "code",
   "execution_count": 3,
   "metadata": {},
   "outputs": [],
   "source": [
    "from typing import List\n",
    "\n",
    "class Solution:\n",
    "    def taskSchedulerII(self, tasks: List[int], space: int) -> int:\n",
    "        task_dict = {}\n",
    "        time = 0\n",
    "        for i, t in enumerate(tasks):\n",
    "            if t in task_dict and task_dict[t] + space > time: \n",
    "                time = task_dict[t] + space\n",
    "            time += 1\n",
    "            task_dict[t] = time\n",
    "\n",
    "        return time"
   ]
  },
  {
   "cell_type": "code",
   "execution_count": 5,
   "metadata": {},
   "outputs": [
    {
     "data": {
      "text/plain": [
       "9"
      ]
     },
     "execution_count": 5,
     "metadata": {},
     "output_type": "execute_result"
    }
   ],
   "source": [
    "instance = Solution()\n",
    "instance.taskSchedulerII([1,2,1,2,3,1], 3)"
   ]
  }
 ],
 "metadata": {
  "kernelspec": {
   "display_name": "Python [conda env:base] *",
   "language": "python",
   "name": "conda-base-py"
  },
  "language_info": {
   "codemirror_mode": {
    "name": "ipython",
    "version": 3
   },
   "file_extension": ".py",
   "mimetype": "text/x-python",
   "name": "python",
   "nbconvert_exporter": "python",
   "pygments_lexer": "ipython3",
   "version": "3.12.7"
  }
 },
 "nbformat": 4,
 "nbformat_minor": 4
}
