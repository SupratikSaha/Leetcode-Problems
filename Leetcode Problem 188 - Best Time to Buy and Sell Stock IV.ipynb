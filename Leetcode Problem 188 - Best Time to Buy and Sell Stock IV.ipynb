{
 "cells": [
  {
   "cell_type": "markdown",
   "metadata": {},
   "source": [
    "Problem Statement. <br/>\n",
    "\n",
    "You are given an integer array prices where prices[i] is the price of a given stock on the ith day, and an integer k.\n",
    "\n",
    "Find the maximum profit you can achieve. You may complete at most k transactions: i.e. you may buy at most k times and sell at most k times.\n",
    "\n",
    "Note: You may not engage in multiple transactions simultaneously (i.e., you must sell the stock before you buy again).\n",
    "\n",
    " \n",
    "\n",
    "Example 1:\n",
    "\n",
    "Input: k = 2, prices = [2,4,1]\n",
    "Output: 2\n",
    "Explanation: Buy on day 1 (price = 2) and sell on day 2 (price = 4), profit = 4-2 = 2.\n",
    "\n",
    "Example 2:\n",
    "\n",
    "Input: k = 2, prices = [3,2,6,5,0,3]\n",
    "Output: 7\n",
    "Explanation: Buy on day 2 (price = 2) and sell on day 3 (price = 6), profit = 6-2 = 4. Then buy on day 5 (price = 0) and sell on day 6 (price = 3), profit = 3-0 = 3.\n",
    "\n",
    " \n",
    "\n",
    "Constraints:\n",
    "\n",
    "    1 <= k <= 100\n",
    "    1 <= prices.length <= 1000\n",
    "    0 <= prices[i] <= 1000"
   ]
  },
  {
   "cell_type": "markdown",
   "metadata": {},
   "source": [
    "# Merging - O(N * (N - K)) runtime, O(N) space"
   ]
  },
  {
   "cell_type": "code",
   "execution_count": 5,
   "metadata": {},
   "outputs": [],
   "source": [
    "from typing import List\n",
    "\n",
    "class Solution:\n",
    "    def maxProfit(self, k: int, prices: List[int]) -> int:\n",
    "        n, start, end = len(prices), 0, 0\n",
    "        buys = []\n",
    "\n",
    "        for i in range(1, n):\n",
    "            if prices[i-1] <= prices[i]:\n",
    "                end = i\n",
    "            else:\n",
    "                if end > start:\n",
    "                    buys.append([start, end])\n",
    "                start = i\n",
    "        \n",
    "        if end > start:\n",
    "            buys.append([start, end])\n",
    "\n",
    "        while len(buys) > k:\n",
    "            delete_index = 0\n",
    "            min_delete_loss = inf\n",
    "            for i in range(len(buys)):\n",
    "                profit_loss = prices[buys[i][1]] - prices[buys[i][0]]\n",
    "                if profit_loss < min_delete_loss:\n",
    "                    min_delete_loss = profit_loss\n",
    "                    delete_index = i\n",
    "\n",
    "            merge_index = 0\n",
    "            min_merge_loss = inf\n",
    "            for i in range(1, len(buys)):\n",
    "                profit_loss = prices[buys[i-1][1]] - prices[buys[i][0]]\n",
    "                if profit_loss < min_merge_loss:\n",
    "                    min_merge_loss = profit_loss\n",
    "                    merge_index = i\n",
    "\n",
    "            if min_delete_loss <= min_merge_loss:\n",
    "                buys.pop(delete_index)\n",
    "            else:\n",
    "                buys[merge_index - 1][1] = buys[merge_index][1]\n",
    "                buys.pop(merge_index)\n",
    "\n",
    "        return sum(prices[j] - prices[i] for i, j in buys)"
   ]
  },
  {
   "cell_type": "code",
   "execution_count": 9,
   "metadata": {},
   "outputs": [
    {
     "data": {
      "text/plain": [
       "7"
      ]
     },
     "execution_count": 9,
     "metadata": {},
     "output_type": "execute_result"
    }
   ],
   "source": [
    "instance = Solution()\n",
    "instance.maxProfit(2,  [3,2,6,5,0,3])"
   ]
  }
 ],
 "metadata": {
  "kernelspec": {
   "display_name": "Python [conda env:base] *",
   "language": "python",
   "name": "conda-base-py"
  },
  "language_info": {
   "codemirror_mode": {
    "name": "ipython",
    "version": 3
   },
   "file_extension": ".py",
   "mimetype": "text/x-python",
   "name": "python",
   "nbconvert_exporter": "python",
   "pygments_lexer": "ipython3",
   "version": "3.12.7"
  }
 },
 "nbformat": 4,
 "nbformat_minor": 4
}
