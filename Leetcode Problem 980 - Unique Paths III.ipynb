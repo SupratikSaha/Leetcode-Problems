{
 "cells": [
  {
   "cell_type": "markdown",
   "metadata": {},
   "source": [
    "Problem Statement.\n",
    "\n",
    "You are given an m x n integer array grid where grid[i][j] could be:\n",
    "\n",
    "    1 representing the starting square. There is exactly one starting square.\n",
    "    2 representing the ending square. There is exactly one ending square.\n",
    "    0 representing empty squares we can walk over.\n",
    "    -1 representing obstacles that we cannot walk over.\n",
    "\n",
    "Return the number of 4-directional walks from the starting square to the ending square, that walk over every non-obstacle square exactly once.\n",
    "\n",
    "Example 1:\n",
    "\n",
    "Input: grid = [[1,0,0,0],[0,0,0,0],[0,0,2,-1]]\n",
    "Output: 2\n",
    "Explanation: We have the following two paths: \n",
    "1. (0,0),(0,1),(0,2),(0,3),(1,3),(1,2),(1,1),(1,0),(2,0),(2,1),(2,2)\n",
    "2. (0,0),(1,0),(2,0),(2,1),(1,1),(0,1),(0,2),(0,3),(1,3),(1,2),(2,2)\n",
    "\n",
    "Example 2:\n",
    "\n",
    "Input: grid = [[1,0,0,0],[0,0,0,0],[0,0,0,2]]\n",
    "Output: 4\n",
    "Explanation: We have the following four paths: \n",
    "1. (0,0),(0,1),(0,2),(0,3),(1,3),(1,2),(1,1),(1,0),(2,0),(2,1),(2,2),(2,3)\n",
    "2. (0,0),(0,1),(1,1),(1,0),(2,0),(2,1),(2,2),(1,2),(0,2),(0,3),(1,3),(2,3)\n",
    "3. (0,0),(1,0),(2,0),(2,1),(2,2),(1,2),(1,1),(0,1),(0,2),(0,3),(1,3),(2,3)\n",
    "4. (0,0),(1,0),(2,0),(2,1),(1,1),(0,1),(0,2),(0,3),(1,3),(1,2),(2,2),(2,3)\n",
    "\n",
    "Example 3:\n",
    "\n",
    "Input: grid = [[0,1],[2,0]]\n",
    "Output: 0\n",
    "Explanation: There is no path that walks over every empty square exactly once.\n",
    "Note that the starting and ending square can be anywhere in the grid.\n",
    "\n",
    " \n",
    "Constraints:\n",
    "\n",
    "    m == grid.length\n",
    "    n == grid[i].length\n",
    "    1 <= m, n <= 20\n",
    "    1 <= m * n <= 20\n",
    "    -1 <= grid[i][j] <= 2\n",
    "    There is exactly one starting cell and one ending cell."
   ]
  },
  {
   "cell_type": "markdown",
   "metadata": {},
   "source": [
    "# Backtracking - O(3 ^ N) runtime, O(N) space"
   ]
  },
  {
   "cell_type": "code",
   "execution_count": 5,
   "metadata": {},
   "outputs": [],
   "source": [
    "from typing import List\n",
    "\n",
    "class Solution:\n",
    "    def uniquePathsIII(self, grid: List[List[int]]) -> int:\n",
    "        m, n = len(grid), len(grid[0])\n",
    "        rem = 0\n",
    "        start = None\n",
    "        for i in range(m):\n",
    "            for j in range(n):\n",
    "                if grid[i][j] == 1: start = (i, j)\n",
    "                elif grid[i][j] == 0: rem += 1\n",
    "\n",
    "        def dfs(pos, rem):\n",
    "            r, c = pos\n",
    "            for r1, c1 in [(r-1, c), (r+1, c), (r, c-1), (r, c+1)]:\n",
    "                if 0 <= r1 < m and 0 <= c1 < n and (r1, c1) != start and grid[r1][c1] != -4:\n",
    "                    if grid[r1][c1] == 2 and rem == 0:\n",
    "                        self.res += 1\n",
    "                        return\n",
    "                    elif grid[r1][c1] == 0:\n",
    "                        grid[r1][c1] = -4\n",
    "                        dfs((r1,c1), rem-1)\n",
    "                        grid[r1][c1] = 0\n",
    "\n",
    "        self.res = 0\n",
    "        dfs(start, rem)\n",
    "        return self.res\n",
    "        "
   ]
  },
  {
   "cell_type": "code",
   "execution_count": 7,
   "metadata": {},
   "outputs": [
    {
     "data": {
      "text/plain": [
       "4"
      ]
     },
     "execution_count": 7,
     "metadata": {},
     "output_type": "execute_result"
    }
   ],
   "source": [
    "instance = Solution()\n",
    "instance.uniquePathsIII([[1,0,0,0],[0,0,0,0],[0,0,0,2]])"
   ]
  }
 ],
 "metadata": {
  "kernelspec": {
   "display_name": "Python [conda env:base] *",
   "language": "python",
   "name": "conda-base-py"
  },
  "language_info": {
   "codemirror_mode": {
    "name": "ipython",
    "version": 3
   },
   "file_extension": ".py",
   "mimetype": "text/x-python",
   "name": "python",
   "nbconvert_exporter": "python",
   "pygments_lexer": "ipython3",
   "version": "3.12.7"
  }
 },
 "nbformat": 4,
 "nbformat_minor": 4
}
