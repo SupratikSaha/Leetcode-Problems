{
 "cells": [
  {
   "cell_type": "markdown",
   "metadata": {},
   "source": [
    "    Problem Statement.\n",
    "    \n",
    "    Table: Delivery\n",
    "    \n",
    "    +-----------------------------+---------+\n",
    "    | Column Name                 | Type    |\n",
    "    +-----------------------------+---------+\n",
    "    | delivery_id                 | int     |\n",
    "    | customer_id                 | int     |\n",
    "    | order_date                  | date    |\n",
    "    | customer_pref_delivery_date | date    |\n",
    "    +-----------------------------+---------+\n",
    "    delivery_id is the column of unique values of this table.\n",
    "    The table holds information about food delivery to customers that make orders at some date and specify a preferred delivery date (on the same order date or after it).\n",
    "    \n",
    "     \n",
    "    \n",
    "    If the customer's preferred delivery date is the same as the order date, then the order is called immediate; otherwise, it is called scheduled.\n",
    "    \n",
    "    The first order of a customer is the order with the earliest order date that the customer made. It is guaranteed that a customer has precisely one first order.\n",
    "    \n",
    "    Write a solution to find the percentage of immediate orders in the first orders of all customers, rounded to 2 decimal places.\n",
    "    \n",
    "    The result format is in the following example.\n",
    "    \n",
    "     \n",
    "    \n",
    "    Example 1:\n",
    "    \n",
    "    Input: \n",
    "    Delivery table:\n",
    "    +-------------+-------------+------------+-----------------------------+\n",
    "    | delivery_id | customer_id | order_date | customer_pref_delivery_date |\n",
    "    +-------------+-------------+------------+-----------------------------+\n",
    "    | 1           | 1           | 2019-08-01 | 2019-08-02                  |\n",
    "    | 2           | 2           | 2019-08-02 | 2019-08-02                  |\n",
    "    | 3           | 1           | 2019-08-11 | 2019-08-12                  |\n",
    "    | 4           | 3           | 2019-08-24 | 2019-08-24                  |\n",
    "    | 5           | 3           | 2019-08-21 | 2019-08-22                  |\n",
    "    | 6           | 2           | 2019-08-11 | 2019-08-13                  |\n",
    "    | 7           | 4           | 2019-08-09 | 2019-08-09                  |\n",
    "    +-------------+-------------+------------+-----------------------------+\n",
    "    Output: \n",
    "    +----------------------+\n",
    "    | immediate_percentage |\n",
    "    +----------------------+\n",
    "    | 50.00                |\n",
    "    +----------------------+\n",
    "    Explanation: \n",
    "    The customer id 1 has a first order with delivery id 1 and it is scheduled.\n",
    "    The customer id 2 has a first order with delivery id 2 and it is immediate.\n",
    "    The customer id 3 has a first order with delivery id 5 and it is scheduled.\n",
    "    The customer id 4 has a first order with delivery id 7 and it is immediate.\n",
    "    Hence, half the customers have immediate first orders."
   ]
  },
  {
   "cell_type": "markdown",
   "metadata": {},
   "source": [
    "# Sub Query"
   ]
  },
  {
   "cell_type": "code",
   "execution_count": null,
   "metadata": {},
   "outputs": [],
   "source": [
    "SELECT     \n",
    "    ROUND(AVG(IF( order_date =  customer_pref_delivery_date,1,0))*100,2) AS immediate_percentage\n",
    "FROM Delivery \n",
    "WHERE (customer_id, order_date) IN\n",
    "(\n",
    "    SELECT \n",
    "        customer_id, \n",
    "        MIN(order_date) AS first_order_date\n",
    "    FROM Delivery\n",
    "    GROUP BY customer_id"
   ]
  },
  {
   "cell_type": "markdown",
   "metadata": {},
   "source": [
    "# RANK"
   ]
  },
  {
   "cell_type": "code",
   "execution_count": null,
   "metadata": {},
   "outputs": [],
   "source": [
    "WITH ranked_orders AS (\n",
    "    SELECT\n",
    "        *,\n",
    "        RANK() OVER (PARTITION BY customer_id ORDER BY order_date) AS rnk\n",
    "    FROM Delivery\n",
    ")\n",
    "SELECT\n",
    "    ROUND(SUM(CASE WHEN order_date = customer_pref_delivery_date THEN 1 ELSE 0 END)/COUNT(*) * 100, 2) AS immediate_percentage \n",
    "FROM ranked_orders\n",
    "WHERE rnk = 1"
   ]
  }
 ],
 "metadata": {
  "kernelspec": {
   "display_name": "Python [conda env:base] *",
   "language": "python",
   "name": "conda-base-py"
  },
  "language_info": {
   "codemirror_mode": {
    "name": "ipython",
    "version": 3
   },
   "file_extension": ".py",
   "mimetype": "text/x-python",
   "name": "python",
   "nbconvert_exporter": "python",
   "pygments_lexer": "ipython3",
   "version": "3.12.7"
  }
 },
 "nbformat": 4,
 "nbformat_minor": 4
}
