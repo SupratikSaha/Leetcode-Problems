{
 "cells": [
  {
   "cell_type": "markdown",
   "metadata": {},
   "source": [
    "Problem Statement.\n",
    "\n",
    "Given a parentheses string s containing only the characters '(' and ')'. A parentheses string is balanced if:\n",
    "\n",
    "    Any left parenthesis '(' must have a corresponding two consecutive right parenthesis '))'.\n",
    "    Left parenthesis '(' must go before the corresponding two consecutive right parenthesis '))'.\n",
    "\n",
    "In other words, we treat '(' as openning parenthesis and '))' as closing parenthesis.\n",
    "\n",
    "For example, \"())\", \"())(())))\" and \"(())())))\" are balanced, \")()\", \"()))\" and \"(()))\" are not balanced.\n",
    "\n",
    "You can insert the characters '(' and ')' at any position of the string to balance it if needed.\n",
    "\n",
    "Return the minimum number of insertions needed to make s balanced.\n",
    "\n",
    " \n",
    "\n",
    "Example 1:\n",
    "\n",
    "Input: s = \"(()))\"\n",
    "Output: 1\n",
    "Explanation: The second '(' has two matching '))', but the first '(' has only ')' matching. We need to to add one more ')' at the end of the string to be \"(())))\" which is balanced.\n",
    "\n",
    "Example 2:\n",
    "\n",
    "Input: s = \"())\"\n",
    "Output: 0\n",
    "Explanation: The string is already balanced.\n",
    "\n",
    "Example 3:\n",
    "\n",
    "Input: s = \"))())(\"\n",
    "Output: 3\n",
    "Explanation: Add '(' to match the first '))', Add '))' to match the last '('.\n",
    "\n",
    "Example 4:\n",
    "\n",
    "Input: s = \"((((((\"\n",
    "Output: 12\n",
    "Explanation: Add 12 ')' to balance the string.\n",
    "\n",
    "Example 5:\n",
    "\n",
    "Input: s = \")))))))\"\n",
    "Output: 5\n",
    "Explanation: Add 4 '(' at the beginning of the string and one ')' at the end. The string becomes \"(((())))))))\".\n",
    "\n",
    " \n",
    "\n",
    "Constraints:\n",
    "\n",
    "    1 <= s.length <= 10^5\n",
    "    s consists of '(' and ')' only."
   ]
  },
  {
   "cell_type": "markdown",
   "metadata": {},
   "source": [
    "# One Pass - O(N) runtime, O(1) space"
   ]
  },
  {
   "cell_type": "code",
   "execution_count": 1,
   "metadata": {},
   "outputs": [],
   "source": [
    "class Solution:\n",
    "    def minInsertions(self, s):\n",
    "        res = right = 0\n",
    "        for c in s:\n",
    "            if c == '(':\n",
    "                if right % 2:\n",
    "                    right -= 1\n",
    "                    res += 1\n",
    "                right += 2\n",
    "            if c == ')':\n",
    "                right -= 1\n",
    "                if right < 0:\n",
    "                    right += 2\n",
    "                    res += 1\n",
    "        return right + res"
   ]
  },
  {
   "cell_type": "markdown",
   "metadata": {},
   "source": [
    "# Simpler One Pass - O(N) runtime, O(1) space"
   ]
  },
  {
   "cell_type": "code",
   "execution_count": 3,
   "metadata": {},
   "outputs": [],
   "source": [
    "class Solution:\n",
    "    def minInsertions(self, s: str) -> int:\n",
    "        leftbrackets = insertions = 0\n",
    "        i, n = 0, len(s)\n",
    "\n",
    "        while i < n:\n",
    "            if s[i] == '(':\n",
    "                leftbrackets += 1\n",
    "            elif s[i] == ')':\n",
    "                if i == n-1 or s[i+1] != ')': insertions += 1\n",
    "                else: i += 1\n",
    "                    \n",
    "                if not leftbrackets: insertions += 1\n",
    "                else: leftbrackets -= 1\n",
    "                    \n",
    "            i += 1\n",
    "        \n",
    "        return leftbrackets * 2 + insertions"
   ]
  },
  {
   "cell_type": "code",
   "execution_count": 4,
   "metadata": {},
   "outputs": [
    {
     "data": {
      "text/plain": [
       "3"
      ]
     },
     "execution_count": 4,
     "metadata": {},
     "output_type": "execute_result"
    }
   ],
   "source": [
    "instance = Solution()\n",
    "instance.minInsertions(\"))())(\")"
   ]
  }
 ],
 "metadata": {
  "kernelspec": {
   "display_name": "Python 3",
   "language": "python",
   "name": "python3"
  },
  "language_info": {
   "codemirror_mode": {
    "name": "ipython",
    "version": 3
   },
   "file_extension": ".py",
   "mimetype": "text/x-python",
   "name": "python",
   "nbconvert_exporter": "python",
   "pygments_lexer": "ipython3",
   "version": "3.7.3"
  }
 },
 "nbformat": 4,
 "nbformat_minor": 2
}
