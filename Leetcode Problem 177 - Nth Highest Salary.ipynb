{
 "cells": [
  {
   "cell_type": "markdown",
   "metadata": {},
   "source": [
    "Problem Statement.\n",
    "\n",
    "Table: Employee\n",
    "\n",
    "<br/> +-------------+------+\n",
    "<br/> | Column Name | Type |\n",
    "<br/> +-------------+------+\n",
    "<br/> | id          | int  |\n",
    "<br/> | salary      | int  |\n",
    "<br/> +-------------+------+\n",
    "<br/> id is the primary key (column with unique values) for this table.\n",
    "Each row of this table contains information about the salary of an employee.\n",
    "\n",
    " \n",
    "\n",
    "Write a solution to find the nth highest distinct salary from the Employee table. If there are less than n distinct salaries, return null.\n",
    "\n",
    "The result format is in the following example.\n",
    "\n",
    " \n",
    "\n",
    "Example 1:\n",
    "\n",
    "Input: \n",
    "Employee table:\n",
    "<br/> +----+--------+\n",
    "<br/> | id | salary |\n",
    "<br/> +----+--------+\n",
    "<br/> | 1  | 100    |\n",
    "<br/> | 2  | 200    |\n",
    "<br/> | 3  | 300    |\n",
    "<br/> +----+--------+\n",
    "<br/> n = 2\n",
    "Output: \n",
    "<br/> +------------------------+\n",
    "<br/> | getNthHighestSalary(2) |\n",
    "<br/> +------------------------+\n",
    "<br/> | 200                    |\n",
    "<br/> +------------------------+\n",
    "\n",
    "Example 2:\n",
    "\n",
    "Input: \n",
    "Employee table:\n",
    "<br/> +----+--------+\n",
    "<br/> | id | salary |\n",
    "<br/> +----+--------+\n",
    "<br/> | 1  | 100    |\n",
    "<br/> +----+--------+\n",
    "<br/> n = 2\n",
    "Output: \n",
    "<br/> +------------------------+\n",
    "<br/> | getNthHighestSalary(2) |\n",
    "<br/> +------------------------+\n",
    "<br/> | null                   |\n",
    "<br/> +------------------------+\n",
    "\n"
   ]
  },
  {
   "cell_type": "markdown",
   "metadata": {},
   "source": [
    "# Limit and Offset"
   ]
  },
  {
   "cell_type": "code",
   "execution_count": null,
   "metadata": {},
   "outputs": [],
   "source": [
    "SELECT\n",
    "    IFNULL(\n",
    "      (SELECT DISTINCT Salary\n",
    "       FROM Employee\n",
    "       ORDER BY Salary DESC\n",
    "        LIMIT 1 OFFSET 1),\n",
    "    NULL) AS SecondHighestSalary"
   ]
  }
 ],
 "metadata": {
  "kernelspec": {
   "display_name": "Python [conda env:base] *",
   "language": "python",
   "name": "conda-base-py"
  },
  "language_info": {
   "codemirror_mode": {
    "name": "ipython",
    "version": 3
   },
   "file_extension": ".py",
   "mimetype": "text/x-python",
   "name": "python",
   "nbconvert_exporter": "python",
   "pygments_lexer": "ipython3",
   "version": "3.12.7"
  }
 },
 "nbformat": 4,
 "nbformat_minor": 4
}
