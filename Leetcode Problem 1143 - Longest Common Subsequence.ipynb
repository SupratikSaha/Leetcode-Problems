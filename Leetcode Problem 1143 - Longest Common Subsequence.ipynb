{
 "cells": [
  {
   "cell_type": "markdown",
   "metadata": {},
   "source": [
    "# Top Down Recursion - O(2^ (m + n)) runtime, O(m + n) space"
   ]
  },
  {
   "cell_type": "code",
   "execution_count": 1,
   "metadata": {},
   "outputs": [],
   "source": [
    "class Solution:\n",
    "    def longestCommonSubsequence(self, text1: str, text2: str) -> int:\n",
    "        length =  self.lcs(text1, text2, len(text1), len(text2))\n",
    "        \n",
    "        return length\n",
    "    \n",
    "    def lcs(self, text1: str, text2: str, i: int, j: int) -> int:\n",
    "        if i<=0 or j<=0:\n",
    "            return 0\n",
    "        if text1[i - 1] == text2[j - 1]:\n",
    "            return 1 + self.lcs(text1, text2, i - 1, j - 1)\n",
    "        else:\n",
    "            return max( self.lcs(text1, text2, i, j - 1), self.lcs(text1, text2, i - 1, j) ) "
   ]
  },
  {
   "cell_type": "markdown",
   "metadata": {},
   "source": [
    "# Recursion with memoization - O(m * n) runtime, O(m * n) space"
   ]
  },
  {
   "cell_type": "code",
   "execution_count": 2,
   "metadata": {},
   "outputs": [],
   "source": [
    "from typing import List\n",
    "\n",
    "class Solution:\n",
    "    def longestCommonSubsequence(self, text1: str, text2: str) -> int:\n",
    "        len1, len2 = len(text1), len(text2)\n",
    "        if len1 == 0 or len2 == 0:\n",
    "            return 0\n",
    "        \n",
    "        dp =[ [-1] * len2 for _ in range(len1)]\n",
    "        \n",
    "        length =  self.lcs(text1, text2, len(text1), len(text2), dp)\n",
    "        \n",
    "        return length\n",
    "    \n",
    "    def lcs(self, text1: str, text2: str, i: int, j: int, dp: List[int]) -> int:\n",
    "        if i<=0 or j<=0:\n",
    "            return 0\n",
    "        if dp[i - 1][j - 1] != -1:\n",
    "            return dp[i][j]\n",
    "        if text1[i - 1] == text2[j - 1]:\n",
    "            return 1 + self.lcs(text1, text2, i - 1, j - 1, dp)\n",
    "        else:\n",
    "            return max( self.lcs(text1, text2, i, j - 1, dp), self.lcs(text1, text2, i - 1, j, dp) )"
   ]
  },
  {
   "cell_type": "markdown",
   "metadata": {},
   "source": [
    "# Dynamic Programming Bottom Up - O(m * n) runtime, O(m * n) space"
   ]
  },
  {
   "cell_type": "code",
   "execution_count": 3,
   "metadata": {},
   "outputs": [],
   "source": [
    "class Solution:\n",
    "    def longestCommonSubsequence(self, text1: str, text2: str) -> int:\n",
    "        len1, len2 = len(text1), len(text2)\n",
    "        if len1 == 0 or len2 == 0:\n",
    "            return 0\n",
    "        \n",
    "        memo =[ [-1] * (len2 + 1) for _ in range(len1 + 1)]\n",
    "        \n",
    "        for i in range(len1 + 1):\n",
    "            for j in range(len2 + 1):\n",
    "                if i==0 or j==0:\n",
    "                    memo[i][j] = 0\n",
    "                elif text1[i - 1] == text2[j - 1]:\n",
    "                     memo[i][j] =  memo[i - 1][j - 1] + 1\n",
    "                else:\n",
    "                    memo[i][j] = max( memo[i][j - 1], memo[i - 1][j])\n",
    "                    \n",
    "        return memo[len1][len2]"
   ]
  },
  {
   "cell_type": "markdown",
   "metadata": {},
   "source": [
    "# Dynamic Programming, Bottom Up - O(m * n) runtime, O(m * n) space"
   ]
  },
  {
   "cell_type": "code",
   "execution_count": 4,
   "metadata": {},
   "outputs": [],
   "source": [
    "class Solution:\n",
    "    def longestCommonSubsequence(self, text1: str, text2: str) -> int:\n",
    "        n1, n2 = len(text1), len(text2)\n",
    "        dp = [[0 for _ in range(n2 + 1)] for _ in range(2)]\n",
    "        maxlength = 0\n",
    "        \n",
    "        for i in range(1, n1 + 1):\n",
    "            for j in range(1, n2 + 1):\n",
    "                if text1[i - 1] == text2[j - 1]:\n",
    "                    dp[i % 2][j] = 1 + dp[(i - 1) % 2][j - 1]\n",
    "                else:\n",
    "                    dp[i % 2][j] = max(dp[(i - 1) % 2][j], dp[i % 2][j - 1])\n",
    "                    \n",
    "                maxlength = max(maxlength, dp[i % 2][j])\n",
    "\n",
    "        return maxlength"
   ]
  },
  {
   "cell_type": "markdown",
   "metadata": {},
   "source": [
    "# Dynamic Programming, Bottom Up, Lower space - O(m * n) runtime, O(n) space"
   ]
  },
  {
   "cell_type": "code",
   "execution_count": 5,
   "metadata": {},
   "outputs": [],
   "source": [
    "class Solution:\n",
    "    def longestCommonSubsequence(self, text1: str, text2: str) -> int:\n",
    "        len1, len2 = len(text1), len(text2)\n",
    "        if len1 == 0 or len2 == 0:\n",
    "            return 0\n",
    "        \n",
    "        memo = [0] * (len2 + 1) \n",
    "        \n",
    "        for i in range(1, len1 + 1):\n",
    "            prev = 0\n",
    "            for j in range(1, len2 + 1):\n",
    "                temp = memo[j]\n",
    "                if text1[i - 1] == text2[j - 1]:\n",
    "                     memo[j] =  prev + 1\n",
    "                else:\n",
    "                    memo[j] = max(memo[j - 1], memo[j])\n",
    "                prev = temp\n",
    "                    \n",
    "        return memo[len2]"
   ]
  },
  {
   "cell_type": "markdown",
   "metadata": {},
   "source": [
    "# Dynamic Programming, Bottom Up, Lower space - O(m * n) runtime, O(min(m, n)) space"
   ]
  },
  {
   "cell_type": "code",
   "execution_count": 6,
   "metadata": {},
   "outputs": [],
   "source": [
    "class Solution:\n",
    "    def longestCommonSubsequence(self, text1: str, text2: str) -> int:\n",
    "        if len(text1) > len(text2):\n",
    "            text1, text2 = text2, text1\n",
    "\n",
    "        previous = [0] * (len(text1) + 1)\n",
    "        current = [0] * (len(text1) + 1)\n",
    "\n",
    "        for col in reversed(range(len(text2))):\n",
    "            for row in reversed(range(len(text1))):\n",
    "                if text1[row] == text2[col]:\n",
    "                    current[row] = 1 + previous[row+1]\n",
    "                else:\n",
    "                    current[row] = max(previous[row], current[row+1])\n",
    "\n",
    "            current, previous = previous, current\n",
    "        \n",
    "        return previous[0]"
   ]
  },
  {
   "cell_type": "code",
   "execution_count": 8,
   "metadata": {},
   "outputs": [
    {
     "data": {
      "text/plain": [
       "3"
      ]
     },
     "execution_count": 8,
     "metadata": {},
     "output_type": "execute_result"
    }
   ],
   "source": [
    "instance = Solution()\n",
    "instance.longestCommonSubsequence(\"abcde\", \"ace\")"
   ]
  }
 ],
 "metadata": {
  "kernelspec": {
   "display_name": "Python [conda env:base] *",
   "language": "python",
   "name": "conda-base-py"
  },
  "language_info": {
   "codemirror_mode": {
    "name": "ipython",
    "version": 3
   },
   "file_extension": ".py",
   "mimetype": "text/x-python",
   "name": "python",
   "nbconvert_exporter": "python",
   "pygments_lexer": "ipython3",
   "version": "3.12.7"
  }
 },
 "nbformat": 4,
 "nbformat_minor": 4
}
