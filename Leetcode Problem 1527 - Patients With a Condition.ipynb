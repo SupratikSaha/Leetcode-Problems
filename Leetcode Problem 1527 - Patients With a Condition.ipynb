{
 "cells": [
  {
   "cell_type": "markdown",
   "metadata": {},
   "source": [
    "    Problem Statement.\n",
    "    \n",
    "    Table: Patients\n",
    "    \n",
    "    +--------------+---------+\n",
    "    | Column Name  | Type    |\n",
    "    +--------------+---------+\n",
    "    | patient_id   | int     |\n",
    "    | patient_name | varchar |\n",
    "    | conditions   | varchar |\n",
    "    +--------------+---------+\n",
    "    patient_id is the primary key (column with unique values) for this table.\n",
    "    'conditions' contains 0 or more code separated by spaces. \n",
    "    This table contains information of the patients in the hospital.\n",
    "    \n",
    "     \n",
    "    \n",
    "    Write a solution to find the patient_id, patient_name, and conditions of the patients who have Type I Diabetes. Type I Diabetes always starts with DIAB1 prefix.\n",
    "    \n",
    "    Return the result table in any order.\n",
    "    \n",
    "    The result format is in the following example.\n",
    "    \n",
    "     \n",
    "    \n",
    "    Example 1:\n",
    "    \n",
    "    Input: \n",
    "    Patients table:\n",
    "    +------------+--------------+--------------+\n",
    "    | patient_id | patient_name | conditions   |\n",
    "    +------------+--------------+--------------+\n",
    "    | 1          | Daniel       | YFEV COUGH   |\n",
    "    | 2          | Alice        |              |\n",
    "    | 3          | Bob          | DIAB100 MYOP |\n",
    "    | 4          | George       | ACNE DIAB100 |\n",
    "    | 5          | Alain        | DIAB201      |\n",
    "    +------------+--------------+--------------+\n",
    "    Output: \n",
    "    +------------+--------------+--------------+\n",
    "    | patient_id | patient_name | conditions   |\n",
    "    +------------+--------------+--------------+\n",
    "    | 3          | Bob          | DIAB100 MYOP |\n",
    "    | 4          | George       | ACNE DIAB100 | \n",
    "    +------------+--------------+--------------+\n",
    "    Explanation: Bob and George both have a condition that starts with DIAB1.\n"
   ]
  },
  {
   "cell_type": "markdown",
   "metadata": {},
   "source": [
    "# LIKE"
   ]
  },
  {
   "cell_type": "code",
   "execution_count": 1,
   "metadata": {},
   "outputs": [],
   "source": [
    "SELECT\n",
    "    patient_id,\n",
    "    patient_name,\n",
    "    conditions\n",
    "FROM Patients\n",
    "WHERE conditions LIKE '% DIAB1%' or conditions LIKE 'DIAB1%'"
   ]
  }
 ],
 "metadata": {
  "kernelspec": {
   "display_name": "Python [conda env:base] *",
   "language": "python",
   "name": "conda-base-py"
  },
  "language_info": {
   "codemirror_mode": {
    "name": "ipython",
    "version": 3
   },
   "file_extension": ".py",
   "mimetype": "text/x-python",
   "name": "python",
   "nbconvert_exporter": "python",
   "pygments_lexer": "ipython3",
   "version": "3.12.7"
  }
 },
 "nbformat": 4,
 "nbformat_minor": 4
}
