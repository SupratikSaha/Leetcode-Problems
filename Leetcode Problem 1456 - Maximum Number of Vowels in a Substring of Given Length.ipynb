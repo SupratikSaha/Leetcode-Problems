{
 "cells": [
  {
   "cell_type": "markdown",
   "metadata": {},
   "source": [
    "Problem Statement.\n",
    "\n",
    "Given a string s and an integer k, return the maximum number of vowel letters in any substring of s with length k.\n",
    "\n",
    "Vowel letters in English are 'a', 'e', 'i', 'o', and 'u'.\n",
    "\n",
    " \n",
    "\n",
    "Example 1:\n",
    "\n",
    "Input: s = \"abciiidef\", k = 3\n",
    "Output: 3\n",
    "Explanation: The substring \"iii\" contains 3 vowel letters.\n",
    "\n",
    "Example 2:\n",
    "\n",
    "Input: s = \"aeiou\", k = 2\n",
    "Output: 2\n",
    "Explanation: Any substring of length 2 contains 2 vowels.\n",
    "\n",
    "Example 3:\n",
    "\n",
    "Input: s = \"leetcode\", k = 3\n",
    "Output: 2\n",
    "Explanation: \"lee\", \"eet\" and \"ode\" contain 2 vowels.\n",
    "\n",
    " \n",
    "\n",
    "Constraints:\n",
    "\n",
    "    1 <= s.length <= 105\n",
    "    s consists of lowercase English letters.\n",
    "    1 <= k <= s.length"
   ]
  },
  {
   "cell_type": "markdown",
   "metadata": {},
   "source": [
    "# Sliding Window - O(N) runtime, O(1) space"
   ]
  },
  {
   "cell_type": "code",
   "execution_count": 3,
   "metadata": {},
   "outputs": [],
   "source": [
    "class Solution:\n",
    "    def maxVowels(self, s: str, k: int) -> int:\n",
    "        cur_vowels, max_vowels = 0, 0\n",
    "        vowels = {'a', 'e', 'i', 'o', 'u'}\n",
    "\n",
    "        for i in range(k):\n",
    "            if s[i] in vowels:\n",
    "                cur_vowels += 1\n",
    "        max_vowels = max(max_vowels, cur_vowels) \n",
    "        \n",
    "        for i in range(k, len(s)):\n",
    "            if s[i - k] in vowels:\n",
    "                cur_vowels -= 1\n",
    "            if s[i] in vowels:\n",
    "                cur_vowels += 1\n",
    "            max_vowels = max(max_vowels, cur_vowels) \n",
    "        \n",
    "        return max_vowels\n"
   ]
  },
  {
   "cell_type": "code",
   "execution_count": 5,
   "metadata": {},
   "outputs": [
    {
     "data": {
      "text/plain": [
       "3"
      ]
     },
     "execution_count": 5,
     "metadata": {},
     "output_type": "execute_result"
    }
   ],
   "source": [
    "instance = Solution()\n",
    "instance.maxVowels(\"abciiidef\", 3)"
   ]
  }
 ],
 "metadata": {
  "kernelspec": {
   "display_name": "Python [conda env:base] *",
   "language": "python",
   "name": "conda-base-py"
  },
  "language_info": {
   "codemirror_mode": {
    "name": "ipython",
    "version": 3
   },
   "file_extension": ".py",
   "mimetype": "text/x-python",
   "name": "python",
   "nbconvert_exporter": "python",
   "pygments_lexer": "ipython3",
   "version": "3.12.7"
  }
 },
 "nbformat": 4,
 "nbformat_minor": 4
}
