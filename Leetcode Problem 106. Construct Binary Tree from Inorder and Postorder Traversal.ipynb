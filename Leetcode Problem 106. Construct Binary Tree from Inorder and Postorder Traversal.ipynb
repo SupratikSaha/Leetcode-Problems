{
 "cells": [
  {
   "cell_type": "markdown",
   "metadata": {},
   "source": [
    "Problem Statement.\n",
    "\n",
    "Given two integer arrays inorder and postorder where inorder is the inorder traversal of a binary tree and postorder is the postorder traversal of the same tree, construct and return the binary tree.\n",
    "\n",
    " \n",
    "\n",
    "Example 1:\n",
    "\n",
    "Input: inorder = [9,3,15,20,7], postorder = [9,15,7,20,3]\n",
    "Output: [3,9,20,null,null,15,7]\n",
    "\n",
    "Example 2:\n",
    "\n",
    "Input: inorder = [-1], postorder = [-1]\n",
    "Output: [-1]\n",
    "\n",
    " \n",
    "\n",
    "Constraints:\n",
    "\n",
    "    1 <= inorder.length <= 3000\n",
    "    postorder.length == inorder.length\n",
    "    -3000 <= inorder[i], postorder[i] <= 3000\n",
    "    inorder and postorder consist of unique values.\n",
    "    Each value of postorder also appears in inorder.\n",
    "    inorder is guaranteed to be the inorder traversal of the tree.\n",
    "    postorder is guaranteed to be the postorder traversal of the tree."
   ]
  },
  {
   "cell_type": "markdown",
   "metadata": {},
   "source": [
    "# DFS - O(N) runtime, O(N) space"
   ]
  },
  {
   "cell_type": "code",
   "execution_count": 3,
   "metadata": {},
   "outputs": [],
   "source": [
    "from typing import Optional, List\n",
    "\n",
    "# Definition for a binary tree node.\n",
    "# class TreeNode:\n",
    "#     def __init__(self, val=0, left=None, right=None):\n",
    "#         self.val = val\n",
    "#         self.left = left\n",
    "#         self.right = right\n",
    "\n",
    "class Solution:\n",
    "    def buildTree(self, inorder: List[int], postorder: List[int]) -> Optional[TreeNode]:\n",
    "\n",
    "        def helper(left, right):\n",
    "            if left > right: return None\n",
    "\n",
    "            val = postorder.pop()\n",
    "            idx = idx_map[val]\n",
    "            node = TreeNode(val)\n",
    "\n",
    "            node.right = helper(idx+1, right)\n",
    "            node.left = helper(left, idx-1)\n",
    "\n",
    "            return node\n",
    "\n",
    "        idx_map = {val: idx for idx, val in enumerate(inorder)}\n",
    "        return helper(0, len(inorder) - 1)"
   ]
  },
  {
   "cell_type": "code",
   "execution_count": null,
   "metadata": {},
   "outputs": [],
   "source": [
    "instance = Solution()\n",
    "instance.buildTree([9,3,15,20,7], [9,15,7,20,3])"
   ]
  }
 ],
 "metadata": {
  "kernelspec": {
   "display_name": "Python [conda env:base] *",
   "language": "python",
   "name": "conda-base-py"
  },
  "language_info": {
   "codemirror_mode": {
    "name": "ipython",
    "version": 3
   },
   "file_extension": ".py",
   "mimetype": "text/x-python",
   "name": "python",
   "nbconvert_exporter": "python",
   "pygments_lexer": "ipython3",
   "version": "3.12.7"
  }
 },
 "nbformat": 4,
 "nbformat_minor": 4
}
