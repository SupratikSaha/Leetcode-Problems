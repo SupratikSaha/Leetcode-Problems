{
 "cells": [
  {
   "cell_type": "markdown",
   "metadata": {},
   "source": [
    "    Problem Statement.\n",
    "\n",
    "    Table: Products\n",
    "\n",
    "    +-------------+---------+\n",
    "    | Column Name | Type    |\n",
    "    +-------------+---------+\n",
    "    | product_id  | int     |\n",
    "    | store       | enum    |\n",
    "    | price       | int     |\n",
    "    +-------------+---------+\n",
    "    (product_id, store) is the primary key for this table.\n",
    "    store is an ENUM of type ('store1', 'store2', 'store3') where each represents the store this product is available at.\n",
    "    price is the price of the product at this store.\n",
    "\n",
    "\n",
    "\n",
    "    Write an SQL query to find the price of each product in each store.\n",
    "\n",
    "    Return the result table in any order.\n",
    "\n",
    "    The query result format is in the following example.\n",
    "\n",
    "\n",
    "\n",
    "    Example 1:\n",
    "\n",
    "    Input: \n",
    "    Products table:\n",
    "    +-------------+--------+-------+\n",
    "    | product_id  | store  | price |\n",
    "    +-------------+--------+-------+\n",
    "    | 0           | store1 | 95    |\n",
    "    | 0           | store3 | 105   |\n",
    "    | 0           | store2 | 100   |\n",
    "    | 1           | store1 | 70    |\n",
    "    | 1           | store3 | 80    |\n",
    "    +-------------+--------+-------+\n",
    "    Output: \n",
    "    +-------------+--------+--------+--------+\n",
    "    | product_id  | store1 | store2 | store3 |\n",
    "    +-------------+--------+--------+--------+\n",
    "    | 0           | 95     | 100    | 105    |\n",
    "    | 1           | 70     | null   | 80     |\n",
    "    +-------------+--------+--------+--------+\n",
    "    Explanation: \n",
    "    Product 0 price's are 95 for store1, 100 for store2 and, 105 for store3.\n",
    "    Product 1 price's are 70 for store1, 80 for store3 and, it's not sold in store2."
   ]
  },
  {
   "cell_type": "markdown",
   "metadata": {},
   "source": [
    "# With and Left Join"
   ]
  },
  {
   "cell_type": "code",
   "execution_count": null,
   "metadata": {},
   "outputs": [],
   "source": [
    "WITH prods as\n",
    "(SELECT distinct product_id\n",
    "from Products),\n",
    "store1 as\n",
    "(select product_id, price as store1\n",
    "from Products\n",
    "where store = 'store1'),\n",
    "store2 as\n",
    "(select product_id, price as store2\n",
    "from Products\n",
    "where store = 'store2'),\n",
    "store3 as\n",
    "(select product_id, price as store3\n",
    "from Products\n",
    "where store = 'store3')\n",
    "\n",
    "select prods.*,store1.store1, store2.store2, store3.store3 \n",
    "from prods\n",
    "left join store1 USING(product_id)\n",
    "left join store2 USING(product_id)\n",
    "left join store3 USING(product_id)"
   ]
  }
 ],
 "metadata": {
  "kernelspec": {
   "display_name": "Python 3",
   "language": "python",
   "name": "python3"
  },
  "language_info": {
   "codemirror_mode": {
    "name": "ipython",
    "version": 3
   },
   "file_extension": ".py",
   "mimetype": "text/x-python",
   "name": "python",
   "nbconvert_exporter": "python",
   "pygments_lexer": "ipython3",
   "version": "3.7.3"
  }
 },
 "nbformat": 4,
 "nbformat_minor": 2
}
