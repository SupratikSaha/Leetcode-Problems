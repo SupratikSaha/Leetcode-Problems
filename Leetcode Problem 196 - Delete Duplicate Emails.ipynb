{
 "cells": [
  {
   "cell_type": "markdown",
   "metadata": {},
   "source": [
    "Problem Statement.\n",
    "\n",
    "Table: Person\n",
    "\n",
    "<br/>+-------------+---------+\n",
    "<br/>| Column Name | Type    |\n",
    "<br/>+-------------+---------+\n",
    "<br/>| id          | int     |\n",
    "<br/>| email       | varchar |\n",
    "<br/>+-------------+---------+\n",
    "<br/>id is the primary key (column with unique values) for this table.\n",
    "Each row of this table contains an email. The emails will not contain uppercase letters.\n",
    "\n",
    " \n",
    "\n",
    "Write a solution to delete all duplicate emails, keeping only one unique email with the smallest id.\n",
    "\n",
    "For SQL users, please note that you are supposed to write a DELETE statement and not a SELECT one.\n",
    "\n",
    "For Pandas users, please note that you are supposed to modify Person in place.\n",
    "\n",
    "After running your script, the answer shown is the Person table. The driver will first compile and run your piece of code and then show the Person table. The final order of the Person table does not matter.\n",
    "\n",
    "The result format is in the following example.\n",
    "\n",
    " \n",
    "\n",
    "Example 1:\n",
    "\n",
    "Input: \n",
    "Person table:\n",
    "<br/>+----+------------------+\n",
    "<br/>| id | email            |\n",
    "<br/>+----+------------------+\n",
    "<br/>| 1  | john@example.com |\n",
    "<br/>| 2  | bob@example.com  |\n",
    "<br/>| 3  | john@example.com |\n",
    "<br/>+----+------------------+\n",
    "<br/>Output: \n",
    "<br/>+----+------------------+\n",
    "<br/>| id | email            |\n",
    "<br/>+----+------------------+\n",
    "<br/>| 1  | john@example.com |\n",
    "<br/>| 2  | bob@example.com  |\n",
    "<br/>+----+------------------+\n",
    "<br/>Explanation: john@example.com is repeated two times. We keep the row with the smallest Id = 1."
   ]
  },
  {
   "cell_type": "markdown",
   "metadata": {},
   "source": [
    "# CROSS JOIN"
   ]
  },
  {
   "cell_type": "code",
   "execution_count": null,
   "metadata": {},
   "outputs": [],
   "source": [
    "DELETE \n",
    "    p1 \n",
    "FROM person p1,\n",
    "     person p2\n",
    "WHERE\n",
    "    p1.Email = p2.Email \n",
    "    AND p1.Id > p2.Id"
   ]
  },
  {
   "cell_type": "markdown",
   "metadata": {},
   "source": [
    "# RANK"
   ]
  },
  {
   "cell_type": "code",
   "execution_count": null,
   "metadata": {},
   "outputs": [],
   "source": [
    "WITH ranked_ids AS (\n",
    "    SELECT\n",
    "        id,\n",
    "        RANK() OVER (PARTITION BY email ORDER BY id) as rank_val\n",
    "    FROM\n",
    "        Person\n",
    ")\n",
    "DELETE\n",
    "    FROM Person\n",
    "WHERE id IN (\n",
    "    SELECT \n",
    "        id \n",
    "    FROM ranked_ids\n",
    "    WHERE rank_val > 1\n",
    ")"
   ]
  },
  {
   "cell_type": "markdown",
   "metadata": {},
   "source": [
    "# MIN AND NOT IN"
   ]
  },
  {
   "cell_type": "code",
   "execution_count": null,
   "metadata": {},
   "outputs": [],
   "source": [
    "WITH min_ids AS (\n",
    "    SELECT \n",
    "        MIN(Id) \n",
    "    FROM Person \n",
    "    GROUP BY Email\n",
    ")\n",
    "DELETE \n",
    "FROM Person \n",
    "WHERE Id NOT IN\n",
    "(\n",
    "    SELECT \n",
    "        *\n",
    "    FROM min_ids\n",
    ")"
   ]
  }
 ],
 "metadata": {
  "kernelspec": {
   "display_name": "Python [conda env:base] *",
   "language": "python",
   "name": "conda-base-py"
  },
  "language_info": {
   "codemirror_mode": {
    "name": "ipython",
    "version": 3
   },
   "file_extension": ".py",
   "mimetype": "text/x-python",
   "name": "python",
   "nbconvert_exporter": "python",
   "pygments_lexer": "ipython3",
   "version": "3.12.7"
  }
 },
 "nbformat": 4,
 "nbformat_minor": 4
}
