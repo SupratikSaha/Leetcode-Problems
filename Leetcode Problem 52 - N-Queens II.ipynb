{
 "cells": [
  {
   "cell_type": "markdown",
   "metadata": {},
   "source": [
    "Problem Statement.\n",
    "\n",
    "The n-queens puzzle is the problem of placing n queens on an n x n chessboard such that no two queens attack each other.\n",
    "\n",
    "Given an integer n, return the number of distinct solutions to the n-queens puzzle.\n",
    "\n",
    " \n",
    "\n",
    "Example 1:\n",
    "\n",
    "Input: n = 4\n",
    "Output: 2\n",
    "Explanation: There are two distinct solutions to the 4-queens puzzle as shown.\n",
    "\n",
    "Example 2:\n",
    "\n",
    "Input: n = 1\n",
    "Output: 1\n",
    "\n",
    " \n",
    "\n",
    "Constraints:\n",
    "\n",
    "    1 <= n <= 9"
   ]
  },
  {
   "cell_type": "markdown",
   "metadata": {},
   "source": [
    "# Backtracking - O(N!) runtime, O(N) space"
   ]
  },
  {
   "cell_type": "code",
   "execution_count": 5,
   "metadata": {},
   "outputs": [],
   "source": [
    "class Solution:\n",
    "    def totalNQueens(self, n: int) -> int:\n",
    "\n",
    "        def backtrack(row, cols, diags, anti_diags):\n",
    "            if row == n: return 1\n",
    "\n",
    "            solutions = 0\n",
    "            for col in range(n):\n",
    "                diag = row - col\n",
    "                anti_diag = row + col\n",
    "\n",
    "                if col in cols or diag in diags or anti_diag in anti_diags:\n",
    "                    continue\n",
    "                cols.add(col)\n",
    "                diags.add(diag)\n",
    "                anti_diags.add(anti_diag)\n",
    "\n",
    "                solutions += backtrack(row+1, cols, diags, anti_diags)\n",
    "\n",
    "                cols.remove(col)\n",
    "                diags.remove(diag)\n",
    "                anti_diags.remove(anti_diag)\n",
    "            \n",
    "            return solutions\n",
    "\n",
    "        return backtrack(0, set(), set(), set())"
   ]
  },
  {
   "cell_type": "code",
   "execution_count": 9,
   "metadata": {},
   "outputs": [
    {
     "data": {
      "text/plain": [
       "2"
      ]
     },
     "execution_count": 9,
     "metadata": {},
     "output_type": "execute_result"
    }
   ],
   "source": [
    "instance = Solution()\n",
    "instance.totalNQueens(4)"
   ]
  }
 ],
 "metadata": {
  "kernelspec": {
   "display_name": "Python [conda env:base] *",
   "language": "python",
   "name": "conda-base-py"
  },
  "language_info": {
   "codemirror_mode": {
    "name": "ipython",
    "version": 3
   },
   "file_extension": ".py",
   "mimetype": "text/x-python",
   "name": "python",
   "nbconvert_exporter": "python",
   "pygments_lexer": "ipython3",
   "version": "3.12.7"
  }
 },
 "nbformat": 4,
 "nbformat_minor": 4
}
