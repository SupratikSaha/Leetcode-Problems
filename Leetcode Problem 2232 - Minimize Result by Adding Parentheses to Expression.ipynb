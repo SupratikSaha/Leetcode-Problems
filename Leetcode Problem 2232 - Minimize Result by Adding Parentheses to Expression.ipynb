{
 "cells": [
  {
   "cell_type": "markdown",
   "metadata": {},
   "source": [
    "Problem Statement.\n",
    "\n",
    "You are given a 0-indexed string expression of the form \"<num1>+<num2>\" where <num1> and <num2> represent positive integers.\n",
    "\n",
    "Add a pair of parentheses to expression such that after the addition of parentheses, expression is a valid mathematical expression and evaluates to the smallest possible value. The left parenthesis must be added to the left of '+' and the right parenthesis must be added to the right of '+'.\n",
    "\n",
    "Return expression after adding a pair of parentheses such that expression evaluates to the smallest possible value. If there are multiple answers that yield the same result, return any of them.\n",
    "\n",
    "The input has been generated such that the original value of expression, and the value of expression after adding any pair of parentheses that meets the requirements fits within a signed 32-bit integer.\n",
    "\n",
    " \n",
    "\n",
    "Example 1:\n",
    "\n",
    "Input: expression = \"247+38\"\n",
    "Output: \"2(47+38)\"\n",
    "Explanation: The expression evaluates to 2 * (47 + 38) = 2 * 85 = 170.\n",
    "Note that \"2(4)7+38\" is invalid because the right parenthesis must be to the right of the '+'.\n",
    "It can be shown that 170 is the smallest possible value.\n",
    "\n",
    "Example 2:\n",
    "\n",
    "Input: expression = \"12+34\"\n",
    "Output: \"1(2+3)4\"\n",
    "Explanation: The expression evaluates to 1 * (2 + 3) * 4 = 1 * 5 * 4 = 20.\n",
    "\n",
    "Example 3:\n",
    "\n",
    "Input: expression = \"999+999\"\n",
    "Output: \"(999+999)\"\n",
    "Explanation: The expression evaluates to 999 + 999 = 1998.\n",
    "\n",
    " \n",
    "\n",
    "Constraints:\n",
    "\n",
    "    3 <= expression.length <= 10\n",
    "    expression consists of digits from '1' to '9' and '+'.\n",
    "    expression starts and ends with digits.\n",
    "    expression contains exactly one '+'.\n",
    "    The original value of expression, and the value of expression after adding any pair of parentheses that meets the requirements fits within a signed 32-bit integer.\n",
    "\n"
   ]
  },
  {
   "cell_type": "markdown",
   "metadata": {},
   "source": [
    "# Brute Force - O(N ^ 3) runtime, O(N) space"
   ]
  },
  {
   "cell_type": "code",
   "execution_count": 7,
   "metadata": {},
   "outputs": [],
   "source": [
    "class Solution:\n",
    "    def minimizeResult(self, expression: str) -> str:\n",
    "        plus_index = expression.find('+')\n",
    "        n = len(expression)\n",
    "        res = float('inf')\n",
    "        li, ri = None, None\n",
    "\n",
    "        for l in range(plus_index):\n",
    "            for r in range(plus_index+1, n):\n",
    "                left = int(expression[:l]) if l > 0 else 1\n",
    "                center = int(expression[l:plus_index]) + int(expression[plus_index+1:r+1])\n",
    "                right = int(expression[r+1:n]) if r + 1 < n else 1\n",
    "                val = left * center * right\n",
    "\n",
    "                if val < res:\n",
    "                    res = val\n",
    "                    li, ri = l, r\n",
    "\n",
    "        exp = f'{expression[:li]}({expression[li:plus_index]}+{expression[plus_index+1:ri+1]}){expression[ri+1:n]}'\n",
    "\n",
    "        return exp"
   ]
  },
  {
   "cell_type": "markdown",
   "metadata": {},
   "source": [
    "# Optimized - O(N ^ 2) runtime, O(N) space"
   ]
  },
  {
   "cell_type": "code",
   "execution_count": 14,
   "metadata": {},
   "outputs": [],
   "source": [
    "class Solution:\n",
    "    def minimizeResult(self, expression: str) -> str:\n",
    "        left, right = expression.split(\"+\")\n",
    "        left_in = 0\n",
    "        left_out = int(left)\n",
    "        min_num = int(left) + int(right)\n",
    "        res = (len(left), len(right))\n",
    "        left_10 = 10**(-1)\n",
    "\n",
    "        for left_in_size in range(1, len(left)+1):\n",
    "            left_10 *= 10\n",
    "            left_in += int(left[-left_in_size])*left_10\n",
    "            left_out = max(left_out // 10, 1)\n",
    "            right_in = 0\n",
    "            right_out = int(right)\n",
    "            right_10 = (10**(len(right))) \n",
    "            for right_in_size in range(1, len(right)+1):\n",
    "                right_10 /= 10\n",
    "                right_in = right_in*10 + int(right[right_in_size-1])\n",
    "                right_out = max(right_out % right_10, 1)\n",
    "                this_num = left_out * (left_in + right_in) * right_out\n",
    "                if this_num < min_num:\n",
    "                    res = (left_in_size, right_in_size)\n",
    "                    min_num = this_num\n",
    "\n",
    "        return left[:(len(left)-res[0])] + \"(\" + left[len(left)-res[0]:] + \"+\" + right[:res[1]] + \")\" + right[res[1]:]"
   ]
  },
  {
   "cell_type": "code",
   "execution_count": 16,
   "metadata": {},
   "outputs": [
    {
     "data": {
      "text/plain": [
       "'2(47+38)'"
      ]
     },
     "execution_count": 16,
     "metadata": {},
     "output_type": "execute_result"
    }
   ],
   "source": [
    "instance = Solution()\n",
    "instance.minimizeResult(\"247+38\")"
   ]
  }
 ],
 "metadata": {
  "kernelspec": {
   "display_name": "Python [conda env:base] *",
   "language": "python",
   "name": "conda-base-py"
  },
  "language_info": {
   "codemirror_mode": {
    "name": "ipython",
    "version": 3
   },
   "file_extension": ".py",
   "mimetype": "text/x-python",
   "name": "python",
   "nbconvert_exporter": "python",
   "pygments_lexer": "ipython3",
   "version": "3.12.7"
  }
 },
 "nbformat": 4,
 "nbformat_minor": 4
}
