{
 "cells": [
  {
   "cell_type": "markdown",
   "metadata": {},
   "source": [
    "Problem Statement.\n",
    "\n",
    "You are given two arrays of positive integers, boxes and warehouse, representing the heights of some boxes of unit width and the heights of n rooms in a warehouse respectively. The warehouse's rooms are labeled from 0 to n - 1 from left to right where warehouse[i] (0-indexed) is the height of the ith room.\n",
    "\n",
    "Boxes are put into the warehouse by the following rules:\n",
    "\n",
    "    Boxes cannot be stacked.\n",
    "    You can rearrange the insertion order of the boxes.\n",
    "    Boxes can be pushed into the warehouse from either side (left or right)\n",
    "    If the height of some room in the warehouse is less than the height of a box, then that box and all other boxes behind it will be stopped before that room.\n",
    "\n",
    "Return the maximum number of boxes you can put into the warehouse.\n",
    "\n",
    " \n",
    "\n",
    "Example 1:\n",
    "\n",
    "Input: boxes = [1,2,2,3,4], warehouse = [3,4,1,2]\n",
    "Output: 4\n",
    "Explanation:\n",
    "\n",
    "We can store the boxes in the following order:\n",
    "1- Put the yellow box in room 2 from either the left or right side.\n",
    "2- Put the orange box in room 3 from the right side.\n",
    "3- Put the green box in room 1 from the left side.\n",
    "4- Put the red box in room 0 from the left side.\n",
    "Notice that there are other valid ways to put 4 boxes such as swapping the red and green boxes or the red and orange boxes.\n",
    "\n",
    "Example 2:\n",
    "\n",
    "Input: boxes = [3,5,5,2], warehouse = [2,1,3,4,5]\n",
    "Output: 3\n",
    "Explanation:\n",
    "\n",
    "It is not possible to put the two boxes of height 5 in the warehouse since there's only 1 room of height >= 5.\n",
    "Other valid solutions are to put the green box in room 2 or to put the orange box first in room 2 before putting the green and red boxes.\n",
    "\n",
    " \n",
    "\n",
    "Constraints:\n",
    "\n",
    "    n == warehouse.length\n",
    "    1 <= boxes.length, warehouse.length <= 105\n",
    "    1 <= boxes[i], warehouse[i] <= 109"
   ]
  },
  {
   "cell_type": "markdown",
   "metadata": {},
   "source": [
    "# Sort - O(N * Log N + M) runtime, O(N) space where N is the number of boxes and M is the number of rooms"
   ]
  },
  {
   "cell_type": "code",
   "execution_count": 3,
   "metadata": {},
   "outputs": [],
   "source": [
    "from typing import List\n",
    "\n",
    "class Solution:\n",
    "    def maxBoxesInWarehouse(self, boxes: List[int], warehouse: List[int]) -> int:\n",
    "        boxes.sort()\n",
    "        left = count = 0 \n",
    "        right, box_index = len(warehouse) - 1, len(boxes) - 1\n",
    "\n",
    "        while left <= right and box_index >= 0:\n",
    "            if warehouse[left] >= boxes[box_index]:\n",
    "                left += 1\n",
    "                count += 1\n",
    "            elif warehouse[right] >= boxes[box_index]:\n",
    "                right -= 1\n",
    "                count += 1\n",
    "            box_index -= 1\n",
    "        \n",
    "        return count"
   ]
  },
  {
   "cell_type": "code",
   "execution_count": 4,
   "metadata": {},
   "outputs": [
    {
     "data": {
      "text/plain": [
       "4"
      ]
     },
     "execution_count": 4,
     "metadata": {},
     "output_type": "execute_result"
    }
   ],
   "source": [
    "instance = Solution()\n",
    "instance.maxBoxesInWarehouse([1,2,2,3,4], [3,4,1,2])"
   ]
  }
 ],
 "metadata": {
  "kernelspec": {
   "display_name": "Python [conda env:base] *",
   "language": "python",
   "name": "conda-base-py"
  },
  "language_info": {
   "codemirror_mode": {
    "name": "ipython",
    "version": 3
   },
   "file_extension": ".py",
   "mimetype": "text/x-python",
   "name": "python",
   "nbconvert_exporter": "python",
   "pygments_lexer": "ipython3",
   "version": "3.12.7"
  }
 },
 "nbformat": 4,
 "nbformat_minor": 4
}
