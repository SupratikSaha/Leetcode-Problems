{
 "cells": [
  {
   "cell_type": "markdown",
   "metadata": {},
   "source": [
    "    Problem Statement.\n",
    "    \n",
    "    Table: Employees\n",
    "    \n",
    "    +-------------+----------+\n",
    "    | Column Name | Type     |\n",
    "    +-------------+----------+\n",
    "    | employee_id | int      |\n",
    "    | name        | varchar  |\n",
    "    | reports_to  | int      |\n",
    "    | age         | int      |\n",
    "    +-------------+----------+\n",
    "    employee_id is the column with unique values for this table.\n",
    "    This table contains information about the employees and the id of the manager they report to. Some employees do not report to anyone (reports_to is null). \n",
    "    \n",
    "     \n",
    "    \n",
    "    For this problem, we will consider a manager an employee who has at least 1 other employee reporting to them.\n",
    "    \n",
    "    Write a solution to report the ids and the names of all managers, the number of employees who report directly to them, and the average age of the reports rounded to the nearest integer.\n",
    "    \n",
    "    Return the result table ordered by employee_id.\n",
    "    \n",
    "    The result format is in the following example.\n",
    "    \n",
    "     \n",
    "    \n",
    "    Example 1:\n",
    "    \n",
    "    Input: \n",
    "    Employees table:\n",
    "    +-------------+---------+------------+-----+\n",
    "    | employee_id | name    | reports_to | age |\n",
    "    +-------------+---------+------------+-----+\n",
    "    | 9           | Hercy   | null       | 43  |\n",
    "    | 6           | Alice   | 9          | 41  |\n",
    "    | 4           | Bob     | 9          | 36  |\n",
    "    | 2           | Winston | null       | 37  |\n",
    "    +-------------+---------+------------+-----+\n",
    "    Output: \n",
    "    +-------------+-------+---------------+-------------+\n",
    "    | employee_id | name  | reports_count | average_age |\n",
    "    +-------------+-------+---------------+-------------+\n",
    "    | 9           | Hercy | 2             | 39          |\n",
    "    +-------------+-------+---------------+-------------+\n",
    "    Explanation: Hercy has 2 people report directly to him, Alice and Bob. Their average age is (41+36)/2 = 38.5, which is 39 after rounding it to the nearest integer.\n",
    "    \n",
    "    Example 2:\n",
    "    \n",
    "    Input: \n",
    "    Employees table:\n",
    "    +-------------+---------+------------+-----+ \n",
    "    | employee_id | name    | reports_to | age |\n",
    "    |-------------|---------|------------|-----|\n",
    "    | 1           | Michael | null       | 45  |\n",
    "    | 2           | Alice   | 1          | 38  |\n",
    "    | 3           | Bob     | 1          | 42  |\n",
    "    | 4           | Charlie | 2          | 34  |\n",
    "    | 5           | David   | 2          | 40  |\n",
    "    | 6           | Eve     | 3          | 37  |\n",
    "    | 7           | Frank   | null       | 50  |\n",
    "    | 8           | Grace   | null       | 48  |\n",
    "    +-------------+---------+------------+-----+ \n",
    "    Output: \n",
    "    +-------------+---------+---------------+-------------+\n",
    "    | employee_id | name    | reports_count | average_age |\n",
    "    | ----------- | ------- | ------------- | ----------- |\n",
    "    | 1           | Michael | 2             | 40          |\n",
    "    | 2           | Alice   | 2             | 37          |\n",
    "    | 3           | Bob     | 1             | 37          |\n",
    "    +-------------+---------+---------------+-------------+\n",
    "    \n"
   ]
  },
  {
   "cell_type": "markdown",
   "metadata": {},
   "source": [
    "# SELF JOIN"
   ]
  },
  {
   "cell_type": "code",
   "execution_count": 2,
   "metadata": {},
   "outputs": [],
   "source": [
    "SELECT \n",
    "  mgr.employee_id, \n",
    "  mgr.name, \n",
    "  COUNT(emp.employee_id) AS reports_count, \n",
    "  ROUND(\n",
    "    AVG(emp.age)\n",
    "  ) AS average_age \n",
    "FROM \n",
    "  employees emp \n",
    "  JOIN employees mgr ON emp.reports_to = mgr.employee_id \n",
    "GROUP BY \n",
    "  employee_id \n",
    "ORDER BY \n",
    "  employee_id"
   ]
  },
  {
   "cell_type": "markdown",
   "metadata": {},
   "source": [
    "# CTE"
   ]
  },
  {
   "cell_type": "code",
   "execution_count": null,
   "metadata": {},
   "outputs": [],
   "source": [
    "WITH managers AS (\n",
    "    SELECT \n",
    "        reports_to AS manager_id,\n",
    "        COUNT(*) AS reports_count,\n",
    "        ROUND(AVG(age)) AS average_age\n",
    "    FROM Employees\n",
    "    WHERE reports_to IS NOT NULL\n",
    "    GROUP BY reports_to\n",
    ")\n",
    "SELECT \n",
    "    e.employee_id,\n",
    "    e.name,\n",
    "    m.reports_count,\n",
    "    m.average_age\n",
    "FROM Employees e\n",
    "JOIN managers m\n",
    "ON e.employee_id = m.manager_id\n",
    "ORDER BY e.employee_id"
   ]
  }
 ],
 "metadata": {
  "kernelspec": {
   "display_name": "Python [conda env:base] *",
   "language": "python",
   "name": "conda-base-py"
  },
  "language_info": {
   "codemirror_mode": {
    "name": "ipython",
    "version": 3
   },
   "file_extension": ".py",
   "mimetype": "text/x-python",
   "name": "python",
   "nbconvert_exporter": "python",
   "pygments_lexer": "ipython3",
   "version": "3.12.7"
  }
 },
 "nbformat": 4,
 "nbformat_minor": 4
}
