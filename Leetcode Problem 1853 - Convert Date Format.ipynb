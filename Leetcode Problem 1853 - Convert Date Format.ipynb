{
 "cells": [
  {
   "cell_type": "markdown",
   "metadata": {},
   "source": [
    "    Problem Statement.\n",
    "    \n",
    "    Table: Days\n",
    "    \n",
    "    +-------------+------+\n",
    "    | Column Name | Type |\n",
    "    +-------------+------+\n",
    "    | day         | date |\n",
    "    +-------------+------+\n",
    "    day is the column with unique values for this table.\n",
    "    \n",
    "     \n",
    "    \n",
    "    Write a solution to convert each date in Days into a string formatted as \"day_name, month_name day, year\".\n",
    "    \n",
    "    Return the result table in any order.\n",
    "    \n",
    "    The result format is in the following example.\n",
    "    \n",
    "     \n",
    "    \n",
    "    Example 1:\n",
    "    \n",
    "    Input: \n",
    "    Days table:\n",
    "    +------------+\n",
    "    | day        |\n",
    "    +------------+\n",
    "    | 2022-04-12 |\n",
    "    | 2021-08-09 |\n",
    "    | 2020-06-26 |\n",
    "    +------------+\n",
    "    Output: \n",
    "    +-------------------------+\n",
    "    | day                     |\n",
    "    +-------------------------+\n",
    "    | Tuesday, April 12, 2022 |\n",
    "    | Monday, August 9, 2021  |\n",
    "    | Friday, June 26, 2020   |\n",
    "    +-------------------------+\n",
    "    Explanation: Please note that the output is case-sensitive.\n",
    "    \n"
   ]
  },
  {
   "cell_type": "markdown",
   "metadata": {},
   "source": [
    "# DATE_FORMAT"
   ]
  },
  {
   "cell_type": "code",
   "execution_count": 4,
   "metadata": {},
   "outputs": [],
   "source": [
    "SELECT\n",
    "    date_format(day, '%W, %M %e, %Y') AS day\n",
    "FROM Days"
   ]
  }
 ],
 "metadata": {
  "kernelspec": {
   "display_name": "Python [conda env:base] *",
   "language": "python",
   "name": "conda-base-py"
  },
  "language_info": {
   "codemirror_mode": {
    "name": "ipython",
    "version": 3
   },
   "file_extension": ".py",
   "mimetype": "text/x-python",
   "name": "python",
   "nbconvert_exporter": "python",
   "pygments_lexer": "ipython3",
   "version": "3.12.7"
  }
 },
 "nbformat": 4,
 "nbformat_minor": 4
}
