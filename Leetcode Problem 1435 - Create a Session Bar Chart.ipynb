{
 "cells": [
  {
   "cell_type": "markdown",
   "metadata": {},
   "source": [
    "    Problem Statement.\n",
    "    \n",
    "    Table: Sessions\n",
    "    \n",
    "    +---------------------+---------+\n",
    "    | Column Name         | Type    |\n",
    "    +---------------------+---------+\n",
    "    | session_id          | int     |\n",
    "    | duration            | int     |\n",
    "    +---------------------+---------+\n",
    "    session_id is the column of unique values for this table.\n",
    "    duration is the time in seconds that a user has visited the application.\n",
    "    \n",
    "     \n",
    "    \n",
    "    You want to know how long a user visits your application. You decided to create bins of \"[0-5>\", \"[5-10>\", \"[10-15>\", and \"15 minutes or more\" and count the number of sessions on it.\n",
    "    \n",
    "    Write a solution to report the (bin, total).\n",
    "    \n",
    "    Return the result table in any order.\n",
    "    \n",
    "    The result format is in the following example.\n",
    "    \n",
    "     \n",
    "    \n",
    "    Example 1:\n",
    "    \n",
    "    Input: \n",
    "    Sessions table:\n",
    "    +-------------+---------------+\n",
    "    | session_id  | duration      |\n",
    "    +-------------+---------------+\n",
    "    | 1           | 30            |\n",
    "    | 2           | 199           |\n",
    "    | 3           | 299           |\n",
    "    | 4           | 580           |\n",
    "    | 5           | 1000          |\n",
    "    +-------------+---------------+\n",
    "    Output: \n",
    "    +--------------+--------------+\n",
    "    | bin          | total        |\n",
    "    +--------------+--------------+\n",
    "    | [0-5>        | 3            |\n",
    "    | [5-10>       | 1            |\n",
    "    | [10-15>      | 0            |\n",
    "    | 15 or more   | 1            |\n",
    "    +--------------+--------------+\n",
    "    Explanation: \n",
    "    For session_id 1, 2, and 3 have a duration greater or equal than 0 minutes and less than 5 minutes.\n",
    "    For session_id 4 has a duration greater or equal than 5 minutes and less than 10 minutes.\n",
    "    There is no session with a duration greater than or equal to 10 minutes and less than 15 minutes.\n",
    "    For session_id 5 has a duration greater than or equal to 15 minutes."
   ]
  },
  {
   "cell_type": "markdown",
   "metadata": {},
   "source": [
    "# UNION"
   ]
  },
  {
   "cell_type": "code",
   "execution_count": 4,
   "metadata": {},
   "outputs": [],
   "source": [
    "SELECT '[0-5>' AS 'bin', SUM(duration/60 < 5) AS 'total'\n",
    "FROM Sessions\n",
    "\n",
    "UNION\n",
    "\n",
    "SELECT '[5-10>' AS 'bin', SUM(duration/60 >= 5 AND duration/60 < 10) AS 'total'\n",
    "FROM Sessions\n",
    "\n",
    "UNION\n",
    "\n",
    "SELECT '[10-15>' AS 'bin', SUM(duration/60 >= 10 AND duration/60 < 15) AS 'total'\n",
    "FROM Sessions\n",
    "\n",
    "UNION\n",
    "\n",
    "SELECT '15 or more' AS 'bin', SUM(duration/60 >= 15) AS 'total'\n",
    "FROM Sessions"
   ]
  }
 ],
 "metadata": {
  "kernelspec": {
   "display_name": "Python [conda env:base] *",
   "language": "python",
   "name": "conda-base-py"
  },
  "language_info": {
   "codemirror_mode": {
    "name": "ipython",
    "version": 3
   },
   "file_extension": ".py",
   "mimetype": "text/x-python",
   "name": "python",
   "nbconvert_exporter": "python",
   "pygments_lexer": "ipython3",
   "version": "3.12.7"
  }
 },
 "nbformat": 4,
 "nbformat_minor": 4
}
