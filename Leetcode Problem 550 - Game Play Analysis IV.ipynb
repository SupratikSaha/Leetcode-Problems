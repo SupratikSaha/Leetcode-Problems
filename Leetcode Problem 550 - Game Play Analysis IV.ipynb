{
 "cells": [
  {
   "cell_type": "markdown",
   "metadata": {},
   "source": [
    "Problem Statement.\n",
    "\n",
    "Table: Activity\n",
    "\n",
    "<br/>+--------------+---------+\n",
    "<br/>| Column Name  | Type    |\n",
    "<br/>+--------------+---------+\n",
    "<br/>| player_id    | int     |\n",
    "<br/>| device_id    | int     |\n",
    "<br/>| event_date   | date    |\n",
    "<br/>| games_played | int     |\n",
    "<br/>+--------------+---------+\n",
    "<br/>(player_id, event_date) is the primary key (combination of columns with unique values) of this table.\n",
    "This table shows the activity of players of some games.\n",
    "Each row is a record of a player who logged in and played a number of games (possibly 0) before logging out on someday using some device.\n",
    "\n",
    "Write a solution to report the fraction of players that logged in again on the day after the day they first logged in, rounded to 2 decimal places. In other words, you need to determine the number of players who logged in on the day immediately following their initial login, and divide it by the number of total players.\n",
    "\n",
    "The result format is in the following example.\n",
    "\n",
    " \n",
    "\n",
    "Example 1:\n",
    "\n",
    "Input: \n",
    "Activity table:\n",
    "<br/>+-----------+-----------+------------+--------------+\n",
    "<br/>| player_id | device_id | event_date | games_played |\n",
    "<br/>+-----------+-----------+------------+--------------+\n",
    "<br/>| 1         | 2         | 2016-03-01 | 5            |\n",
    "<br/>| 1         | 2         | 2016-03-02 | 6            |\n",
    "<br/>| 2         | 3         | 2017-06-25 | 1            |\n",
    "<br/>| 3         | 1         | 2016-03-02 | 0            |\n",
    "<br/>| 3         | 4         | 2018-07-03 | 5            |\n",
    "<br/>+-----------+-----------+------------+--------------+\n",
    "<br/>Output: \n",
    "<br/>+-----------+\n",
    "<br/>| fraction  |\n",
    "<br/>+-----------+\n",
    "<br/>| 0.33      |\n",
    "<br/>+-----------+\n",
    "Explanation: \n",
    "Only the player with id 1 logged back in after the first day he had logged in so the answer is 1/3 = 0.33"
   ]
  },
  {
   "cell_type": "markdown",
   "metadata": {},
   "source": [
    "# CTE"
   ]
  },
  {
   "cell_type": "code",
   "execution_count": 2,
   "metadata": {},
   "outputs": [],
   "source": [
    "# Write your MySQL query statement below\n",
    "WITH first_login AS (\n",
    "    SELECT\n",
    "        player_id,\n",
    "        MIN(event_date) AS first_login\n",
    "    FROM\n",
    "        Activity\n",
    "    GROUP BY \n",
    "        player_id\n",
    "),\n",
    "targeted_players AS (\n",
    "    SELECT \n",
    "        a.player_id\n",
    "    FROM \n",
    "        first_login a\n",
    "    JOIN \n",
    "        Activity b\n",
    "    ON a.player_id = b.player_id\n",
    "    AND DATEDIFF(b.event_date, a.first_login) = 1\n",
    ")\n",
    "SELECT \n",
    "    ROUND(COUNT(t.player_id) / COUNT(a.player_id), 2) AS fraction\n",
    "FROM\n",
    "    first_login a\n",
    "LEFT JOIN\n",
    "    targeted_players t\n",
    "ON a.player_id = t.player_id\n"
   ]
  }
 ],
 "metadata": {
  "kernelspec": {
   "display_name": "Python [conda env:base] *",
   "language": "python",
   "name": "conda-base-py"
  },
  "language_info": {
   "codemirror_mode": {
    "name": "ipython",
    "version": 3
   },
   "file_extension": ".py",
   "mimetype": "text/x-python",
   "name": "python",
   "nbconvert_exporter": "python",
   "pygments_lexer": "ipython3",
   "version": "3.12.7"
  }
 },
 "nbformat": 4,
 "nbformat_minor": 4
}
