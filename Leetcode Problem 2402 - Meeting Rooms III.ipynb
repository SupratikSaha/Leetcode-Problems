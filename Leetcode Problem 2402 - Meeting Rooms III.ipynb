{
 "cells": [
  {
   "cell_type": "markdown",
   "metadata": {},
   "source": [
    "Problem Statement.\n",
    "\n",
    "You are given an integer n. There are n rooms numbered from 0 to n - 1.\n",
    "\n",
    "You are given a 2D integer array meetings where meetings[i] = [starti, endi] means that a meeting will be held during the half-closed time interval [starti, endi). All the values of starti are unique.\n",
    "\n",
    "Meetings are allocated to rooms in the following manner:\n",
    "\n",
    "    Each meeting will take place in the unused room with the lowest number.\n",
    "    If there are no available rooms, the meeting will be delayed until a room becomes free. The delayed meeting should have the same duration as the original meeting.\n",
    "    When a room becomes unused, meetings that have an earlier original start time should be given the room.\n",
    "\n",
    "Return the number of the room that held the most meetings. If there are multiple rooms, return the room with the lowest number.\n",
    "\n",
    "A half-closed interval [a, b) is the interval between a and b including a and not including b.\n",
    "\n",
    " \n",
    "\n",
    "Example 1:\n",
    "\n",
    "Input: n = 2, meetings = [[0,10],[1,5],[2,7],[3,4]]\n",
    "Output: 0\n",
    "Explanation:\n",
    "- At time 0, both rooms are not being used. The first meeting starts in room 0.\n",
    "- At time 1, only room 1 is not being used. The second meeting starts in room 1.\n",
    "- At time 2, both rooms are being used. The third meeting is delayed.\n",
    "- At time 3, both rooms are being used. The fourth meeting is delayed.\n",
    "- At time 5, the meeting in room 1 finishes. The third meeting starts in room 1 for the time period [5,10).\n",
    "- At time 10, the meetings in both rooms finish. The fourth meeting starts in room 0 for the time period [10,11).\n",
    "Both rooms 0 and 1 held 2 meetings, so we return 0. \n",
    "\n",
    "Example 2:\n",
    "\n",
    "Input: n = 3, meetings = [[1,20],[2,10],[3,5],[4,9],[6,8]]\n",
    "Output: 1\n",
    "Explanation:\n",
    "- At time 1, all three rooms are not being used. The first meeting starts in room 0.\n",
    "- At time 2, rooms 1 and 2 are not being used. The second meeting starts in room 1.\n",
    "- At time 3, only room 2 is not being used. The third meeting starts in room 2.\n",
    "- At time 4, all three rooms are being used. The fourth meeting is delayed.\n",
    "- At time 5, the meeting in room 2 finishes. The fourth meeting starts in room 2 for the time period [5,10).\n",
    "- At time 6, all three rooms are being used. The fifth meeting is delayed.\n",
    "- At time 10, the meetings in rooms 1 and 2 finish. The fifth meeting starts in room 1 for the time period [10,12).\n",
    "Room 0 held 1 meeting while rooms 1 and 2 each held 2 meetings, so we return 1. \n",
    "\n",
    " \n",
    "\n",
    "Constraints:\n",
    "\n",
    "    1 <= n <= 100\n",
    "    1 <= meetings.length <= 105\n",
    "    meetings[i].length == 2\n",
    "    0 <= starti < endi <= 5 * 105\n",
    "    All the values of starti are unique."
   ]
  },
  {
   "cell_type": "markdown",
   "metadata": {},
   "source": [
    "# Count - O(M * LogM + M * N) runtime, O(M + N) space where M is the number of meetings and N is the number of rooms"
   ]
  },
  {
   "cell_type": "code",
   "execution_count": 7,
   "metadata": {},
   "outputs": [],
   "source": [
    "from typing import List\n",
    "\n",
    "class Solution:\n",
    "    def mostBooked(self, n: int, meetings: List[List[int]]) -> int:\n",
    "        room_availability_time = [0] * n\n",
    "        meeting_count = [0] * n\n",
    "        max_meetings = [0, 0]\n",
    "\n",
    "        for start, end in sorted(meetings):\n",
    "            min_room_availability_time = float('inf')\n",
    "            min_available_time_room = 0\n",
    "            room = None\n",
    "\n",
    "            for i in range(n):\n",
    "                if room_availability_time[i] <= start:\n",
    "                    room = i\n",
    "                    meeting_count[i] += 1\n",
    "                    room_availability_time[i] = end\n",
    "                    break\n",
    "                if min_room_availability_time > room_availability_time[i]:\n",
    "                    min_room_availability_time = room_availability_time[i]\n",
    "                    min_available_time_room = i\n",
    "            if room is None:\n",
    "                room = min_available_time_room\n",
    "                room_availability_time[room] += end - start\n",
    "                meeting_count[room] += 1\n",
    "\n",
    "            if max_meetings[0] < meeting_count[room] or (max_meetings[0] == meeting_count[room] and max_meetings[1] > room):\n",
    "                max_meetings = [meeting_count[room], room]\n",
    "\t\n",
    "        return max_meetings[1]"
   ]
  },
  {
   "cell_type": "markdown",
   "metadata": {},
   "source": [
    "# Heap - O(M * LogM + M * LogN) runtime, O(M + N) space where M is the number of meetings and N is the number of rooms"
   ]
  },
  {
   "cell_type": "code",
   "execution_count": 14,
   "metadata": {},
   "outputs": [],
   "source": [
    "from typing import List\n",
    "from heapq import heappush, heappop\n",
    "\n",
    "class Solution:\n",
    "    def mostBooked(self, n: int, meetings: List[List[int]]) -> int:\n",
    "        free = [i for i in range(n)]\n",
    "        in_use = []\n",
    "        meeting_counter = [0] * n\n",
    "        max_meetings = [0, 0]\n",
    "\n",
    "        meetings.sort()\n",
    "\n",
    "        for [start, end] in meetings:\n",
    "            while in_use and start >= in_use[0][0]:\n",
    "                heappush(free, heappop(in_use)[1])\n",
    "            if free:\n",
    "                prev_end, room = start, heappop(free)\n",
    "            else:\n",
    "                prev_end, room = heappop(in_use)\n",
    "\n",
    "            end_time = prev_end + (end - start) if prev_end > start else end\n",
    "            heappush(in_use, (end_time, room))\n",
    "            meeting_counter[room] += 1\n",
    "            \n",
    "            if max_meetings[0] < meeting_counter[room] or (max_meetings[0] == meeting_counter[room] and max_meetings[1] > room):\n",
    "                max_meetings = [meeting_counter[room], room]\n",
    "            \n",
    "\n",
    "        return max_meetings[1]"
   ]
  },
  {
   "cell_type": "code",
   "execution_count": 16,
   "metadata": {},
   "outputs": [
    {
     "data": {
      "text/plain": [
       "0"
      ]
     },
     "execution_count": 16,
     "metadata": {},
     "output_type": "execute_result"
    }
   ],
   "source": [
    "instance = Solution()\n",
    "instance.mostBooked(2, [[0,10],[1,5],[2,7],[3,4]])"
   ]
  }
 ],
 "metadata": {
  "kernelspec": {
   "display_name": "Python [conda env:base] *",
   "language": "python",
   "name": "conda-base-py"
  },
  "language_info": {
   "codemirror_mode": {
    "name": "ipython",
    "version": 3
   },
   "file_extension": ".py",
   "mimetype": "text/x-python",
   "name": "python",
   "nbconvert_exporter": "python",
   "pygments_lexer": "ipython3",
   "version": "3.12.7"
  }
 },
 "nbformat": 4,
 "nbformat_minor": 4
}
