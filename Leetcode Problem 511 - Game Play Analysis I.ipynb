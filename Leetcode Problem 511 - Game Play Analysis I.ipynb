{
 "cells": [
  {
   "cell_type": "markdown",
   "metadata": {},
   "source": [
    "Problem Statement.\n",
    "\n",
    "Table: Activity\n",
    "\n",
    "<br/>+--------------+---------+\n",
    "<br/>| Column Name  | Type    |\n",
    "<br/>+--------------+---------+\n",
    "<br/>| player_id    | int     |\n",
    "<br/>| device_id    | int     |\n",
    "<br/>| event_date   | date    |\n",
    "<br/>| games_played | int     |\n",
    "<br/>+--------------+---------+\n",
    "(player_id, event_date) is the primary key (combination of columns with unique values) of this table.\n",
    "This table shows the activity of players of some games.\n",
    "Each row is a record of a player who logged in and played a number of games (possibly 0) before logging out on someday using some device.\n",
    "\n",
    " \n",
    "\n",
    "Write a solution to find the first login date for each player.\n",
    "\n",
    "Return the result table in any order.\n",
    "\n",
    "The result format is in the following example.\n",
    "\n",
    " \n",
    "\n",
    "Example 1:\n",
    "\n",
    "Input: \n",
    "Activity table:\n",
    "<br/>+-----------+-----------+------------+--------------+\n",
    "<br/>| player_id | device_id | event_date | games_played |\n",
    "<br/>+-----------+-----------+------------+--------------+\n",
    "<br/>| 1         | 2         | 2016-03-01 | 5            |\n",
    "<br/>| 1         | 2         | 2016-05-02 | 6            |\n",
    "<br/>| 2         | 3         | 2017-06-25 | 1            |\n",
    "<br/>| 3         | 1         | 2016-03-02 | 0            |\n",
    "<br/>| 3         | 4         | 2018-07-03 | 5            |\n",
    "<br/>+-----------+-----------+------------+--------------+\n",
    "<br/>Output: \n",
    "<br/>+-----------+-------------+\n",
    "<br/>| player_id | first_login |\n",
    "<br/>+-----------+-------------+\n",
    "<br/>| 1         | 2016-03-01  |\n",
    "<br/>| 2         | 2017-06-25  |\n",
    "<br/>| 3         | 2016-03-02  |\n",
    "<br/>+-----------+-------------+"
   ]
  },
  {
   "cell_type": "markdown",
   "metadata": {},
   "source": [
    "# GROUP BY"
   ]
  },
  {
   "cell_type": "code",
   "execution_count": 1,
   "metadata": {},
   "outputs": [],
   "source": [
    "SELECT\n",
    "    player_id,\n",
    "    MIN(event_date) AS first_login\n",
    "FROM Activity\n",
    "GROUP BY player_id"
   ]
  }
 ],
 "metadata": {
  "kernelspec": {
   "display_name": "Python [conda env:base] *",
   "language": "python",
   "name": "conda-base-py"
  },
  "language_info": {
   "codemirror_mode": {
    "name": "ipython",
    "version": 3
   },
   "file_extension": ".py",
   "mimetype": "text/x-python",
   "name": "python",
   "nbconvert_exporter": "python",
   "pygments_lexer": "ipython3",
   "version": "3.12.7"
  }
 },
 "nbformat": 4,
 "nbformat_minor": 4
}
