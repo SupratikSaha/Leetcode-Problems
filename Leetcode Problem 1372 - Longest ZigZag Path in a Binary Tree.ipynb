{
 "cells": [
  {
   "cell_type": "markdown",
   "metadata": {},
   "source": [
    "Problem Statement.\n",
    "\n",
    "You are given the root of a binary tree.\n",
    "\n",
    "A ZigZag path for a binary tree is defined as follow:\n",
    "\n",
    "    Choose any node in the binary tree and a direction (right or left).\n",
    "    If the current direction is right, move to the right child of the current node; otherwise, move to the left child.\n",
    "    Change the direction from right to left or from left to right.\n",
    "    Repeat the second and third steps until you can't move in the tree.\n",
    "\n",
    "Zigzag length is defined as the number of nodes visited - 1. (A single node has a length of 0).\n",
    "\n",
    "Return the longest ZigZag path contained in that tree.\n",
    "\n",
    " \n",
    "\n",
    "Example 1:\n",
    "\n",
    "Input: root = [1,null,1,1,1,null,null,1,1,null,1,null,null,null,1]\n",
    "Output: 3\n",
    "Explanation: Longest ZigZag path in blue nodes (right -> left -> right).\n",
    "\n",
    "Example 2:\n",
    "\n",
    "Input: root = [1,1,1,null,1,null,null,1,1,null,1]\n",
    "Output: 4\n",
    "Explanation: Longest ZigZag path in blue nodes (left -> right -> left -> right).\n",
    "\n",
    "Example 3:\n",
    "\n",
    "Input: root = [1]\n",
    "Output: 0\n",
    "\n",
    " \n",
    "\n",
    "Constraints:\n",
    "\n",
    "    The number of nodes in the tree is in the range [1, 5 * 104].\n",
    "    1 <= Node.val <= 100"
   ]
  },
  {
   "cell_type": "markdown",
   "metadata": {},
   "source": [
    "# DFS - O(N) runtime, O(N) space"
   ]
  },
  {
   "cell_type": "code",
   "execution_count": 7,
   "metadata": {},
   "outputs": [],
   "source": [
    "from typing import Optional\n",
    "# Definition for a binary tree node.\n",
    "# class TreeNode:\n",
    "#     def __init__(self, val=0, left=None, right=None):\n",
    "#         self.val = val\n",
    "#         self.left = left\n",
    "#         self.right = right\n",
    "\n",
    "class Solution:\n",
    "    def longestZigZag(self, root: Optional[TreeNode]) -> int:\n",
    "\n",
    "        def count_zig_zag(node, is_left_entry, path_val):\n",
    "            if not node: return\n",
    "\n",
    "            self.max_path = max(self.max_path, path_val+1)\n",
    "            if is_left_entry:\n",
    "                count_zig_zag(node.right, 0, path_val+1)\n",
    "                count_zig_zag(node.left, 1, 0)\n",
    "            else:\n",
    "                count_zig_zag(node.left, 1, path_val+1)\n",
    "                count_zig_zag(node.right, 0, 0)\n",
    "            \n",
    "        self.max_path = -1\n",
    "        count_zig_zag(root, 1, -1)\n",
    "\n",
    "        return self.max_path\n"
   ]
  },
  {
   "cell_type": "code",
   "execution_count": null,
   "metadata": {},
   "outputs": [],
   "source": [
    "instance = Soluyion()\n",
    "instance.count_zig_zag([1])"
   ]
  }
 ],
 "metadata": {
  "kernelspec": {
   "display_name": "Python [conda env:base] *",
   "language": "python",
   "name": "conda-base-py"
  },
  "language_info": {
   "codemirror_mode": {
    "name": "ipython",
    "version": 3
   },
   "file_extension": ".py",
   "mimetype": "text/x-python",
   "name": "python",
   "nbconvert_exporter": "python",
   "pygments_lexer": "ipython3",
   "version": "3.12.7"
  }
 },
 "nbformat": 4,
 "nbformat_minor": 4
}
