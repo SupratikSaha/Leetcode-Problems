{
 "cells": [
  {
   "cell_type": "markdown",
   "metadata": {},
   "source": [
    "    Problem Statement.\n",
    "        \n",
    "    Table: RequestAccepted\n",
    "    \n",
    "    +----------------+---------+\n",
    "    | Column Name    | Type    |\n",
    "    +----------------+---------+\n",
    "    | requester_id   | int     |\n",
    "    | accepter_id    | int     |\n",
    "    | accept_date    | date    |\n",
    "    +----------------+---------+\n",
    "    (requester_id, accepter_id) is the primary key (combination of columns with unique values) for this table.\n",
    "    This table contains the ID of the user who sent the request, the ID of the user who received the request, and the date when the request was accepted.\n",
    "    \n",
    "     \n",
    "    \n",
    "    Write a solution to find the people who have the most friends and the most friends number.\n",
    "    \n",
    "    The test cases are generated so that only one person has the most friends.\n",
    "    \n",
    "    The result format is in the following example.\n",
    "    \n",
    "     \n",
    "    \n",
    "    Example 1:\n",
    "    \n",
    "    Input: \n",
    "    RequestAccepted table:\n",
    "    +--------------+-------------+-------------+\n",
    "    | requester_id | accepter_id | accept_date |\n",
    "    +--------------+-------------+-------------+\n",
    "    | 1            | 2           | 2016/06/03  |\n",
    "    | 1            | 3           | 2016/06/08  |\n",
    "    | 2            | 3           | 2016/06/08  |\n",
    "    | 3            | 4           | 2016/06/09  |\n",
    "    +--------------+-------------+-------------+\n",
    "    Output: \n",
    "    +----+-----+\n",
    "    | id | num |\n",
    "    +----+-----+\n",
    "    | 3  | 3   |\n",
    "    +----+-----+\n",
    "    Explanation: \n",
    "    The person with id 3 is a friend of people 1, 2, and 4, so he has three friends in total, which is the most number than any others.\n",
    "    \n",
    "     \n",
    "    \n",
    "    Follow up: In the real world, multiple people could have the same most number of friends. Could you find all these people in this case?\n",
    "    \n",
    "    \n",
    "        \n"
   ]
  },
  {
   "cell_type": "markdown",
   "metadata": {},
   "source": [
    "# RANK"
   ]
  },
  {
   "cell_type": "code",
   "execution_count": 2,
   "metadata": {},
   "outputs": [],
   "source": [
    "WITH all_ids AS (\n",
    "   SELECT requester_id AS id \n",
    "   FROM RequestAccepted\n",
    "   UNION ALL\n",
    "   SELECT accepter_id AS id\n",
    "   FROM RequestAccepted)\n",
    "SELECT id, num\n",
    "FROM \n",
    "   (\n",
    "   SELECT id, \n",
    "      COUNT(id) AS num, \n",
    "      RANK () OVER(ORDER BY COUNT(id) DESC) AS rnk\n",
    "   FROM all_ids\n",
    "   GROUP BY id\n",
    "   )t0\n",
    "WHERE rnk=1"
   ]
  },
  {
   "cell_type": "markdown",
   "metadata": {},
   "source": [
    "# UNION ALL"
   ]
  },
  {
   "cell_type": "code",
   "execution_count": null,
   "metadata": {},
   "outputs": [],
   "source": [
    "WITH friends AS (\n",
    "    SELECT\n",
    "        requester_id AS id\n",
    "    FROM RequestAccepted\n",
    "\n",
    "    UNION ALL\n",
    "\n",
    "    SELECT\n",
    "        accepter_id  AS id\n",
    "    FROM RequestAccepted\n",
    ")\n",
    "SELECT \n",
    "    id,\n",
    "    COUNT(*) AS num\n",
    "FROM friends\n",
    "GROUP BY id\n",
    "ORDER BY 2 DESC\n",
    "LIMIT 1"
   ]
  }
 ],
 "metadata": {
  "kernelspec": {
   "display_name": "Python [conda env:base] *",
   "language": "python",
   "name": "conda-base-py"
  },
  "language_info": {
   "codemirror_mode": {
    "name": "ipython",
    "version": 3
   },
   "file_extension": ".py",
   "mimetype": "text/x-python",
   "name": "python",
   "nbconvert_exporter": "python",
   "pygments_lexer": "ipython3",
   "version": "3.12.7"
  }
 },
 "nbformat": 4,
 "nbformat_minor": 4
}
