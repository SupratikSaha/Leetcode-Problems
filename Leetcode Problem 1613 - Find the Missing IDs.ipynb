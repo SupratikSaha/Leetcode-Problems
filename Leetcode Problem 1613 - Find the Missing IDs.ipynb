{
 "cells": [
  {
   "cell_type": "markdown",
   "metadata": {},
   "source": [
    "    Problem Statement.\n",
    "    \n",
    "    Table: Customers\n",
    "    \n",
    "    +---------------+---------+\n",
    "    | Column Name   | Type    |\n",
    "    +---------------+---------+\n",
    "    | customer_id   | int     |\n",
    "    | customer_name | varchar |\n",
    "    +---------------+---------+\n",
    "    customer_id is the column with unique values for this table.\n",
    "    Each row of this table contains the name and the id customer.\n",
    "    \n",
    "     \n",
    "    \n",
    "    Write a solution to find the missing customer IDs. The missing IDs are ones that are not in the Customers table but are in the range between 1 and the maximum customer_id present in the table.\n",
    "    \n",
    "    Notice that the maximum customer_id will not exceed 100.\n",
    "    \n",
    "    Return the result table ordered by ids in ascending order.\n",
    "    \n",
    "    The result format is in the following example.\n",
    "    \n",
    "     \n",
    "    \n",
    "    Example 1:\n",
    "    \n",
    "    Input: \n",
    "    Customers table:\n",
    "    +-------------+---------------+\n",
    "    | customer_id | customer_name |\n",
    "    +-------------+---------------+\n",
    "    | 1           | Alice         |\n",
    "    | 4           | Bob           |\n",
    "    | 5           | Charlie       |\n",
    "    +-------------+---------------+\n",
    "    Output: \n",
    "    +-----+\n",
    "    | ids |\n",
    "    +-----+\n",
    "    | 2   |\n",
    "    | 3   |\n",
    "    +-----+\n",
    "    Explanation: \n",
    "    The maximum customer_id present in the table is 5, so in the range [1,5], IDs 2 and 3 are missing from the table.\n"
   ]
  },
  {
   "cell_type": "markdown",
   "metadata": {},
   "source": [
    "# RECURSIVE"
   ]
  },
  {
   "cell_type": "code",
   "execution_count": 1,
   "metadata": {},
   "outputs": [],
   "source": [
    "WITH RECURSIVE cte AS(\n",
    "    SELECT \n",
    "        1 AS customer_id\n",
    "    UNION ALL\n",
    "    SELECT \n",
    "        customer_id+1\n",
    "    FROM cte \n",
    "    WHERE customer_id < (SELECT MAX(customer_id ) FROM Customers)\n",
    ")\n",
    "SELECT \n",
    "    customer_id AS ids\n",
    "FROM cte\n",
    "WHERE customer_id NOT IN (SELECT customer_id from Customers)\n",
    "ORDER BY customer_id"
   ]
  }
 ],
 "metadata": {
  "kernelspec": {
   "display_name": "Python [conda env:base] *",
   "language": "python",
   "name": "conda-base-py"
  },
  "language_info": {
   "codemirror_mode": {
    "name": "ipython",
    "version": 3
   },
   "file_extension": ".py",
   "mimetype": "text/x-python",
   "name": "python",
   "nbconvert_exporter": "python",
   "pygments_lexer": "ipython3",
   "version": "3.12.7"
  }
 },
 "nbformat": 4,
 "nbformat_minor": 4
}
