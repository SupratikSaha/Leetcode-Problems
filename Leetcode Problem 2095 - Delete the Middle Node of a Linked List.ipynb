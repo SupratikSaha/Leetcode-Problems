{
 "cells": [
  {
   "cell_type": "markdown",
   "metadata": {},
   "source": [
    "Problem Statement.\n",
    "\n",
    "You are given the head of a linked list. Delete the middle node, and return the head of the modified linked list.\n",
    "\n",
    "The middle node of a linked list of size n is the ⌊n / 2⌋th node from the start using 0-based indexing, where ⌊x⌋ denotes the largest integer less than or equal to x.\n",
    "\n",
    "    For n = 1, 2, 3, 4, and 5, the middle nodes are 0, 1, 1, 2, and 2, respectively.\n",
    "\n",
    " \n",
    "\n",
    "Example 1:\n",
    "\n",
    "Input: head = [1,3,4,7,1,2,6]\n",
    "Output: [1,3,4,1,2,6]\n",
    "Explanation:\n",
    "The above figure represents the given linked list. The indices of the nodes are written below.\n",
    "Since n = 7, node 3 with value 7 is the middle node, which is marked in red.\n",
    "We return the new list after removing this node. \n",
    "\n",
    "Example 2:\n",
    "\n",
    "Input: head = [1,2,3,4]\n",
    "Output: [1,2,4]\n",
    "Explanation:\n",
    "The above figure represents the given linked list.\n",
    "For n = 4, node 2 with value 3 is the middle node, which is marked in red.\n",
    "\n",
    "Example 3:\n",
    "\n",
    "Input: head = [2,1]\n",
    "Output: [2]\n",
    "Explanation:\n",
    "The above figure represents the given linked list.\n",
    "For n = 2, node 1 with value 1 is the middle node, which is marked in red.\n",
    "Node 0 with value 2 is the only node remaining after removing node 1.\n",
    "\n",
    " \n",
    "\n",
    "Constraints:\n",
    "\n",
    "    The number of nodes in the list is in the range [1, 105].\n",
    "    1 <= Node.val <= 105"
   ]
  },
  {
   "cell_type": "markdown",
   "metadata": {},
   "source": [
    "# Slow and fast Pointers- O(N) runtime, O(1) space"
   ]
  },
  {
   "cell_type": "code",
   "execution_count": 5,
   "metadata": {},
   "outputs": [],
   "source": [
    "from typing import Optional\n",
    "\n",
    "# Definition for singly-linked list.\n",
    "# class ListNode:\n",
    "#     def __init__(self, val=0, next=None):\n",
    "#         self.val = val\n",
    "#         self.next = next\n",
    "\n",
    "class Solution:\n",
    "    def deleteMiddle(self, head: Optional[ListNode]) -> Optional[ListNode]:\n",
    "        if not head or not head.next: return None\n",
    "        prev, slow, fast = None, head, head\n",
    "\n",
    "        while fast and fast.next:\n",
    "            prev, slow, fast = slow, slow.next, fast.next.next\n",
    "\n",
    "        \n",
    "        prev.next = slow.next\n",
    "        return head"
   ]
  },
  {
   "cell_type": "code",
   "execution_count": null,
   "metadata": {},
   "outputs": [],
   "source": [
    "instance = Solution()\n",
    "instance.deleteMiddle( [1,3,4,7,1,2,6])"
   ]
  }
 ],
 "metadata": {
  "kernelspec": {
   "display_name": "Python [conda env:base] *",
   "language": "python",
   "name": "conda-base-py"
  },
  "language_info": {
   "codemirror_mode": {
    "name": "ipython",
    "version": 3
   },
   "file_extension": ".py",
   "mimetype": "text/x-python",
   "name": "python",
   "nbconvert_exporter": "python",
   "pygments_lexer": "ipython3",
   "version": "3.12.7"
  }
 },
 "nbformat": 4,
 "nbformat_minor": 4
}
