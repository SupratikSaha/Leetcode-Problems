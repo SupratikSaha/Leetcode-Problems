{
 "cells": [
  {
   "cell_type": "markdown",
   "metadata": {},
   "source": [
    "Problem Statement.\n",
    "\n",
    "You are given two strings s1 and s2 of equal length. A string swap is an operation where you choose two indices in a string (not necessarily different) and swap the characters at these indices.\n",
    "\n",
    "Return true if it is possible to make both strings equal by performing at most one string swap on exactly one of the strings. Otherwise, return false.\n",
    "\n",
    " \n",
    "\n",
    "Example 1:\n",
    "\n",
    "Input: s1 = \"bank\", s2 = \"kanb\"\n",
    "Output: true\n",
    "Explanation: For example, swap the first character with the last character of s2 to make \"bank\".\n",
    "\n",
    "Example 2:\n",
    "\n",
    "Input: s1 = \"attack\", s2 = \"defend\"\n",
    "Output: false\n",
    "Explanation: It is impossible to make them equal with one string swap.\n",
    "\n",
    "Example 3:\n",
    "\n",
    "Input: s1 = \"kelb\", s2 = \"kelb\"\n",
    "Output: true\n",
    "Explanation: The two strings are already equal, so no string swap operation is required.\n",
    "\n",
    " \n",
    "\n",
    "Constraints:\n",
    "\n",
    "    1 <= s1.length, s2.length <= 100\n",
    "    s1.length == s2.length\n",
    "    s1 and s2 consist of only lowercase English letters."
   ]
  },
  {
   "cell_type": "markdown",
   "metadata": {},
   "source": [
    "# Linear - O(N) runtime, O(1) space "
   ]
  },
  {
   "cell_type": "code",
   "execution_count": 3,
   "metadata": {},
   "outputs": [],
   "source": [
    "class Solution:\n",
    "    def areAlmostEqual(self, s1: str, s2: str) -> bool:\n",
    "        num_diffs = 0\n",
    "        for a, b in zip(s1, s2):\n",
    "            if a != b:\n",
    "                num_diffs += 1\n",
    "                if num_diffs == 1:\n",
    "                    s1_char, s2_char = a, b\n",
    "                elif num_diffs == 2:\n",
    "                    if a != s2_char or b != s1_char: return False\n",
    "                else:\n",
    "                    return False\n",
    "\n",
    "        return num_diffs != 1"
   ]
  },
  {
   "cell_type": "code",
   "execution_count": 5,
   "metadata": {},
   "outputs": [
    {
     "data": {
      "text/plain": [
       "True"
      ]
     },
     "execution_count": 5,
     "metadata": {},
     "output_type": "execute_result"
    }
   ],
   "source": [
    "instance = Solution()\n",
    "instance.areAlmostEqual(\"bank\", \"kanb\")"
   ]
  }
 ],
 "metadata": {
  "kernelspec": {
   "display_name": "Python [conda env:base] *",
   "language": "python",
   "name": "conda-base-py"
  },
  "language_info": {
   "codemirror_mode": {
    "name": "ipython",
    "version": 3
   },
   "file_extension": ".py",
   "mimetype": "text/x-python",
   "name": "python",
   "nbconvert_exporter": "python",
   "pygments_lexer": "ipython3",
   "version": "3.12.7"
  }
 },
 "nbformat": 4,
 "nbformat_minor": 4
}
